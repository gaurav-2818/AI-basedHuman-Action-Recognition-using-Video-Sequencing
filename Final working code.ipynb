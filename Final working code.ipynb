{
 "cells": [
  {
   "cell_type": "code",
   "execution_count": 108,
   "metadata": {},
   "outputs": [],
   "source": [
    "import pandas as pd"
   ]
  },
  {
   "cell_type": "code",
   "execution_count": 109,
   "metadata": {},
   "outputs": [],
   "source": [
    "df = pd.read_csv(r\"C:\\Users\\srika\\Dropbox\\PC\\Downloads\\Twitter-Hate-Speech-Detection-master\\Twitter-Hate-Speech-Detection-master\\Hate_Speech_nonan.csv\")"
   ]
  },
  {
   "cell_type": "code",
   "execution_count": 110,
   "metadata": {},
   "outputs": [],
   "source": [
    "import numpy as np"
   ]
  },
  {
   "cell_type": "code",
   "execution_count": 111,
   "metadata": {
    "scrolled": true
   },
   "outputs": [
    {
     "data": {
      "text/html": [
       "<div>\n",
       "<style scoped>\n",
       "    .dataframe tbody tr th:only-of-type {\n",
       "        vertical-align: middle;\n",
       "    }\n",
       "\n",
       "    .dataframe tbody tr th {\n",
       "        vertical-align: top;\n",
       "    }\n",
       "\n",
       "    .dataframe thead th {\n",
       "        text-align: right;\n",
       "    }\n",
       "</style>\n",
       "<table border=\"1\" class=\"dataframe\">\n",
       "  <thead>\n",
       "    <tr style=\"text-align: right;\">\n",
       "      <th></th>\n",
       "      <th>Unnamed: 0</th>\n",
       "      <th>label</th>\n",
       "      <th>clean_tweet</th>\n",
       "    </tr>\n",
       "  </thead>\n",
       "  <tbody>\n",
       "    <tr>\n",
       "      <th>0</th>\n",
       "      <td>0</td>\n",
       "      <td>0</td>\n",
       "      <td>father dysfunct selfish drag kid dysfunction. ...</td>\n",
       "    </tr>\n",
       "    <tr>\n",
       "      <th>1</th>\n",
       "      <td>1</td>\n",
       "      <td>0</td>\n",
       "      <td>thank #lyft credit can't use caus offer wheelc...</td>\n",
       "    </tr>\n",
       "    <tr>\n",
       "      <th>2</th>\n",
       "      <td>2</td>\n",
       "      <td>0</td>\n",
       "      <td>bihday majesti</td>\n",
       "    </tr>\n",
       "    <tr>\n",
       "      <th>3</th>\n",
       "      <td>3</td>\n",
       "      <td>0</td>\n",
       "      <td>#model love u take u time urd+-!!! dddd d|d|d|</td>\n",
       "    </tr>\n",
       "    <tr>\n",
       "      <th>4</th>\n",
       "      <td>4</td>\n",
       "      <td>0</td>\n",
       "      <td>factsguide: societi #motiv</td>\n",
       "    </tr>\n",
       "  </tbody>\n",
       "</table>\n",
       "</div>"
      ],
      "text/plain": [
       "   Unnamed: 0  label                                        clean_tweet\n",
       "0           0      0  father dysfunct selfish drag kid dysfunction. ...\n",
       "1           1      0  thank #lyft credit can't use caus offer wheelc...\n",
       "2           2      0                                     bihday majesti\n",
       "3           3      0     #model love u take u time urd+-!!! dddd d|d|d|\n",
       "4           4      0                         factsguide: societi #motiv"
      ]
     },
     "execution_count": 111,
     "metadata": {},
     "output_type": "execute_result"
    }
   ],
   "source": [
    "df.head()"
   ]
  },
  {
   "cell_type": "code",
   "execution_count": 112,
   "metadata": {},
   "outputs": [],
   "source": [
    "df = df.drop(['Unnamed: 0'], axis = 1)"
   ]
  },
  {
   "cell_type": "code",
   "execution_count": 113,
   "metadata": {},
   "outputs": [
    {
     "data": {
      "text/html": [
       "<div>\n",
       "<style scoped>\n",
       "    .dataframe tbody tr th:only-of-type {\n",
       "        vertical-align: middle;\n",
       "    }\n",
       "\n",
       "    .dataframe tbody tr th {\n",
       "        vertical-align: top;\n",
       "    }\n",
       "\n",
       "    .dataframe thead th {\n",
       "        text-align: right;\n",
       "    }\n",
       "</style>\n",
       "<table border=\"1\" class=\"dataframe\">\n",
       "  <thead>\n",
       "    <tr style=\"text-align: right;\">\n",
       "      <th></th>\n",
       "      <th>label</th>\n",
       "      <th>clean_tweet</th>\n",
       "    </tr>\n",
       "  </thead>\n",
       "  <tbody>\n",
       "    <tr>\n",
       "      <th>0</th>\n",
       "      <td>0</td>\n",
       "      <td>father dysfunct selfish drag kid dysfunction. ...</td>\n",
       "    </tr>\n",
       "    <tr>\n",
       "      <th>1</th>\n",
       "      <td>0</td>\n",
       "      <td>thank #lyft credit can't use caus offer wheelc...</td>\n",
       "    </tr>\n",
       "    <tr>\n",
       "      <th>2</th>\n",
       "      <td>0</td>\n",
       "      <td>bihday majesti</td>\n",
       "    </tr>\n",
       "    <tr>\n",
       "      <th>3</th>\n",
       "      <td>0</td>\n",
       "      <td>#model love u take u time urd+-!!! dddd d|d|d|</td>\n",
       "    </tr>\n",
       "    <tr>\n",
       "      <th>4</th>\n",
       "      <td>0</td>\n",
       "      <td>factsguide: societi #motiv</td>\n",
       "    </tr>\n",
       "  </tbody>\n",
       "</table>\n",
       "</div>"
      ],
      "text/plain": [
       "   label                                        clean_tweet\n",
       "0      0  father dysfunct selfish drag kid dysfunction. ...\n",
       "1      0  thank #lyft credit can't use caus offer wheelc...\n",
       "2      0                                     bihday majesti\n",
       "3      0     #model love u take u time urd+-!!! dddd d|d|d|\n",
       "4      0                         factsguide: societi #motiv"
      ]
     },
     "execution_count": 113,
     "metadata": {},
     "output_type": "execute_result"
    }
   ],
   "source": [
    "df.head()"
   ]
  },
  {
   "cell_type": "code",
   "execution_count": 114,
   "metadata": {},
   "outputs": [
    {
     "data": {
      "text/plain": [
       "(31962, 2)"
      ]
     },
     "execution_count": 114,
     "metadata": {},
     "output_type": "execute_result"
    }
   ],
   "source": [
    "df.shape"
   ]
  },
  {
   "cell_type": "code",
   "execution_count": 115,
   "metadata": {},
   "outputs": [],
   "source": [
    "dff = df.drop(['label'], axis = 1)"
   ]
  },
  {
   "cell_type": "code",
   "execution_count": 116,
   "metadata": {},
   "outputs": [
    {
     "data": {
      "text/html": [
       "<div>\n",
       "<style scoped>\n",
       "    .dataframe tbody tr th:only-of-type {\n",
       "        vertical-align: middle;\n",
       "    }\n",
       "\n",
       "    .dataframe tbody tr th {\n",
       "        vertical-align: top;\n",
       "    }\n",
       "\n",
       "    .dataframe thead th {\n",
       "        text-align: right;\n",
       "    }\n",
       "</style>\n",
       "<table border=\"1\" class=\"dataframe\">\n",
       "  <thead>\n",
       "    <tr style=\"text-align: right;\">\n",
       "      <th></th>\n",
       "      <th>clean_tweet</th>\n",
       "    </tr>\n",
       "  </thead>\n",
       "  <tbody>\n",
       "    <tr>\n",
       "      <th>0</th>\n",
       "      <td>father dysfunct selfish drag kid dysfunction. ...</td>\n",
       "    </tr>\n",
       "    <tr>\n",
       "      <th>1</th>\n",
       "      <td>thank #lyft credit can't use caus offer wheelc...</td>\n",
       "    </tr>\n",
       "    <tr>\n",
       "      <th>2</th>\n",
       "      <td>bihday majesti</td>\n",
       "    </tr>\n",
       "    <tr>\n",
       "      <th>3</th>\n",
       "      <td>#model love u take u time urd+-!!! dddd d|d|d|</td>\n",
       "    </tr>\n",
       "    <tr>\n",
       "      <th>4</th>\n",
       "      <td>factsguide: societi #motiv</td>\n",
       "    </tr>\n",
       "  </tbody>\n",
       "</table>\n",
       "</div>"
      ],
      "text/plain": [
       "                                         clean_tweet\n",
       "0  father dysfunct selfish drag kid dysfunction. ...\n",
       "1  thank #lyft credit can't use caus offer wheelc...\n",
       "2                                     bihday majesti\n",
       "3     #model love u take u time urd+-!!! dddd d|d|d|\n",
       "4                         factsguide: societi #motiv"
      ]
     },
     "execution_count": 116,
     "metadata": {},
     "output_type": "execute_result"
    }
   ],
   "source": [
    "dff.head()"
   ]
  },
  {
   "cell_type": "code",
   "execution_count": 117,
   "metadata": {},
   "outputs": [],
   "source": [
    "from sklearn.model_selection import train_test_split\n",
    "X_temp, X_test, y_temp, y_test = train_test_split(dff, list(df.label), test_size=0.1)"
   ]
  },
  {
   "cell_type": "code",
   "execution_count": 118,
   "metadata": {},
   "outputs": [
    {
     "data": {
      "text/plain": [
       "(3197, 1)"
      ]
     },
     "execution_count": 118,
     "metadata": {},
     "output_type": "execute_result"
    }
   ],
   "source": [
    "X_test.shape"
   ]
  },
  {
   "cell_type": "code",
   "execution_count": 119,
   "metadata": {},
   "outputs": [
    {
     "data": {
      "text/plain": [
       "(28765, 1)"
      ]
     },
     "execution_count": 119,
     "metadata": {},
     "output_type": "execute_result"
    }
   ],
   "source": [
    "X_temp.shape"
   ]
  },
  {
   "cell_type": "code",
   "execution_count": 120,
   "metadata": {},
   "outputs": [
    {
     "data": {
      "text/plain": [
       "3197"
      ]
     },
     "execution_count": 120,
     "metadata": {},
     "output_type": "execute_result"
    }
   ],
   "source": [
    "len(y_test)"
   ]
  },
  {
   "cell_type": "code",
   "execution_count": null,
   "metadata": {},
   "outputs": [],
   "source": []
  },
  {
   "cell_type": "code",
   "execution_count": 121,
   "metadata": {},
   "outputs": [
    {
     "data": {
      "text/plain": [
       "list"
      ]
     },
     "execution_count": 121,
     "metadata": {},
     "output_type": "execute_result"
    }
   ],
   "source": [
    "type(y_temp)"
   ]
  },
  {
   "cell_type": "code",
   "execution_count": 122,
   "metadata": {},
   "outputs": [],
   "source": [
    "X_temp['label'] = y_temp"
   ]
  },
  {
   "cell_type": "code",
   "execution_count": 123,
   "metadata": {},
   "outputs": [
    {
     "data": {
      "text/html": [
       "<div>\n",
       "<style scoped>\n",
       "    .dataframe tbody tr th:only-of-type {\n",
       "        vertical-align: middle;\n",
       "    }\n",
       "\n",
       "    .dataframe tbody tr th {\n",
       "        vertical-align: top;\n",
       "    }\n",
       "\n",
       "    .dataframe thead th {\n",
       "        text-align: right;\n",
       "    }\n",
       "</style>\n",
       "<table border=\"1\" class=\"dataframe\">\n",
       "  <thead>\n",
       "    <tr style=\"text-align: right;\">\n",
       "      <th></th>\n",
       "      <th>clean_tweet</th>\n",
       "      <th>label</th>\n",
       "    </tr>\n",
       "  </thead>\n",
       "  <tbody>\n",
       "    <tr>\n",
       "      <th>31565</th>\n",
       "      <td>ahhhh let mad unravel d-ddddai,d 3/4</td>\n",
       "      <td>0</td>\n",
       "    </tr>\n",
       "    <tr>\n",
       "      <th>14660</th>\n",
       "      <td>#music #therapi tool #healing! #altwaystoh #he...</td>\n",
       "      <td>0</td>\n",
       "    </tr>\n",
       "    <tr>\n",
       "      <th>20230</th>\n",
       "      <td>go today noth lose. athena xxa$?i,#fridaymorn ...</td>\n",
       "      <td>0</td>\n",
       "    </tr>\n",
       "    <tr>\n",
       "      <th>10902</th>\n",
       "      <td>first news see morn #orlandoshoot</td>\n",
       "      <td>0</td>\n",
       "    </tr>\n",
       "    <tr>\n",
       "      <th>7468</th>\n",
       "      <td>feel good a$?i, lost 4st 8.5lb year year #slim...</td>\n",
       "      <td>0</td>\n",
       "    </tr>\n",
       "  </tbody>\n",
       "</table>\n",
       "</div>"
      ],
      "text/plain": [
       "                                             clean_tweet  label\n",
       "31565               ahhhh let mad unravel d-ddddai,d 3/4      0\n",
       "14660  #music #therapi tool #healing! #altwaystoh #he...      0\n",
       "20230  go today noth lose. athena xxa$?i,#fridaymorn ...      0\n",
       "10902                  first news see morn #orlandoshoot      0\n",
       "7468   feel good a$?i, lost 4st 8.5lb year year #slim...      0"
      ]
     },
     "execution_count": 123,
     "metadata": {},
     "output_type": "execute_result"
    }
   ],
   "source": [
    "X_temp.head()"
   ]
  },
  {
   "cell_type": "code",
   "execution_count": 124,
   "metadata": {},
   "outputs": [
    {
     "data": {
      "text/plain": [
       "0"
      ]
     },
     "execution_count": 124,
     "metadata": {},
     "output_type": "execute_result"
    }
   ],
   "source": [
    "X_temp.label[2] "
   ]
  },
  {
   "cell_type": "code",
   "execution_count": 125,
   "metadata": {},
   "outputs": [
    {
     "data": {
      "text/plain": [
       "pandas.core.frame.DataFrame"
      ]
     },
     "execution_count": 125,
     "metadata": {},
     "output_type": "execute_result"
    }
   ],
   "source": [
    "type(X_temp)"
   ]
  },
  {
   "cell_type": "code",
   "execution_count": 126,
   "metadata": {},
   "outputs": [],
   "source": [
    "nonhate = X_temp[X_temp['label'] == 0]"
   ]
  },
  {
   "cell_type": "code",
   "execution_count": 127,
   "metadata": {},
   "outputs": [
    {
     "data": {
      "text/html": [
       "<div>\n",
       "<style scoped>\n",
       "    .dataframe tbody tr th:only-of-type {\n",
       "        vertical-align: middle;\n",
       "    }\n",
       "\n",
       "    .dataframe tbody tr th {\n",
       "        vertical-align: top;\n",
       "    }\n",
       "\n",
       "    .dataframe thead th {\n",
       "        text-align: right;\n",
       "    }\n",
       "</style>\n",
       "<table border=\"1\" class=\"dataframe\">\n",
       "  <thead>\n",
       "    <tr style=\"text-align: right;\">\n",
       "      <th></th>\n",
       "      <th>clean_tweet</th>\n",
       "      <th>label</th>\n",
       "    </tr>\n",
       "  </thead>\n",
       "  <tbody>\n",
       "    <tr>\n",
       "      <th>31565</th>\n",
       "      <td>ahhhh let mad unravel d-ddddai,d 3/4</td>\n",
       "      <td>0</td>\n",
       "    </tr>\n",
       "    <tr>\n",
       "      <th>14660</th>\n",
       "      <td>#music #therapi tool #healing! #altwaystoh #he...</td>\n",
       "      <td>0</td>\n",
       "    </tr>\n",
       "    <tr>\n",
       "      <th>20230</th>\n",
       "      <td>go today noth lose. athena xxa$?i,#fridaymorn ...</td>\n",
       "      <td>0</td>\n",
       "    </tr>\n",
       "    <tr>\n",
       "      <th>10902</th>\n",
       "      <td>first news see morn #orlandoshoot</td>\n",
       "      <td>0</td>\n",
       "    </tr>\n",
       "    <tr>\n",
       "      <th>7468</th>\n",
       "      <td>feel good a$?i, lost 4st 8.5lb year year #slim...</td>\n",
       "      <td>0</td>\n",
       "    </tr>\n",
       "  </tbody>\n",
       "</table>\n",
       "</div>"
      ],
      "text/plain": [
       "                                             clean_tweet  label\n",
       "31565               ahhhh let mad unravel d-ddddai,d 3/4      0\n",
       "14660  #music #therapi tool #healing! #altwaystoh #he...      0\n",
       "20230  go today noth lose. athena xxa$?i,#fridaymorn ...      0\n",
       "10902                  first news see morn #orlandoshoot      0\n",
       "7468   feel good a$?i, lost 4st 8.5lb year year #slim...      0"
      ]
     },
     "execution_count": 127,
     "metadata": {},
     "output_type": "execute_result"
    }
   ],
   "source": [
    "nonhate.head()"
   ]
  },
  {
   "cell_type": "code",
   "execution_count": 128,
   "metadata": {},
   "outputs": [],
   "source": [
    "hate = X_temp[X_temp.label == 1]"
   ]
  },
  {
   "cell_type": "code",
   "execution_count": 129,
   "metadata": {},
   "outputs": [
    {
     "data": {
      "text/plain": [
       "1988"
      ]
     },
     "execution_count": 129,
     "metadata": {},
     "output_type": "execute_result"
    }
   ],
   "source": [
    "hate.shape[0]"
   ]
  },
  {
   "cell_type": "code",
   "execution_count": 130,
   "metadata": {},
   "outputs": [],
   "source": [
    "nonhatesample = nonhate.sample(n = hate.shape[0])"
   ]
  },
  {
   "cell_type": "code",
   "execution_count": 131,
   "metadata": {},
   "outputs": [
    {
     "data": {
      "text/html": [
       "<div>\n",
       "<style scoped>\n",
       "    .dataframe tbody tr th:only-of-type {\n",
       "        vertical-align: middle;\n",
       "    }\n",
       "\n",
       "    .dataframe tbody tr th {\n",
       "        vertical-align: top;\n",
       "    }\n",
       "\n",
       "    .dataframe thead th {\n",
       "        text-align: right;\n",
       "    }\n",
       "</style>\n",
       "<table border=\"1\" class=\"dataframe\">\n",
       "  <thead>\n",
       "    <tr style=\"text-align: right;\">\n",
       "      <th></th>\n",
       "      <th>clean_tweet</th>\n",
       "      <th>label</th>\n",
       "    </tr>\n",
       "  </thead>\n",
       "  <tbody>\n",
       "    <tr>\n",
       "      <th>2015</th>\n",
       "      <td>best daddi whole world! bihday</td>\n",
       "      <td>0</td>\n",
       "    </tr>\n",
       "    <tr>\n",
       "      <th>3524</th>\n",
       "      <td>#excel #exograndcomeback #excellencerp2016 #ex...</td>\n",
       "      <td>0</td>\n",
       "    </tr>\n",
       "    <tr>\n",
       "      <th>24302</th>\n",
       "      <td>know chanceri lane is? #satnav send lake? #poo...</td>\n",
       "      <td>0</td>\n",
       "    </tr>\n",
       "    <tr>\n",
       "      <th>8274</th>\n",
       "      <td>day park. #familylif #awesom #cool #cool #fami...</td>\n",
       "      <td>0</td>\n",
       "    </tr>\n",
       "    <tr>\n",
       "      <th>13804</th>\n",
       "      <td>great day! #saturday #shop</td>\n",
       "      <td>0</td>\n",
       "    </tr>\n",
       "  </tbody>\n",
       "</table>\n",
       "</div>"
      ],
      "text/plain": [
       "                                             clean_tweet  label\n",
       "2015                      best daddi whole world! bihday      0\n",
       "3524   #excel #exograndcomeback #excellencerp2016 #ex...      0\n",
       "24302  know chanceri lane is? #satnav send lake? #poo...      0\n",
       "8274   day park. #familylif #awesom #cool #cool #fami...      0\n",
       "13804                         great day! #saturday #shop      0"
      ]
     },
     "execution_count": 131,
     "metadata": {},
     "output_type": "execute_result"
    }
   ],
   "source": [
    "nonhatesample.head()"
   ]
  },
  {
   "cell_type": "code",
   "execution_count": 132,
   "metadata": {},
   "outputs": [
    {
     "data": {
      "text/plain": [
       "(1988, 2)"
      ]
     },
     "execution_count": 132,
     "metadata": {},
     "output_type": "execute_result"
    }
   ],
   "source": [
    "nonhatesample.shape"
   ]
  },
  {
   "cell_type": "code",
   "execution_count": 133,
   "metadata": {},
   "outputs": [],
   "source": [
    "ds = pd.concat([hate, nonhatesample], axis = 0)"
   ]
  },
  {
   "cell_type": "code",
   "execution_count": 134,
   "metadata": {},
   "outputs": [
    {
     "data": {
      "text/html": [
       "<div>\n",
       "<style scoped>\n",
       "    .dataframe tbody tr th:only-of-type {\n",
       "        vertical-align: middle;\n",
       "    }\n",
       "\n",
       "    .dataframe tbody tr th {\n",
       "        vertical-align: top;\n",
       "    }\n",
       "\n",
       "    .dataframe thead th {\n",
       "        text-align: right;\n",
       "    }\n",
       "</style>\n",
       "<table border=\"1\" class=\"dataframe\">\n",
       "  <thead>\n",
       "    <tr style=\"text-align: right;\">\n",
       "      <th></th>\n",
       "      <th>clean_tweet</th>\n",
       "      <th>label</th>\n",
       "    </tr>\n",
       "  </thead>\n",
       "  <tbody>\n",
       "    <tr>\n",
       "      <th>17205</th>\n",
       "      <td>funny, weather sync mood. ai, #depress #myday ...</td>\n",
       "      <td>0</td>\n",
       "    </tr>\n",
       "    <tr>\n",
       "      <th>30809</th>\n",
       "      <td>final new gambino life amaz weekend</td>\n",
       "      <td>0</td>\n",
       "    </tr>\n",
       "    <tr>\n",
       "      <th>24493</th>\n",
       "      <td>park meter guy gave 2 hr free park today #payi...</td>\n",
       "      <td>0</td>\n",
       "    </tr>\n",
       "    <tr>\n",
       "      <th>5569</th>\n",
       "      <td>father day men tri best everyday todaya|</td>\n",
       "      <td>0</td>\n",
       "    </tr>\n",
       "    <tr>\n",
       "      <th>30562</th>\n",
       "      <td>cannot wait go see find dory! dddd #findingdor...</td>\n",
       "      <td>0</td>\n",
       "    </tr>\n",
       "  </tbody>\n",
       "</table>\n",
       "</div>"
      ],
      "text/plain": [
       "                                             clean_tweet  label\n",
       "17205  funny, weather sync mood. ai, #depress #myday ...      0\n",
       "30809                final new gambino life amaz weekend      0\n",
       "24493  park meter guy gave 2 hr free park today #payi...      0\n",
       "5569            father day men tri best everyday todaya|      0\n",
       "30562  cannot wait go see find dory! dddd #findingdor...      0"
      ]
     },
     "execution_count": 134,
     "metadata": {},
     "output_type": "execute_result"
    }
   ],
   "source": [
    "ds.tail()"
   ]
  },
  {
   "cell_type": "code",
   "execution_count": 135,
   "metadata": {},
   "outputs": [
    {
     "data": {
      "text/plain": [
       "(3976, 2)"
      ]
     },
     "execution_count": 135,
     "metadata": {},
     "output_type": "execute_result"
    }
   ],
   "source": [
    "ds.shape"
   ]
  },
  {
   "cell_type": "code",
   "execution_count": 136,
   "metadata": {
    "scrolled": true
   },
   "outputs": [],
   "source": [
    "ds.to_csv(\"trainset.csv\")"
   ]
  },
  {
   "cell_type": "code",
   "execution_count": 137,
   "metadata": {},
   "outputs": [],
   "source": [
    "ds = pd.read_csv(r\"C:\\Users\\srika\\Dropbox\\PC\\Downloads\\Twitter-Hate-Speech-Detection-master (1)\\trainset.csv\")"
   ]
  },
  {
   "cell_type": "code",
   "execution_count": 138,
   "metadata": {},
   "outputs": [
    {
     "data": {
      "text/html": [
       "<div>\n",
       "<style scoped>\n",
       "    .dataframe tbody tr th:only-of-type {\n",
       "        vertical-align: middle;\n",
       "    }\n",
       "\n",
       "    .dataframe tbody tr th {\n",
       "        vertical-align: top;\n",
       "    }\n",
       "\n",
       "    .dataframe thead th {\n",
       "        text-align: right;\n",
       "    }\n",
       "</style>\n",
       "<table border=\"1\" class=\"dataframe\">\n",
       "  <thead>\n",
       "    <tr style=\"text-align: right;\">\n",
       "      <th></th>\n",
       "      <th>Unnamed: 0</th>\n",
       "      <th>clean_tweet</th>\n",
       "      <th>label</th>\n",
       "    </tr>\n",
       "  </thead>\n",
       "  <tbody>\n",
       "    <tr>\n",
       "      <th>0</th>\n",
       "      <td>16001</td>\n",
       "      <td>#sikh #templ vandalis #calgary, #wso condemn act</td>\n",
       "      <td>1</td>\n",
       "    </tr>\n",
       "    <tr>\n",
       "      <th>1</th>\n",
       "      <td>8062</td>\n",
       "      <td>#allahsoil beara rapaci hunger oil also seal d...</td>\n",
       "      <td>1</td>\n",
       "    </tr>\n",
       "    <tr>\n",
       "      <th>2</th>\n",
       "      <td>15180</td>\n",
       "      <td>black hair come differ style slavery, coloni p...</td>\n",
       "      <td>1</td>\n",
       "    </tr>\n",
       "    <tr>\n",
       "      <th>3</th>\n",
       "      <td>8795</td>\n",
       "      <td>#microsoft #twitterbot turn rage sexist, genoc...</td>\n",
       "      <td>1</td>\n",
       "    </tr>\n",
       "    <tr>\n",
       "      <th>4</th>\n",
       "      <td>25496</td>\n",
       "      <td>racist troll ale great state kentucky! listen ...</td>\n",
       "      <td>1</td>\n",
       "    </tr>\n",
       "  </tbody>\n",
       "</table>\n",
       "</div>"
      ],
      "text/plain": [
       "   Unnamed: 0                                        clean_tweet  label\n",
       "0       16001   #sikh #templ vandalis #calgary, #wso condemn act      1\n",
       "1        8062  #allahsoil beara rapaci hunger oil also seal d...      1\n",
       "2       15180  black hair come differ style slavery, coloni p...      1\n",
       "3        8795  #microsoft #twitterbot turn rage sexist, genoc...      1\n",
       "4       25496  racist troll ale great state kentucky! listen ...      1"
      ]
     },
     "execution_count": 138,
     "metadata": {},
     "output_type": "execute_result"
    }
   ],
   "source": [
    "ds.head()"
   ]
  },
  {
   "cell_type": "code",
   "execution_count": 139,
   "metadata": {},
   "outputs": [],
   "source": [
    "ds_temp = ds"
   ]
  },
  {
   "cell_type": "code",
   "execution_count": 140,
   "metadata": {},
   "outputs": [],
   "source": [
    "testdf = X_test\n",
    "testdf['label'] = y_test"
   ]
  },
  {
   "cell_type": "code",
   "execution_count": 141,
   "metadata": {},
   "outputs": [
    {
     "data": {
      "text/plain": [
       "(3197, 2)"
      ]
     },
     "execution_count": 141,
     "metadata": {},
     "output_type": "execute_result"
    }
   ],
   "source": [
    "testdf.shape"
   ]
  },
  {
   "cell_type": "code",
   "execution_count": 142,
   "metadata": {},
   "outputs": [],
   "source": [
    "ds = pd.concat([ds_temp, testdf], axis = 0)"
   ]
  },
  {
   "cell_type": "code",
   "execution_count": 143,
   "metadata": {},
   "outputs": [
    {
     "data": {
      "text/html": [
       "<div>\n",
       "<style scoped>\n",
       "    .dataframe tbody tr th:only-of-type {\n",
       "        vertical-align: middle;\n",
       "    }\n",
       "\n",
       "    .dataframe tbody tr th {\n",
       "        vertical-align: top;\n",
       "    }\n",
       "\n",
       "    .dataframe thead th {\n",
       "        text-align: right;\n",
       "    }\n",
       "</style>\n",
       "<table border=\"1\" class=\"dataframe\">\n",
       "  <thead>\n",
       "    <tr style=\"text-align: right;\">\n",
       "      <th></th>\n",
       "      <th>Unnamed: 0</th>\n",
       "      <th>clean_tweet</th>\n",
       "      <th>label</th>\n",
       "    </tr>\n",
       "  </thead>\n",
       "  <tbody>\n",
       "    <tr>\n",
       "      <th>0</th>\n",
       "      <td>16001.0</td>\n",
       "      <td>#sikh #templ vandalis #calgary, #wso condemn act</td>\n",
       "      <td>1</td>\n",
       "    </tr>\n",
       "    <tr>\n",
       "      <th>1</th>\n",
       "      <td>8062.0</td>\n",
       "      <td>#allahsoil beara rapaci hunger oil also seal d...</td>\n",
       "      <td>1</td>\n",
       "    </tr>\n",
       "    <tr>\n",
       "      <th>2</th>\n",
       "      <td>15180.0</td>\n",
       "      <td>black hair come differ style slavery, coloni p...</td>\n",
       "      <td>1</td>\n",
       "    </tr>\n",
       "    <tr>\n",
       "      <th>3</th>\n",
       "      <td>8795.0</td>\n",
       "      <td>#microsoft #twitterbot turn rage sexist, genoc...</td>\n",
       "      <td>1</td>\n",
       "    </tr>\n",
       "    <tr>\n",
       "      <th>4</th>\n",
       "      <td>25496.0</td>\n",
       "      <td>racist troll ale great state kentucky! listen ...</td>\n",
       "      <td>1</td>\n",
       "    </tr>\n",
       "  </tbody>\n",
       "</table>\n",
       "</div>"
      ],
      "text/plain": [
       "   Unnamed: 0                                        clean_tweet  label\n",
       "0     16001.0   #sikh #templ vandalis #calgary, #wso condemn act      1\n",
       "1      8062.0  #allahsoil beara rapaci hunger oil also seal d...      1\n",
       "2     15180.0  black hair come differ style slavery, coloni p...      1\n",
       "3      8795.0  #microsoft #twitterbot turn rage sexist, genoc...      1\n",
       "4     25496.0  racist troll ale great state kentucky! listen ...      1"
      ]
     },
     "execution_count": 143,
     "metadata": {},
     "output_type": "execute_result"
    }
   ],
   "source": [
    "ds.head()"
   ]
  },
  {
   "cell_type": "code",
   "execution_count": 144,
   "metadata": {},
   "outputs": [
    {
     "data": {
      "text/plain": [
       "(7173, 3)"
      ]
     },
     "execution_count": 144,
     "metadata": {},
     "output_type": "execute_result"
    }
   ],
   "source": [
    "ds.shape"
   ]
  },
  {
   "cell_type": "code",
   "execution_count": 145,
   "metadata": {
    "scrolled": true
   },
   "outputs": [
    {
     "data": {
      "text/html": [
       "<div>\n",
       "<style scoped>\n",
       "    .dataframe tbody tr th:only-of-type {\n",
       "        vertical-align: middle;\n",
       "    }\n",
       "\n",
       "    .dataframe tbody tr th {\n",
       "        vertical-align: top;\n",
       "    }\n",
       "\n",
       "    .dataframe thead th {\n",
       "        text-align: right;\n",
       "    }\n",
       "</style>\n",
       "<table border=\"1\" class=\"dataframe\">\n",
       "  <thead>\n",
       "    <tr style=\"text-align: right;\">\n",
       "      <th></th>\n",
       "      <th>clean_tweet</th>\n",
       "      <th>label</th>\n",
       "    </tr>\n",
       "  </thead>\n",
       "  <tbody>\n",
       "    <tr>\n",
       "      <th>3919</th>\n",
       "      <td>famili pictur come soon.. d$?d\"ad(c)ad|ad|d</td>\n",
       "      <td>0</td>\n",
       "    </tr>\n",
       "    <tr>\n",
       "      <th>2245</th>\n",
       "      <td>great day parents! #sasquatchbrew #mexicanfood...</td>\n",
       "      <td>0</td>\n",
       "    </tr>\n",
       "    <tr>\n",
       "      <th>12168</th>\n",
       "      <td>day first harvest...!!! #harummani #mango #tan...</td>\n",
       "      <td>0</td>\n",
       "    </tr>\n",
       "    <tr>\n",
       "      <th>4749</th>\n",
       "      <td>edit tho dd 1/2dd 1/2dd 1/2dd 1/2dd 1/2</td>\n",
       "      <td>0</td>\n",
       "    </tr>\n",
       "    <tr>\n",
       "      <th>20085</th>\n",
       "      <td>right idea deal #nasti</td>\n",
       "      <td>1</td>\n",
       "    </tr>\n",
       "  </tbody>\n",
       "</table>\n",
       "</div>"
      ],
      "text/plain": [
       "                                             clean_tweet  label\n",
       "3919         famili pictur come soon.. d$?d\"ad(c)ad|ad|d      0\n",
       "2245   great day parents! #sasquatchbrew #mexicanfood...      0\n",
       "12168  day first harvest...!!! #harummani #mango #tan...      0\n",
       "4749             edit tho dd 1/2dd 1/2dd 1/2dd 1/2dd 1/2      0\n",
       "20085                             right idea deal #nasti      1"
      ]
     },
     "execution_count": 145,
     "metadata": {},
     "output_type": "execute_result"
    }
   ],
   "source": [
    "testdf.head()"
   ]
  },
  {
   "cell_type": "code",
   "execution_count": 146,
   "metadata": {},
   "outputs": [
    {
     "data": {
      "text/plain": [
       "[3919,\n",
       " 2245,\n",
       " 12168,\n",
       " 4749,\n",
       " 20085,\n",
       " 23488,\n",
       " 2237,\n",
       " 24806,\n",
       " 9513,\n",
       " 20296,\n",
       " 12310,\n",
       " 9203,\n",
       " 24142,\n",
       " 26228,\n",
       " 28666,\n",
       " 12095,\n",
       " 26467,\n",
       " 18145,\n",
       " 26806,\n",
       " 26778,\n",
       " 6835,\n",
       " 13,\n",
       " 14267,\n",
       " 29338,\n",
       " 14177,\n",
       " 14780,\n",
       " 30521,\n",
       " 7149,\n",
       " 30230,\n",
       " 8857,\n",
       " 6844,\n",
       " 3657,\n",
       " 4511,\n",
       " 12676,\n",
       " 29532,\n",
       " 5863,\n",
       " 12287,\n",
       " 8123,\n",
       " 8385,\n",
       " 25481,\n",
       " 29778,\n",
       " 22520,\n",
       " 7283,\n",
       " 19399,\n",
       " 24355,\n",
       " 17655,\n",
       " 5022,\n",
       " 31621,\n",
       " 20236,\n",
       " 22836,\n",
       " 11027,\n",
       " 18235,\n",
       " 14731,\n",
       " 13034,\n",
       " 21600,\n",
       " 8906,\n",
       " 23923,\n",
       " 29374,\n",
       " 24262,\n",
       " 29802,\n",
       " 2431,\n",
       " 22453,\n",
       " 22904,\n",
       " 3031,\n",
       " 26607,\n",
       " 7694,\n",
       " 16250,\n",
       " 31426,\n",
       " 21377,\n",
       " 1082,\n",
       " 28284,\n",
       " 3940,\n",
       " 30459,\n",
       " 25264,\n",
       " 29315,\n",
       " 6860,\n",
       " 30007,\n",
       " 9249,\n",
       " 8455,\n",
       " 304,\n",
       " 26819,\n",
       " 29642,\n",
       " 2634,\n",
       " 19110,\n",
       " 18724,\n",
       " 20462,\n",
       " 11455,\n",
       " 7162,\n",
       " 16168,\n",
       " 26610,\n",
       " 26583,\n",
       " 8048,\n",
       " 4739,\n",
       " 13545,\n",
       " 29991,\n",
       " 26602,\n",
       " 7291,\n",
       " 657,\n",
       " 1002,\n",
       " 30851,\n",
       " 28363,\n",
       " 30787,\n",
       " 25081,\n",
       " 758,\n",
       " 28580,\n",
       " 8705,\n",
       " 13678,\n",
       " 8741,\n",
       " 23012,\n",
       " 23788,\n",
       " 4092,\n",
       " 2898,\n",
       " 24224,\n",
       " 14471,\n",
       " 14875,\n",
       " 29874,\n",
       " 7324,\n",
       " 1671,\n",
       " 8994,\n",
       " 29299,\n",
       " 10667,\n",
       " 19971,\n",
       " 8973,\n",
       " 11802,\n",
       " 29068,\n",
       " 15688,\n",
       " 7033,\n",
       " 20855,\n",
       " 29515,\n",
       " 14781,\n",
       " 4826,\n",
       " 1009,\n",
       " 26256,\n",
       " 12924,\n",
       " 8369,\n",
       " 1265,\n",
       " 12705,\n",
       " 14640,\n",
       " 23965,\n",
       " 19294,\n",
       " 11474,\n",
       " 3731,\n",
       " 9413,\n",
       " 7603,\n",
       " 12621,\n",
       " 30329,\n",
       " 778,\n",
       " 10858,\n",
       " 9016,\n",
       " 3705,\n",
       " 28411,\n",
       " 31302,\n",
       " 14915,\n",
       " 15953,\n",
       " 26720,\n",
       " 3876,\n",
       " 18156,\n",
       " 9882,\n",
       " 25839,\n",
       " 23876,\n",
       " 20607,\n",
       " 10073,\n",
       " 28132,\n",
       " 5908,\n",
       " 6034,\n",
       " 13535,\n",
       " 24413,\n",
       " 16397,\n",
       " 28979,\n",
       " 30301,\n",
       " 9463,\n",
       " 19145,\n",
       " 5724,\n",
       " 2262,\n",
       " 31454,\n",
       " 19016,\n",
       " 4458,\n",
       " 1764,\n",
       " 13809,\n",
       " 24219,\n",
       " 7227,\n",
       " 25120,\n",
       " 27658,\n",
       " 21595,\n",
       " 3770,\n",
       " 22546,\n",
       " 11834,\n",
       " 6344,\n",
       " 25391,\n",
       " 19245,\n",
       " 14026,\n",
       " 29310,\n",
       " 19031,\n",
       " 9837,\n",
       " 322,\n",
       " 7641,\n",
       " 10503,\n",
       " 19411,\n",
       " 17044,\n",
       " 11093,\n",
       " 16790,\n",
       " 18495,\n",
       " 2831,\n",
       " 22011,\n",
       " 386,\n",
       " 22950,\n",
       " 20753,\n",
       " 20225,\n",
       " 6082,\n",
       " 20109,\n",
       " 21324,\n",
       " 31375,\n",
       " 17737,\n",
       " 13647,\n",
       " 2539,\n",
       " 19558,\n",
       " 31098,\n",
       " 16725,\n",
       " 23686,\n",
       " 29667,\n",
       " 8340,\n",
       " 29167,\n",
       " 28383,\n",
       " 25282,\n",
       " 29006,\n",
       " 13216,\n",
       " 1823,\n",
       " 23453,\n",
       " 2118,\n",
       " 25463,\n",
       " 13562,\n",
       " 1631,\n",
       " 3446,\n",
       " 14849,\n",
       " 688,\n",
       " 5803,\n",
       " 18879,\n",
       " 22228,\n",
       " 27510,\n",
       " 31003,\n",
       " 3409,\n",
       " 7762,\n",
       " 25704,\n",
       " 1608,\n",
       " 29053,\n",
       " 3734,\n",
       " 14657,\n",
       " 2723,\n",
       " 19076,\n",
       " 22322,\n",
       " 10910,\n",
       " 24060,\n",
       " 9746,\n",
       " 9360,\n",
       " 28032,\n",
       " 25987,\n",
       " 25821,\n",
       " 22991,\n",
       " 25461,\n",
       " 22432,\n",
       " 29898,\n",
       " 24787,\n",
       " 5045,\n",
       " 1844,\n",
       " 9366,\n",
       " 5671,\n",
       " 30275,\n",
       " 5612,\n",
       " 29741,\n",
       " 25772,\n",
       " 6620,\n",
       " 27767,\n",
       " 13946,\n",
       " 30139,\n",
       " 25575,\n",
       " 11957,\n",
       " 28956,\n",
       " 3156,\n",
       " 3606,\n",
       " 24049,\n",
       " 2003,\n",
       " 9710,\n",
       " 16006,\n",
       " 15143,\n",
       " 19618,\n",
       " 24014,\n",
       " 13663,\n",
       " 14265,\n",
       " 7405,\n",
       " 11739,\n",
       " 3454,\n",
       " 10092,\n",
       " 4171,\n",
       " 10343,\n",
       " 25167,\n",
       " 6637,\n",
       " 12337,\n",
       " 12301,\n",
       " 7075,\n",
       " 30746,\n",
       " 17637,\n",
       " 14124,\n",
       " 11898,\n",
       " 10927,\n",
       " 21347,\n",
       " 19630,\n",
       " 13561,\n",
       " 25549,\n",
       " 28398,\n",
       " 11215,\n",
       " 24838,\n",
       " 11255,\n",
       " 18335,\n",
       " 30927,\n",
       " 3037,\n",
       " 6610,\n",
       " 18966,\n",
       " 12053,\n",
       " 10719,\n",
       " 5134,\n",
       " 21689,\n",
       " 21546,\n",
       " 30312,\n",
       " 17758,\n",
       " 8693,\n",
       " 29594,\n",
       " 31142,\n",
       " 11216,\n",
       " 17765,\n",
       " 10043,\n",
       " 12643,\n",
       " 16567,\n",
       " 22677,\n",
       " 15124,\n",
       " 3802,\n",
       " 16538,\n",
       " 25949,\n",
       " 11184,\n",
       " 16169,\n",
       " 30959,\n",
       " 5594,\n",
       " 10803,\n",
       " 8981,\n",
       " 27128,\n",
       " 25289,\n",
       " 27004,\n",
       " 30044,\n",
       " 21574,\n",
       " 30529,\n",
       " 1463,\n",
       " 5623,\n",
       " 15325,\n",
       " 19787,\n",
       " 18217,\n",
       " 13001,\n",
       " 28834,\n",
       " 9866,\n",
       " 15157,\n",
       " 6332,\n",
       " 22119,\n",
       " 26834,\n",
       " 13858,\n",
       " 15122,\n",
       " 24202,\n",
       " 3266,\n",
       " 22335,\n",
       " 17144,\n",
       " 27262,\n",
       " 6489,\n",
       " 7304,\n",
       " 11417,\n",
       " 24704,\n",
       " 25653,\n",
       " 10474,\n",
       " 19687,\n",
       " 28930,\n",
       " 22422,\n",
       " 28404,\n",
       " 11046,\n",
       " 30797,\n",
       " 30634,\n",
       " 23429,\n",
       " 30855,\n",
       " 15117,\n",
       " 16343,\n",
       " 8014,\n",
       " 13668,\n",
       " 592,\n",
       " 25206,\n",
       " 496,\n",
       " 24334,\n",
       " 1721,\n",
       " 21976,\n",
       " 28401,\n",
       " 21322,\n",
       " 11891,\n",
       " 26645,\n",
       " 24235,\n",
       " 30553,\n",
       " 14405,\n",
       " 4239,\n",
       " 27193,\n",
       " 5682,\n",
       " 28985,\n",
       " 5172,\n",
       " 15454,\n",
       " 16856,\n",
       " 29063,\n",
       " 15753,\n",
       " 22945,\n",
       " 10982,\n",
       " 2665,\n",
       " 11459,\n",
       " 12839,\n",
       " 14197,\n",
       " 24033,\n",
       " 8111,\n",
       " 23019,\n",
       " 2679,\n",
       " 4754,\n",
       " 25055,\n",
       " 18949,\n",
       " 9792,\n",
       " 29700,\n",
       " 26510,\n",
       " 6135,\n",
       " 13965,\n",
       " 15266,\n",
       " 11458,\n",
       " 9209,\n",
       " 11151,\n",
       " 2325,\n",
       " 3993,\n",
       " 15275,\n",
       " 2235,\n",
       " 18005,\n",
       " 6562,\n",
       " 24655,\n",
       " 25909,\n",
       " 20539,\n",
       " 15477,\n",
       " 29823,\n",
       " 8538,\n",
       " 23277,\n",
       " 24051,\n",
       " 3500,\n",
       " 9355,\n",
       " 24280,\n",
       " 6023,\n",
       " 11036,\n",
       " 8194,\n",
       " 24998,\n",
       " 19804,\n",
       " 363,\n",
       " 5811,\n",
       " 18270,\n",
       " 18856,\n",
       " 2281,\n",
       " 28380,\n",
       " 29344,\n",
       " 2924,\n",
       " 21639,\n",
       " 17616,\n",
       " 29141,\n",
       " 30328,\n",
       " 23559,\n",
       " 4919,\n",
       " 2013,\n",
       " 15061,\n",
       " 5472,\n",
       " 22562,\n",
       " 21225,\n",
       " 16435,\n",
       " 30874,\n",
       " 15697,\n",
       " 20522,\n",
       " 2101,\n",
       " 17617,\n",
       " 24701,\n",
       " 30892,\n",
       " 9970,\n",
       " 26908,\n",
       " 3528,\n",
       " 30313,\n",
       " 13583,\n",
       " 13519,\n",
       " 2718,\n",
       " 13726,\n",
       " 24554,\n",
       " 26668,\n",
       " 23502,\n",
       " 31533,\n",
       " 9645,\n",
       " 5917,\n",
       " 233,\n",
       " 21486,\n",
       " 18706,\n",
       " 25835,\n",
       " 10637,\n",
       " 11708,\n",
       " 7296,\n",
       " 8078,\n",
       " 31912,\n",
       " 25699,\n",
       " 14729,\n",
       " 26369,\n",
       " 11961,\n",
       " 9794,\n",
       " 13446,\n",
       " 17722,\n",
       " 16618,\n",
       " 24865,\n",
       " 16883,\n",
       " 16032,\n",
       " 9622,\n",
       " 24711,\n",
       " 12912,\n",
       " 24720,\n",
       " 20677,\n",
       " 31616,\n",
       " 25123,\n",
       " 10626,\n",
       " 2975,\n",
       " 13416,\n",
       " 20836,\n",
       " 30899,\n",
       " 15006,\n",
       " 15311,\n",
       " 15569,\n",
       " 6475,\n",
       " 18259,\n",
       " 24198,\n",
       " 29009,\n",
       " 17265,\n",
       " 30616,\n",
       " 1061,\n",
       " 22895,\n",
       " 31933,\n",
       " 9202,\n",
       " 16162,\n",
       " 21105,\n",
       " 7748,\n",
       " 26104,\n",
       " 11434,\n",
       " 1312,\n",
       " 27049,\n",
       " 11447,\n",
       " 30776,\n",
       " 5352,\n",
       " 3315,\n",
       " 27,\n",
       " 14174,\n",
       " 21835,\n",
       " 29204,\n",
       " 144,\n",
       " 20420,\n",
       " 9996,\n",
       " 22324,\n",
       " 17993,\n",
       " 21182,\n",
       " 7356,\n",
       " 1097,\n",
       " 2268,\n",
       " 7886,\n",
       " 17747,\n",
       " 9494,\n",
       " 16586,\n",
       " 15926,\n",
       " 29706,\n",
       " 31926,\n",
       " 28773,\n",
       " 18616,\n",
       " 5888,\n",
       " 2466,\n",
       " 5259,\n",
       " 17497,\n",
       " 18902,\n",
       " 29969,\n",
       " 7400,\n",
       " 30688,\n",
       " 10419,\n",
       " 5038,\n",
       " 3561,\n",
       " 16400,\n",
       " 19542,\n",
       " 19969,\n",
       " 3095,\n",
       " 9636,\n",
       " 20106,\n",
       " 4727,\n",
       " 30399,\n",
       " 18202,\n",
       " 10930,\n",
       " 17062,\n",
       " 3921,\n",
       " 20825,\n",
       " 12889,\n",
       " 8653,\n",
       " 29390,\n",
       " 17056,\n",
       " 15133,\n",
       " 1875,\n",
       " 28236,\n",
       " 17431,\n",
       " 1197,\n",
       " 27378,\n",
       " 2249,\n",
       " 23962,\n",
       " 3735,\n",
       " 9341,\n",
       " 10255,\n",
       " 26464,\n",
       " 17015,\n",
       " 20833,\n",
       " 14654,\n",
       " 18993,\n",
       " 23074,\n",
       " 21194,\n",
       " 31470,\n",
       " 26859,\n",
       " 7929,\n",
       " 27674,\n",
       " 29535,\n",
       " 1727,\n",
       " 20467,\n",
       " 31612,\n",
       " 27554,\n",
       " 28096,\n",
       " 15190,\n",
       " 26268,\n",
       " 24908,\n",
       " 11695,\n",
       " 5076,\n",
       " 16643,\n",
       " 24713,\n",
       " 20456,\n",
       " 1281,\n",
       " 16884,\n",
       " 26555,\n",
       " 28614,\n",
       " 1017,\n",
       " 24387,\n",
       " 30947,\n",
       " 23461,\n",
       " 23545,\n",
       " 4334,\n",
       " 16311,\n",
       " 11163,\n",
       " 27504,\n",
       " 18315,\n",
       " 9409,\n",
       " 9579,\n",
       " 20699,\n",
       " 12908,\n",
       " 20613,\n",
       " 23507,\n",
       " 15041,\n",
       " 15586,\n",
       " 26032,\n",
       " 2341,\n",
       " 550,\n",
       " 1957,\n",
       " 26882,\n",
       " 3968,\n",
       " 1701,\n",
       " 5299,\n",
       " 362,\n",
       " 24399,\n",
       " 9507,\n",
       " 13719,\n",
       " 4059,\n",
       " 31262,\n",
       " 18167,\n",
       " 25573,\n",
       " 19597,\n",
       " 12983,\n",
       " 10989,\n",
       " 8308,\n",
       " 31025,\n",
       " 17850,\n",
       " 15222,\n",
       " 27575,\n",
       " 12397,\n",
       " 30384,\n",
       " 21425,\n",
       " 18917,\n",
       " 8129,\n",
       " 10107,\n",
       " 12154,\n",
       " 14600,\n",
       " 10024,\n",
       " 19008,\n",
       " 15947,\n",
       " 9893,\n",
       " 5935,\n",
       " 766,\n",
       " 2204,\n",
       " 30039,\n",
       " 14200,\n",
       " 3319,\n",
       " 3728,\n",
       " 9234,\n",
       " 14199,\n",
       " 20050,\n",
       " 22098,\n",
       " 6527,\n",
       " 4308,\n",
       " 13279,\n",
       " 14065,\n",
       " 9348,\n",
       " 3630,\n",
       " 307,\n",
       " 19290,\n",
       " 30706,\n",
       " 10429,\n",
       " 12778,\n",
       " 13500,\n",
       " 5425,\n",
       " 18149,\n",
       " 19809,\n",
       " 31312,\n",
       " 13929,\n",
       " 1091,\n",
       " 18211,\n",
       " 11381,\n",
       " 7800,\n",
       " 21803,\n",
       " 14508,\n",
       " 24318,\n",
       " 17416,\n",
       " 9910,\n",
       " 10229,\n",
       " 28728,\n",
       " 17932,\n",
       " 14558,\n",
       " 6162,\n",
       " 22909,\n",
       " 12854,\n",
       " 26260,\n",
       " 281,\n",
       " 17237,\n",
       " 8221,\n",
       " 5815,\n",
       " 3515,\n",
       " 21990,\n",
       " 3673,\n",
       " 28481,\n",
       " 27259,\n",
       " 12034,\n",
       " 23211,\n",
       " 9596,\n",
       " 6046,\n",
       " 10841,\n",
       " 26540,\n",
       " 3861,\n",
       " 29482,\n",
       " 12038,\n",
       " 3154,\n",
       " 18046,\n",
       " 876,\n",
       " 12415,\n",
       " 22045,\n",
       " 25224,\n",
       " 4509,\n",
       " 20803,\n",
       " 19295,\n",
       " 11389,\n",
       " 1443,\n",
       " 28873,\n",
       " 9379,\n",
       " 2742,\n",
       " 3421,\n",
       " 3942,\n",
       " 23423,\n",
       " 2589,\n",
       " 11895,\n",
       " 20789,\n",
       " 27845,\n",
       " 14264,\n",
       " 13347,\n",
       " 14947,\n",
       " 7654,\n",
       " 440,\n",
       " 26712,\n",
       " 5466,\n",
       " 24912,\n",
       " 2280,\n",
       " 11733,\n",
       " 22200,\n",
       " 19395,\n",
       " 11830,\n",
       " 3925,\n",
       " 27804,\n",
       " 13603,\n",
       " 15694,\n",
       " 29026,\n",
       " 25324,\n",
       " 3013,\n",
       " 25950,\n",
       " 8191,\n",
       " 24364,\n",
       " 5800,\n",
       " 3533,\n",
       " 21979,\n",
       " 4690,\n",
       " 12274,\n",
       " 29972,\n",
       " 7744,\n",
       " 7207,\n",
       " 20305,\n",
       " 29236,\n",
       " 2386,\n",
       " 1687,\n",
       " 15750,\n",
       " 27299,\n",
       " 6542,\n",
       " 12400,\n",
       " 5000,\n",
       " 24709,\n",
       " 20963,\n",
       " 15201,\n",
       " 9640,\n",
       " 26501,\n",
       " 4947,\n",
       " 10556,\n",
       " 14335,\n",
       " 24393,\n",
       " 24639,\n",
       " 18638,\n",
       " 12866,\n",
       " 17792,\n",
       " 13748,\n",
       " 14,\n",
       " 1157,\n",
       " 24930,\n",
       " 27153,\n",
       " 13442,\n",
       " 17004,\n",
       " 5574,\n",
       " 14187,\n",
       " 22436,\n",
       " 19163,\n",
       " 21367,\n",
       " 13815,\n",
       " 25986,\n",
       " 27272,\n",
       " 31686,\n",
       " 10234,\n",
       " 30897,\n",
       " 2514,\n",
       " 19282,\n",
       " 12500,\n",
       " 13980,\n",
       " 26151,\n",
       " 4789,\n",
       " 10345,\n",
       " 484,\n",
       " 9675,\n",
       " 19731,\n",
       " 30796,\n",
       " 10610,\n",
       " 5311,\n",
       " 13819,\n",
       " 25530,\n",
       " 5490,\n",
       " 8824,\n",
       " 21812,\n",
       " 23140,\n",
       " 12193,\n",
       " 26294,\n",
       " 15356,\n",
       " 26198,\n",
       " 23585,\n",
       " 16730,\n",
       " 11810,\n",
       " 326,\n",
       " 14447,\n",
       " 7507,\n",
       " 21802,\n",
       " 9412,\n",
       " 4863,\n",
       " 8925,\n",
       " 1848,\n",
       " 1242,\n",
       " 6814,\n",
       " 18779,\n",
       " 9061,\n",
       " 22010,\n",
       " 3707,\n",
       " 1739,\n",
       " 26936,\n",
       " 15418,\n",
       " 21177,\n",
       " 17218,\n",
       " 28329,\n",
       " 23898,\n",
       " 25739,\n",
       " 19353,\n",
       " 10152,\n",
       " 13859,\n",
       " 2652,\n",
       " 30933,\n",
       " 28646,\n",
       " 18810,\n",
       " 1005,\n",
       " 19063,\n",
       " 25226,\n",
       " 4375,\n",
       " 19169,\n",
       " 9403,\n",
       " 1316,\n",
       " 30738,\n",
       " 27659,\n",
       " 29348,\n",
       " 13743,\n",
       " 22998,\n",
       " 22902,\n",
       " 19932,\n",
       " 30277,\n",
       " 5979,\n",
       " 14257,\n",
       " 797,\n",
       " 30630,\n",
       " 29808,\n",
       " 6098,\n",
       " 18458,\n",
       " 14662,\n",
       " 6563,\n",
       " 31402,\n",
       " 29839,\n",
       " 12065,\n",
       " 22343,\n",
       " 7948,\n",
       " 14555,\n",
       " 12830,\n",
       " 6752,\n",
       " 17315,\n",
       " 7383,\n",
       " 15775,\n",
       " 1030,\n",
       " 16913,\n",
       " 23138,\n",
       " 19563,\n",
       " 18460,\n",
       " 10939,\n",
       " 6025,\n",
       " 17157,\n",
       " 30599,\n",
       " 23963,\n",
       " 30834,\n",
       " 8302,\n",
       " 19141,\n",
       " 10914,\n",
       " 1789,\n",
       " 6049,\n",
       " 27871,\n",
       " 311,\n",
       " 2223,\n",
       " 22372,\n",
       " 6057,\n",
       " 6640,\n",
       " 2995,\n",
       " 21032,\n",
       " 11335,\n",
       " 5513,\n",
       " 22974,\n",
       " 27306,\n",
       " 26158,\n",
       " 28660,\n",
       " 3321,\n",
       " 6738,\n",
       " 27085,\n",
       " 15280,\n",
       " 31749,\n",
       " 16834,\n",
       " 3936,\n",
       " 9587,\n",
       " 25903,\n",
       " 30161,\n",
       " 8670,\n",
       " 21656,\n",
       " 4388,\n",
       " 18512,\n",
       " 28483,\n",
       " 11693,\n",
       " 14151,\n",
       " 17949,\n",
       " 18221,\n",
       " 22110,\n",
       " 1209,\n",
       " 11123,\n",
       " 18948,\n",
       " 25209,\n",
       " 26438,\n",
       " 26716,\n",
       " 1916,\n",
       " 1058,\n",
       " 5900,\n",
       " 30955,\n",
       " 2418,\n",
       " ...]"
      ]
     },
     "execution_count": 146,
     "metadata": {},
     "output_type": "execute_result"
    }
   ],
   "source": [
    "list(testdf.index)"
   ]
  },
  {
   "cell_type": "code",
   "execution_count": 147,
   "metadata": {},
   "outputs": [],
   "source": [
    "corpus = []\n",
    "for i in range(ds.shape[0]):\n",
    "    corpus.append(ds.iloc[i][1])"
   ]
  },
  {
   "cell_type": "code",
   "execution_count": 148,
   "metadata": {},
   "outputs": [
    {
     "data": {
      "text/plain": [
       "['#sikh #templ vandalis #calgary, #wso condemn act',\n",
       " '#allahsoil beara rapaci hunger oil also seal doom. a| #teambt #teamsuperjuniora|',\n",
       " 'black hair come differ style slavery, coloni policing. #coloni #slaveri #tie',\n",
       " '#microsoft #twitterbot turn rage sexist, genocide-defender. #ai #tech',\n",
       " 'racist troll ale great state kentucky! listen last thur crab #comedi #polit #elect',\n",
       " \"#nigger #pattismith book?? wtf, that' reich?\",\n",
       " 'minut #trump condemn #vile #bigot comment #hi #surrog #carlpaladino #endhatea|',\n",
       " 'pleas repo guy, openli racist reprehens #whitesupremacist #repo #trump #depla|',\n",
       " '#newyearseve,may #resolut b 2 end problem like &amp; #domesticviol turn 2 god #love',\n",
       " 'decis perform trump forev stain mormon values.a|',\n",
       " 'sea shepherd suppoer racist! #antirac #seashepherd',\n",
       " 'black brown woman intersect mean see bu get thrown it. #whitefemin a|',\n",
       " \"obama tell trump american peopl f**k leaf (but can't say anyth )\",\n",
       " 'like msian opposit claim bangladeshi vote bn. evid yet peopl believ anywaya|',\n",
       " '4 #blackpeopl beat #whiteperson ? no, 3 bp might make 2 cou aliv serv life somehow. vs..',\n",
       " \"holiday fun, social relevant! #podcast celebr '70 bewitch xma ep\",\n",
       " \"hey guys, appar white black peopl even whole slaveri thing, that' nice. #histori\",\n",
       " '#black &amp; feel like a| stomp you? listen #retweet #tampa #miamia|',\n",
       " '#peopl protest #trump #republican won-they trump fuher &amp;a|',\n",
       " '#rushlimbaugh incred obama impression. via',\n",
       " \"morgan freeman respond ask 'how solv racism?' #morganfreeman #commonsens\",\n",
       " 'book - #german #coloni global age ht #imperi #blm',\n",
       " 'feel trigger statement. &amp; strawberri blond lock go safe space.',\n",
       " 'joke matter! offic fire joke target practic #black neighborhood via',\n",
       " 'agre #hrc wouldnat #popularvot w/o #ca. much way #trump wouldnat win w/o a|',\n",
       " 'trump cuck #nazi #swastika #ebay! #trump #donaldtrump #republican #kkk #whitepow',\n",
       " 'problem solv talk instead other. #polit #relationship #newa|',\n",
       " \"#donaldtrump : can't wait noth good (racist) #misogynist ( misogynist) see woman like animals.\",\n",
       " '#sikh #templ vandalis #calgary, #wso condemn act',\n",
       " 'oh god trigger',\n",
       " 'brutal rule new year manu close #manu #auspol #australia #refugeeswelcom #nobord',\n",
       " 'definit subtl count. use english dictionari definition. otherwis risk slander.',\n",
       " '&amp; #dumb #pelosi',\n",
       " \"i'm blessedt #icon #lovebeingalegend\",\n",
       " \"ed op: 'a racist' enough - here'\",\n",
       " 'latest indigen remot daily! thank #justjustic',\n",
       " 'yeah man fuck femin',\n",
       " 'defund aboion send #inaugur',\n",
       " 'bullshit, thrown muslim',\n",
       " 'latest blicqerac/ daily! thank #maga',\n",
       " '#sikh #templ vandalis #calgary, #wso condemn act',\n",
       " \"much #hatred, #xenophobia, #islamophobia, #antisemitism, #war 'too much' 2016. let' hope #2017 get le dd*\",\n",
       " 'might libtard if... #libtard #sjw #liber #polit',\n",
       " 'noth would danger give #putinschoic impress accept #stoprac #boycott?a|',\n",
       " 'a|you #black &amp; feel like stomp you? listen #retweet #tampa #miamia|',\n",
       " 'awe peoplea origin meant awe white, landhold males.a a| #2016in4wordsa|',\n",
       " \"bout spend new year' eve play game lol\",\n",
       " \"that' progress r &amp; #bigot ppl all. self-hat lazi racist would la|\",\n",
       " \"#scrutin #savor &amp; #dispos #unbeliev #chosen #headlin 'revolut racism: humanity'\",\n",
       " \"'alt-right' site plan 'fake black person' twitter campaign #socialmedia\",\n",
       " 'girl get fuck leg fuck',\n",
       " '#prais #cleveland polic #rnc polic consent decree! 75% #white #tamirric #rip',\n",
       " 'white supremaci joke (i agree) lie 2 wmn 2 get laid woh joke about? line thought',\n",
       " '#putinpl comment reflect ignor #traitorump #endofth world',\n",
       " 'two bot one girl #tcot #p2 #femin #sjw #sjwlogic',\n",
       " 'peopl spit face #god',\n",
       " '#allahsoil death caus islam extrem occur civil wars, terror attacks. a| #raca|',\n",
       " \"1. lmfao. no. non-whit peopl #bigot #prejud 'system oppressia|\",\n",
       " 'thought factory: left-right polarisation! #trump #uselections2016 #leadership #polit #brexit #blm ~12',\n",
       " 'sea shepherd suppoer racist! #antirac #seashepherd',\n",
       " \"#rupemurdoch' , empir growing. mani peopl employ him. whoever pay bill #master!!!d\",\n",
       " \"would want child attend school? wouldn't. #radic #indoctrin\",\n",
       " '#jcpenni #rant so, one, one, line said anything... silenc complic racism. speak pea|',\n",
       " 'guess white woman blame? work again?? #propaganda #alllivesmatt',\n",
       " 'ppl wait 10 hr airpo, miss connect flights, put flight 24 hr later, aa|',\n",
       " \"we'r happi anoth year passed! #stop\",\n",
       " 'think w share guarani aquif water w humili littl brother,',\n",
       " 'name woman fuck hard teen',\n",
       " 'noth would danger give #putinschoic impress accept #stoprac #boycott?a|',\n",
       " 'ironi inher experi live &amp; work #qatar. #discrimin',\n",
       " '#aleppo #orlando #syria #trump #war #berlinattack #inequ #bagdad #nice #pari noth celebrate. #getreal',\n",
       " 'pleas #america # #timwis lectur - #colorblind via #trendol #historicalamnesia',\n",
       " 'saw vid dude spoke #arab #cell #delta &amp; got thrown off, 2 #idiot screaminga|',\n",
       " \"#msnbc #cnn #amjoy joe biden: 'i want thank' trump unmask america'\",\n",
       " 'waiter black himself.for fuck sakes!stop look fuck everi rock.a|',\n",
       " '#peopl protest #trump #republican won-they trump fuher &amp;a|',\n",
       " 'go girl!! #maga',\n",
       " 'waiter ask want eat plate aswell...',\n",
       " '#allahsoil western islamophobes. a| #emirati #2016in4wordsa|',\n",
       " '#psa: age information, true ethnic biblic peopl caus overlap anda|',\n",
       " \"leav 'gweh' a! 2017, longer debat #wypipo #slaveri ora|\",\n",
       " 'd\" now, that\\' nice! we\\'r urg president-elect denounc #twitter accta|',\n",
       " '#carlpalidino vomit monster truckload shit #usa #firstfamili jail #hatecrim ? pig',\n",
       " \"stop call ! i'v met him. bbc he. he' got big work ahead.\",\n",
       " 'special kind stupid. #liber basi realiti history. must',\n",
       " 'let tell stori #videogames. specifically, #marvel super hero vs. #streetfighter.',\n",
       " 'uk 2016 express photo #euref #brexit',\n",
       " 'might libtard if... #libtard #sjw #liber #polit',\n",
       " 'last retro #christmasadv year, whilst love good bit #tupperwear wanta|',\n",
       " '#allahsoil lehman brother went belly-up septemb 2008 a| #2016in4word #islama|',\n",
       " 'sea shepherd suppoer racist! #antirac #seashepherd',\n",
       " 'areclueless buddi regard long stand american policy. comment reflect ignor',\n",
       " '#bigot carl paladino, ally, wish obama dead mad cow diseas a17 #trumpproofamerica',\n",
       " 'research: play greatest role #2016election,',\n",
       " \"surpris #trump' chosen #administr mere basket racists. though, #hillari #liar buta|\",\n",
       " '#good #bolt job disadvantag white privileg calmli educ white peopl aboua|',\n",
       " 'hiv infect oral sex white girl sex black guy',\n",
       " \"well there' surprise.... wonder much bit research cost..\",\n",
       " 'man come last race declar winner? #putinschoic #putinspuppet #retweeta|',\n",
       " 'council staff instruct anc go slow make da look bad. expos week ago.',\n",
       " '#hollywood present stereotype? #solidar #onelov',\n",
       " '#economicsanct #russia, #cuba #china, none #whiteprivileg #whitesupremaci #2017 #roughwat',\n",
       " 'fine ill boycott it!',\n",
       " 'live nyc see lot ove racism. disappoint see much twitter. must never tolerated!',\n",
       " 'still .',\n",
       " \"i'm mix w/ nativ american, spanish, irish u call\",\n",
       " 'prof small dick make small mind #deplorabal #whitesheet #inbr',\n",
       " 'great #tedtalk #storytel #nye16',\n",
       " '\"negro\" good allow go #heaven servant etern accord #mormonism. mormonisa|',\n",
       " 'complet justifi call comment. apolog',\n",
       " \"#putin &amp; #netanyah talk phone. what' , thug #obama think that... oh, whoa|\",\n",
       " 'everyon ask endors blatant',\n",
       " 'might libtard if... #libtard #sjw #liber #polit',\n",
       " 'much #stupid #black #white post',\n",
       " 'montana say racism #whitefish #montana #nazi #christma #hanukkah #richardspenc #andrewanglin',\n",
       " 'porn video free nude beach photo',\n",
       " '#popefr call #xenophob #trump would #catholicchurch #suppo',\n",
       " \"white-skin woman' unfair experi india! via\",\n",
       " '#allahsoil stone human different, graviti therea difference. #ema|',\n",
       " 'scientist ! child le 18 month old...',\n",
       " 'millenni shock #hillari quot think theyr #trump',\n",
       " '#freedownload peek #nyc here: come back holier moi??',\n",
       " 'confess former neo-#confederate. #audiblechannel #u #histori #slaveri #southern #truth',\n",
       " 'take action filthi plantat locat manager. disgrac pos! #boycott',\n",
       " '#allahsoil hitler fought battl noh africa access oil. a| #teambtsa|',\n",
       " 'need differ word altogeth defin \"/hatr white and/or men\", satisfi hate ppl like her?',\n",
       " 'diisgust perk offer passeng race male crew member flt 43. v other arnt same.',\n",
       " 'realli love compani there, petou well done. #antisemit #misogyni',\n",
       " 'might libtard if... #libtard #sjw #liber #polit',\n",
       " '#allahsoil correl religion islam violence. a|a|',\n",
       " '#auspo;l #hansen #paulin #muslim #senat chat maria',\n",
       " '&amp; #democraticpay keep tell #blm see #chicago #detroit &amp; everi #innerc #america!',\n",
       " 'pa 64.2 mil reject #putinschoic #boycott? business. &amp; #hatr must stoppea|',\n",
       " 'time #fightback evil men #donaldtrump #homophob #ego! #peacein2017',\n",
       " \"say he' asham thing he' done continu make shame remark woman #hypocritea|\",\n",
       " '#millenni think :',\n",
       " 'classic ! yet jewish bastard wonder sooo hate world.',\n",
       " \"f*** d|do govern deliber tour #refugees. coroni inquest #hamid' death &amp; busi usual\",\n",
       " 'greek girl ana sex black girl porn',\n",
       " '#newyearsev factophobia ale peopl 2017 whose use follow words: #islamophobia #femin #culturalenrich',\n",
       " 'oops! #carlpaladino mean publicli post comments... via',\n",
       " '#allahsoil vp got multi-million dollar bonu averag american lost homes. a|a|',\n",
       " 'term work way happi keep bandi about!! #justsay',\n",
       " 'shut rat',\n",
       " 'white flight derek black #kkk #trump #chang',\n",
       " \"brother &amp; noth new... whole #deltaairlin debacl would'v went downa|\",\n",
       " '#isra invent #apaheid #goyim word',\n",
       " 'idiot make blood boil! #pig #liar',\n",
       " '#feminismiscanc #feminismisterror #feminismmuktbharat #malevot ignor',\n",
       " 'white peopl expat rest immigrants? ?',\n",
       " '#itstheendoftheworldand #u #msm yet honestli expos deep root hatr toward #barrackobama base &amp; so... #trump',\n",
       " 'commerci show inter-raci coupl attack #amerikkka suppoer',\n",
       " 'video: #hate #liber \"#america enough crap!\"',\n",
       " 'might libtard if... #libtard #sjw #liber #polit',\n",
       " 'obvious #tcot get &amp; #inaspanof mayb #allof two second board - think \"knows\" whata|',\n",
       " 'le #jacobmarley #potter seem end evil #misogynist #narrow hole win georg bailey= #epica|',\n",
       " '#allahsoil war violent (except perhap thailand). a| #teambtsa|',\n",
       " '#mtv #whitepeople? #ccot via',\n",
       " 'deep need2know. clinton r eat brown bread drinkdark milka|',\n",
       " 'why? gonna suck - one want anyth shitfest #rapist #trumpunivers',\n",
       " 'hate ? #putinspuppet love attention. january...',\n",
       " '#sikh #templ vandalis #calgary, #wso condemn act',\n",
       " 'black trump suppoer smack cnn repoer race bait #trump',\n",
       " 'porn video smoke porn fetish',\n",
       " 'guy racist full ignor hatred. #bigot #ignor',\n",
       " '#conserv white boy (yea call #punk boy like did/do us) like etc annoy me!',\n",
       " '#feminismiscanc #feminismisterror #feminismmuktbharat #malevot ignor',\n",
       " 'multipl type racism america #u #america',\n",
       " 'kevin macdonald: ethnocentr normal ration #race #ethnocentr #altright #pegida',\n",
       " 'save date! 1-4-2017 sourcenation! live wed 8 #thependulum #newshow #policebrutalitya|',\n",
       " '#allahsoil death caus islam extrem occur civil wars, terror attacks.',\n",
       " 'excel analysi &gt;&gt; #backlash #refuge real crisi europ | apostoli fotiadi',\n",
       " 'need exit polit journal world. exit stage left.',\n",
       " 'damn bold #kentucki #jcpenni #mexican #bitchesbelik',\n",
       " 'dear #leftistlunatics, chang word tell aicl ? peopl sick.',\n",
       " '#dem need keep feed #narrative. #marxism',\n",
       " '#kindled d! publish industri tell-all! d! $3.99! #bookpublish #publish #kindl #kindled',\n",
       " 'lesson history, choos carefully; main l. king / malcolm x :: reconcili / vengeanc #blacklivesmatt #lga|',\n",
       " 'polic horribl hyper-viol raids... #acab',\n",
       " 'happi new year',\n",
       " 'might libtard if... #libtard #sjw #liber #polit',\n",
       " \"zionism .. ultra-ohodox jewish children' worksheet say 'non-jews' evil\",\n",
       " \"like know can't buy pot local drug store? marijuana unleash ibooks. a|\",\n",
       " 'jews, christian muslim believ good prevail. #emiratisa|',\n",
       " 'a| #hispan &amp; feel like stomp you? listen #retweet #boricuaa|',\n",
       " 'team #new #mc &amp; show #phillysuppophilli &amp; combat',\n",
       " 'sooooo may funni',\n",
       " '#carlpaladino #trump #offici #underfir #obama #remark',\n",
       " 'yay! except #ellen made comment suppo her? say #kimburrel made homo-resistanta|',\n",
       " '8 presidents, polici isra settlement obama slam treacher anti-semite. a|',\n",
       " 'good night sweet 5th day #kwanzaa #nia mean purpose. purpos 2017 fight #fascisma|',\n",
       " 'cutsi logic wrong. know construct build bridg walls! give trump chance! hate fora|',\n",
       " '#allahsoil term jihad highly-contest concept. a| #teambt #teamsuperjunior',\n",
       " 'repeat: concept #blackvote, #hispanicvote, #womenvote, #malevot ( talk #womenvote?), ea|',\n",
       " '\"kevin didnat understand head done, knew head fuck up.\" #bestof2016 #marriag',\n",
       " 'noth humor jibe u #arrog trump offici paladino fire crude obama remark -',\n",
       " '#allahsoil jews, christian muslim believ good prevail. cnn #bbc #msnbc #2017in3word a|',\n",
       " 'think award #bigotri self centr #dick',\n",
       " \"sexism may harm men' mental health...#men #woman\",\n",
       " '#black &amp; feel like a| stomp you? listen #retweet #tampa #miamia|',\n",
       " '#sikh #templ vandalis #calgary, #wso condemn act',\n",
       " 'noth would danger give #putinschoic impress accept #stoprac #boycott?a|',\n",
       " 'a|you #black &amp; feel like stomp you? listen #retweet #tampa #miamia|',\n",
       " 'basic sum #brexit means: #britaina #euroscept #xenophob #isolationist #tribalisma|',\n",
       " \"victim cant victimis oppressor... econom power so, black peopl can't racist\",\n",
       " 'girl world nude yong girl',\n",
       " 'buy dl book #2017 deal #whitenationalist #miloyiannopoulo #wha|',\n",
       " 'rise today out! stori polic brutal',\n",
       " \"univers wisconsin-madison cancel racial bias 'problem whiteness' cours\",\n",
       " 'student 89/90 #gay bar stood next white man said \"i pakis\" #jeremyjoseph #lgbt',\n",
       " \"like u deploy bc we'r interf #genocid within #africa stop kill eaca|\",\n",
       " 'fuck #xenophobia ! drink arabian spice coffee, eat berberian spice food! #rainbow #divers onlya|',\n",
       " \"la la land here' idea poc: make ur film u em, quit bitch whitey 4 white\",\n",
       " 'wow real time back day #smackdown #unitedstateschampion #uschampion #sdlive great #illeg talk',\n",
       " 'one 64.2 mil #american reject , #bigotri &amp; #hatr fli flag half mast jan.a|',\n",
       " 'sleep night? terribl person! sir repres everyth wrong country. gfi',\n",
       " \"iav id check polic zero time 8 months. course, discrep noth i'm wha|\",\n",
       " \"i'm alway amaz number excel black athlet want play racist school racist states. #ncaa\",\n",
       " \"#american suppo #zionist #occupi let' hope america wake plight #palestinian\",\n",
       " 'save date! 1-4-2017 sourcenation! live wed 8 #thependulum #newshow #policebrutalitya|',\n",
       " '#waitingf #wildest #cutest creatur eah, #takuyakimura w/ girl #highfashion #branda|',\n",
       " \"i'm tri hard make handwritten indirect pretti tweet shit like this. shut\",\n",
       " '#feminismiscanc #feminismisterror #feminismmuktbharat #malevot ignor',\n",
       " \"#instagram' #bestfeatur want read #stupid #childish #rude #comment dd 1/2\",\n",
       " 'stop tri find even happening! #airingofthegriev',\n",
       " '#black &amp; feel like a|on you? listen #retweet #tampa #miami #newyorka|',\n",
       " 'nude teen play woman spo',\n",
       " 'work trump good thing',\n",
       " 'countdown till asshol gone obama moron creepi uncl joe! bye bye scum!ddd 1/4',\n",
       " 'today 1000 s! #pornstar',\n",
       " \"arabs' : islamofascist #arabsa|\",\n",
       " 'sorri',\n",
       " 'sniff subtl &amp; ignor nano second even underli flippant comment toward someon else.. #awar',\n",
       " 'might libtard if... #libtard #sjw #liber #polit',\n",
       " 'sad peopl feel treat other like scum religion, race, sexuality, ect. #jcpenney #ra|',\n",
       " '#misogoni spectrum. vote , it.',\n",
       " '#buffalo, #newyork : #trump alli carl #paladino slam wish list #obamas. cockwombl #usa',\n",
       " 'speak #scienc #medicine... ddd cc',\n",
       " \"rememb this? - camber sand death blame victims' 'culture' council #rother\",\n",
       " '#school board seek oust member jab #obama...',\n",
       " 'racist?',\n",
       " 'stop',\n",
       " '.@user use phrase like #sandnigg accept 2 ya, hm u isa|',\n",
       " 'latest zurich times!',\n",
       " \"strang silent #idiot 'statement' surprised. #twonitwittrumpsuppo\",\n",
       " 'typical. could anymor ? look hate feed. say #notmypresidnet buta|',\n",
       " '#psa: age information, true ethnic biblic peopl caus overlap anda|',\n",
       " '\"the die light\" villag green/towna2 #antisemit #hocoschool #columbiamd #hocomd',\n",
       " 'porn vid wwwsmallgirlsexcom',\n",
       " 'reason, stori snapchat seem alway gear toward women.',\n",
       " '#vestal, #newyork : pupil su school district alleg classroom incid #usa',\n",
       " \"'@user #14th amend #blm discuss thank '\",\n",
       " \"what' differ jew pizza? pizza scream oven. joke #jewishjokea|\",\n",
       " 'sea shepherd suppoer racist! #antirac #seashepherd',\n",
       " \"forbidden write '2 blacks' restaur bill ok wear shi say 'kill whites'? #dzang #capetown\",\n",
       " 'ya real winner #loser',\n",
       " '#allahsoil never equat cultur exclus geograph boundari a| a|',\n",
       " 'word factory: race denial prevent healing! #southafrica #leadership #transform #inequ &gt;2',\n",
       " 'watch one u.s. #marin fearlessli take violent angri mob pro-palestin protest ...',\n",
       " '#hispan &amp; feel like stomp you? listen #retweet #boricua #miami #newyork #losangel',\n",
       " 'latest african american turmoil! thank #blacktwitt',\n",
       " 'peruvian woman nd adult game',\n",
       " '.@user d1@user pleas stop go away &amp; take ur ugli skank u. #pussygrabb',\n",
       " 'thought factory: left-right polarisation! #trump #uselections2016 #leadership #polit #brexit #blm &gt;10',\n",
       " '#sikh #templ vandalis #calgary, #wso condemn act',\n",
       " 'video men woman malayale xxx picturebangladeshi',\n",
       " 'a| #black &amp; feel like stomp you? listen #retweet #tampa #miamia|',\n",
       " 'im #done #delta #airlin #rude #disrespect #comment &amp; #action #neverdelta',\n",
       " 'dear would pleas ask shameless givea|',\n",
       " 'defend woman \"condescension\", turn defend woman verbal assail fa|',\n",
       " \"pt 2 #fuckdonaldtrump #13thdocumentari #2017 .that' bitch as #presid\",\n",
       " 'racism cease. white priviledg must beast. god, help u this. #melanin #poetri #write',\n",
       " 'chick get fuck crazi european sex',\n",
       " 'pleas #resign school board.',\n",
       " '\"the realiti tech industri made regular-ass people.\" #tech #discrimin',\n",
       " \"he' unamerican . #fact\",\n",
       " \"#lgbti #poc need speak that' rife within #lgbti community! unacceptablea|\",\n",
       " \"that' harsh, even post #brexit, #xenophobia, times. next, chariti call send bugga|\",\n",
       " '#nc \"monster law\" made republican lawmak disenfranchis black voter \"with near surgic precision.a|',\n",
       " 'latest #socialmooc! thank #feliz2017',\n",
       " 'lock gate! #pamgelleheracist #mmiw #mmiwg',\n",
       " 'mma fans: loss matter, great! mma fan rhonda rousey: lost twice, trash. #doublestandard',\n",
       " 'todaya attitud woman got common norman bates? #psycho #femin #hollaback',\n",
       " '#allahsoil like religions, islam strong unifi force. #teambtsa|',\n",
       " 'anoth comment social media!! idiot!!!',\n",
       " '4 #whitepeople? 2 cou. medium coverage. wp victim fear lives. mayb probation. #blackperson. who???',\n",
       " 'realli telling. #microaggress #race #whiteprivileg #antiblack',\n",
       " 'v #white unab #obaman thing \"killer cops\" &amp;a|',\n",
       " 'might libtard if... #libtard #sjw #liber #polit',\n",
       " 'remark racist even utter wife. #carlpaladino involv anyth #educ',\n",
       " '(only) black life matter also close affili suppo worker world pay communist orga|',\n",
       " \"racism america: 'kill obama' 'muslim welcom here' sign new mexico draw critic -a|a|\",\n",
       " 'msg #hope #newyear: busi end . #endof2016 #tedtalk #tedatibm',\n",
       " 'icymi: \"whi 2016 complet washout anti-racism\" #chang #antirac',\n",
       " 'woman catcal walk #newyork shut harass best way ever #harass #ni #manhattan',\n",
       " '#marijuana prohibit sta #detroit #mi #atlanta #tennesse #alabama #georgia #florida #utah',\n",
       " 'worst custom servic unit states! alreadi repo 2 better busi bureau!',\n",
       " '#sikh #templ vandalis #calgary, #wso condemn act',\n",
       " 'might libtard if... #libtard #sjw #liber #polit',\n",
       " 'u lose ur right 2 call other \"racist\" tweet like this. hypocrite. #whitegenocid',\n",
       " 'watch white water',\n",
       " 'woh reading. \"here\\' joseph boyden reinforc system oppress first nations\" via|',\n",
       " 'oops! carl paladino mean publicli post racist comments... #blm #youngturk',\n",
       " \"ask realli want follow i'm done.\",\n",
       " 'retweet agree!',\n",
       " '#sunbury, #pennsylvania : flier post outsid mosqu #muslim #usa',\n",
       " 'alt-right promot new kind racist genetics? #eugen',\n",
       " 'aaall men creat equal,a donat believ ita|mayb stop say it!a - hube humphrey #bigotri',\n",
       " 'non stop elect blame #cspan hide 8 year 2016 pittsburgh california',\n",
       " 'congrats, tucker, came exactli are. #childish #paisanhack',\n",
       " 'video men woman malay hot super sexi girl',\n",
       " 'latest cogniz blogger! thank #fostercar',\n",
       " 'time #grabyourwallet &amp; boycott give book deal troll ban twitter',\n",
       " 'book - #german #coloni global age ht #imperi #blm',\n",
       " 'stellar year',\n",
       " \"go great year!!! can't wait till happen :) #treason #traitorump #liara|\",\n",
       " '#priyankachopra subject fought back hard! #hollywood #quantico #bollywooda|',\n",
       " 'man, see wear manchest unit hoodie: fan? me: yes! man: sure? even know one player?a|',\n",
       " 'transsexi nake boob',\n",
       " \"#quebec' #humanright &amp; #justic system fail protect victim polic\",\n",
       " '#mcconnel obstruct go way back discov #obama black',\n",
       " '#alexpasc #friend late daddi #music teacher. eu easteuropean',\n",
       " \"#misogyni aliv well #left. never let tell isn't.\",\n",
       " '#allahsoil muslim islam extremist (very, are). #emiratisa|',\n",
       " 'plz sign #japan #bulli #tweet4taiji',\n",
       " \"#rapecultur #rape #patriarchi #oprollredrol #steubenvil #anonym #cnn #ma'likrichmond #trentmaysa|\",\n",
       " 'silenc betray innocent. #activ #hunger #nofur #animalright #noyulin #eah #wildlif #vegan #lgbt',\n",
       " 'ye call #michelleobama gorilla racist long thought black peopl beta|',\n",
       " 'major kind peopl arenat talk enough via #environment #a|',\n",
       " 'past 8 yr #despit #demagogueri #obstruct #feara|',\n",
       " 'qualif trc, professor bozzoli? #highereduc #southafrica',\n",
       " 'outrageous, #un vote: un vote #isra #jewish busi #judea #samaria blacklistina|',\n",
       " 'block troll promis #blacklivesmatt &amp; let nonsens rant boosa|',\n",
       " 'black woman demon porn',\n",
       " 'time end now. \"day life (live)\" shyan selah #cafenoirproject',\n",
       " 'wow! blog about! ddd',\n",
       " \"idioci feminism. actual think microaggress matter. here' proof:\",\n",
       " 'many#pol pass mani time said nothing? #bluelivesmatt #draintheswamp #ferguson',\n",
       " 'lasses...',\n",
       " 'sick pre-program #hillbot rhetoric! enough, already!! unity, patriot love fea|',\n",
       " 'problem america today. #dumbism is. dumb equal oppoun killer dreams.',\n",
       " 'countri argu differ shade black! d\" d!',\n",
       " 'send #trump inauguration~ join today!!',\n",
       " 'coz vids, dont mean woh wotching, hilarious, must watca|',\n",
       " 'scari long ago!',\n",
       " \"funni can't get rid #7, , #1stammendment. mani distract lousi qb. mayb next year, probaba|\",\n",
       " 'put big girl panti pandi ass',\n",
       " 'trump lackey carl palladino th get mate betwn pig &amp; hyena &amp; iq slug. apolog pigs, hyea|',\n",
       " \"vital address porn' influenc discuss , sexual abuse, demean languag women. hta|\",\n",
       " 'nose: perfum spark furor',\n",
       " '#hispan &amp; feel like stomp a| you? listen #retweet #boricuaa|',\n",
       " 'shop purg trump products. think canadian are?',\n",
       " 'attack chinguas~ &lt;33',\n",
       " 'wen south choos dark south heroines. kajal tamanna ami wtf??',\n",
       " 'ouch woow! #sexi',\n",
       " '#carlpalladino make comment #michelleobama.',\n",
       " 'meet wilmington peacekeepers, walk beauty. #cnv week action #peac #povey #climatea|',\n",
       " \"liz treacy, condon ex-councillor mark hackett' #islamophobia\",\n",
       " '#whitesupremacist like could merg imag like without understand racist impact effect.',\n",
       " 'fear root racism. mostli fear ego acknowledg anoth human wors bettera|',\n",
       " 'say comment joke smth, opinion? think so. .',\n",
       " 'trump wall . coal fire electr produc need dispos #sulfur fli ash stockpiles.',\n",
       " 'know. ref. #malevot &amp; #womenvot #profiling, ref. #blackvote/#hispanicvot . accept #a|',\n",
       " '#trump = #biher non stop elect',\n",
       " '#truth #malevot',\n",
       " 'allow &amp; #bigot #race-bait #slaveown work station. acceptable? #fire',\n",
       " 'definit histori racist idea requir read #ushistori #afamhist',\n",
       " 'that #liberals!',\n",
       " 'krakow beauti go &amp; stay there, &amp; let u build #love &amp; #peac uk. east european #relatives.',\n",
       " 'lauren duca say look like smell like vanilla, mean white. rocks! a$?a$?a$?hi tenac',\n",
       " 'thank you!! power #social #media! #aand',\n",
       " '#bigot person would tweet me. call name tell truth.',\n",
       " \"discuss republican thing critiqu . can't ignor consequences.\",\n",
       " '#gtfoh itz #crackalog malign black woman abt rais son instead arrest white man choke',\n",
       " 'aanti-islamista ralli organis #neilerikson shown laugh death footag #auspol #rwnj #tinfoilhat',\n",
       " 'great speech war veteran #iraq #war #profit #militari #invas',\n",
       " '#perpetu a! a&amp; chang titl kkk documentari amid critic',\n",
       " \"#trump #newyork co-chair '#gorilla' comment #michelleobama 'damn #asians' #draintheswamp\",\n",
       " '#allahsoil mani politician claim jihad attack human a| #teambtsa|',\n",
       " \"damn video: racist hillari say ' talk white people' #hillari\",\n",
       " 'would take avitar?? project #hate n ??',\n",
       " \"#trump' hair mysteri &amp; may he' avers #appropri tip black women.\",\n",
       " \"here' ignor &amp; look like. ain't swastika &amp; burn crosses...\",\n",
       " 'multipl type racism america #u #america',\n",
       " '#4 popular post year brilliant take #whiteprivilege: #a|',\n",
       " \"#cpcldr ~ #elxn42, enabl mp' make statements. great alt-right work, #cpc. #cdnpoli\",\n",
       " '#mcconnel obstruct go way back discov #obama black',\n",
       " \"listen sam cook ridicul pack pavillion' help keep calm #breath #procrastin #shitshow\",\n",
       " \"leav 'gweh' a! 2017, longer debat #wypipo #slavera|\",\n",
       " 'reson mani muslim might',\n",
       " '#theresist #notmypresid ever #treason #narcissist #gaslight',\n",
       " 'white girl sex black guy best world sex',\n",
       " 'verified: shock video #myanmar polic tour #rohingya civilian shot #koetankauk nov 5, 2016.a|',\n",
       " '#theresist #notmypresid #russiag #votersuppress #tyranni 1% want u fight pa|',\n",
       " 'porn blue tube offic woman',\n",
       " '- bet hc white, would fire year ago! #fact',\n",
       " 'dear pleas defin #systemicrac #economicapaheid #da intend adda|',\n",
       " 'pleas retweet video spark outrage: white offic arrest black mother litter argument #',\n",
       " 'scapelliti: woobietuesday: block troll promis #blacklivesmatt &amp;a|',\n",
       " '#hispan &amp; feel like a| you? listen #retweet #boricua #miamia|',\n",
       " 'girl world natt chanapa nu sex fuck',\n",
       " 'judg let #rapist #johnrkhoward wlk aftr #rape special need blk teen. ddnt wnt tht record, would nevr work n revers',\n",
       " '#allahsoil build wall alreadi mani obstacl overcome? a|a|',\n",
       " 'porn video iran fuck girl',\n",
       " 'excellent! rambl about: alt right #tcot #tlot #altright #blacklivesmatt (@user',\n",
       " \"fantast video #buzzfeed' hate men. #manhat\",\n",
       " '#newyear! new #prez. new #destruction. new #commercials. new !new order! new tweets. new #poopin. new kid ta|',\n",
       " 'fuck di bag #notmypresid #fucktrump #sexualpred #liar #incompit #orang #delusion #divid #moron',\n",
       " 'case commonwealth internet v evid prove guilti #antisemit , , #misogyni',\n",
       " \"best think i'v ever heard nicola sturgeon. can't true.\",\n",
       " '#southsudan provok neighbour noise. #scumbag say - ever wants. #uncivilis trash. hater',\n",
       " '#allahsoil fear monger becom loudest voices, know could happen. a|a|',\n",
       " '#ladi like... lol wtf this? let get white house. shame.',\n",
       " 'latest eu #tweet daily! thank #healthi',\n",
       " 'great aicle. right money! #starspangledbann #slaveri #apaheid #usa',\n",
       " 'might libtard if... #libtard #sjw #liber #polit',\n",
       " '\"the realiti tech industri made regular-ass people.\" #tech #discrimin',\n",
       " 'racist austin polic ofc cameron staff #cameronstaff #camstaff #officerstaff #acab #cowardcopsa|',\n",
       " 'please, stop.',\n",
       " '#facemask run risk look unintent . :/ moredun, edinburgh',\n",
       " 'beyond upsetting. one biggest fans. #whitepeopl #hawaii #jlaw #disrespect',\n",
       " \"fo woh, texas, polic chief: offic act 'rude' racist viral video\",\n",
       " 'wife crash funeral, horrifi husband order killed; commun turn',\n",
       " \"stop lie #keithellison' 11 year anti-semit hate group #keithx #dncchair #antisemit\",\n",
       " '#fascism arriv #nazi salut.but sharp suit #altright #richardspenc #trumpism #da|',\n",
       " 'hot new release! swiftli sharpen fang #radicalis #reveng #preorder #99c/a|',\n",
       " '(advanc valu chain video ) #valuechain',\n",
       " '#black &amp; feel like stomp a|? listen #retweet #tampa #miamia|',\n",
       " \"tell jefferi beauregard quit foolin' around come pick hood &amp; sheet saturdaa|\",\n",
       " 'uk 2016: fell pop star job #bbc #euref #brexit #media',\n",
       " 'whata matter noh carolina? progress reactionari #fascism #lgbt',\n",
       " '#peopl protest #trump #republican won-they trump fuher &amp;a|',\n",
       " '#allahsoil simplist worldview exist today 10 second soundbite. . a| #emiratisa|',\n",
       " 'open hvg #fibromyalgia &amp; #survivor year #childrape, one rapist. still chief complaint.',\n",
       " 'michel obama crack pipe',\n",
       " 'think #alexjon say #draintheswamp? #populationcontrol good video him. got him.',\n",
       " 'hey #hate . nobodi come close #fearmong #misogni #scum',\n",
       " \"cuomo: paladino' 'racist, ugly' comment obama embarrass new yorker #polit #ca|\",\n",
       " 'malia shake ass! fine!.....pass blunt',\n",
       " '.@user tragic 4 white american prompt mani 2 vote 4 candid slash owa|',\n",
       " 'mock obama black. #brexit',\n",
       " '#antisemitism; , kills. 2017 remember, no-on born hate. love chang world!',\n",
       " \"clear we'r crisi #compass country. it? read\",\n",
       " 'danger white liber oveurn (appli liber men femin too)',\n",
       " 'look like 6-year-old post dictionari definit &amp; act prove point.',\n",
       " '#dystopian tale , #radicalis &amp; #reveng #preorder #99c/99pa|',\n",
       " \"let' this! #maga #thanksjackass #packyourshitobama #2a #trumptrain #tcot\",\n",
       " 'woman need arrest prosecut encourag rape anoth race #depoat',\n",
       " 'dick alway dick !! #corrupttrump #sexoffend #notmyprez #taxevad',\n",
       " '#wtf racism then? would done white mother? proof group isa|',\n",
       " '#texa princip resigned! #justicereform politician corrupt. mean judg in...',\n",
       " '#zionism form',\n",
       " '#activists: want stop ? sure begin? let u show how: cc:a|',\n",
       " \"reel let girl first there' massiv queue guy\",\n",
       " \"can't believ show blaze saddl tv lead actor black man... that'\",\n",
       " 'council staff instruct anc go slow make da look bad. expos week ago.',\n",
       " 'latest merocrush daily! thank #media',\n",
       " \"i'v 9.5 year mostli #arrog #abus #discrimin &amp; even #dutch '#drs'... leav die!\",\n",
       " 'nutshell.',\n",
       " '#black &amp; feel like stomp you? listen #retweet #tampa #miamia|',\n",
       " 'cleveland polic union overwhelmingli endors trump presid #cleveland #ohio 75% cop #white &lt;&lt;',\n",
       " 'billionair chair trump say hope obama dy michel go back male ape africa. #usa #usa2017 #meltingpot',\n",
       " 'great country: #australia #israel : #australian #opkillingbaya#seashepherd #israelia#kpop #kpopdanc',\n",
       " '#patriotwatch: 3.42 nooltham 2 #eltham #refuge #auspol #asylumseek #rwnj #a|',\n",
       " 'happi newyear! #sameshitnewyear #corrupt #trump #terrorattack #fundament #violenc #isi #crisi #hatr #murder #terror',\n",
       " \"next klan meeting?! wife white &amp; i'm proud &amp; love. other gift froma|\",\n",
       " 'a| #hispan &amp; feel like stomp you? listen #retweet #boricuaa|',\n",
       " 'might libtard if... #libtard #sjw #liber #polit',\n",
       " 'hard believ live world 700 pa hillari thread trend \"toni hawk\" is. a|',\n",
       " 'buffalo school district boot trump alli racist comments. #birdsofafeath #resist :',\n",
       " 'jake right, 2 mani ppl lack power take stand &amp; drown small mind &amp; oft evil tendenc past',\n",
       " '#blacklivesmatt #lanasprayberri anoth posit author got go #blacktwitt',\n",
       " 'ath biopolit desir neo-nazi fashion iconsa #eugen',\n",
       " 'comment reflect ignor',\n",
       " 'true wife sex stori chick get fuck',\n",
       " 'need stop racist let terrorist kill you. #sarcasm ac/ #dod, #trumptraina|',\n",
       " 'next polic vehicl #anc hang poster sing kill white noth happen him.a|',\n",
       " '#allahsoil enlighten wast wil blind. a| #emirati #2016in4word',\n",
       " 'might libtard if... #libtard #sjw #liber #polit',\n",
       " 'campaign co-chair answer questions... #trump',\n",
       " '#goodonedean!!! #metoo!!! #lol. #trumpism #putinism. #donaldtrump #traitor, #commit #treason.a|',\n",
       " '\"the die light\" villag green/towna2 #antisemit #hocoschool #columbiamd #hocomd',\n",
       " '#nyca #assault a #womenonli #forher #2017 #newyear #resolut #womenissuesa - self defens woman cours',\n",
       " '#anc complain pap white accord #affirmativeact #bee #quota lawa|',\n",
       " '#happi #white #kwanzaa, #holiday #african #whitesupremacist #celebrate. #happykwanzaa #happyholiday #merrychristma',\n",
       " 'alt-right promot new kind genetics? mt',\n",
       " 'sea shepherd suppoer racist! #antirac #seashepherd',\n",
       " 'snatch wig jame brown head &amp; get !',\n",
       " 'asshol like u shut up. everi rape prevent victori humanity. sha|',\n",
       " '#allahsoil term jihad highly-contest concept. a| #teambt #teamsuperjuniora|',\n",
       " '#allahsoil cold war fought oil. a| #teambt #teamsuperjunior a|',\n",
       " 'ppl wait 10 hr karachi airpo, miss connect flight put flight 24 hr latea|',\n",
       " \"i'v pay attent past year/8 years. he' a|\",\n",
       " 'black dad put babi mama blast take biraci daughter get braid',\n",
       " 'kind tweet want compani rep send out?',\n",
       " '#allahsoil next best seller book! #isi #islam #2016in4world #2016in4word #terrorist #gwot a|',\n",
       " '#allahsoil awe peoplea origin meant awe white, landhold males.a a|a|',\n",
       " 'queue basket food shopping, 50\\' guy say \"give u smile\". think respons first look face.',\n",
       " 'thank santa , best christma present ever #cdnpoli #abpoli #yyc #yeg #canada #ottawa',\n",
       " 'latest blicqerac/ daily! thank #new',\n",
       " \"hold open door woman woman nice thing do, that' . even tri deni\",\n",
       " 'comment reflect ignor . = #endofcivil',\n",
       " 'haha wow. use n-word &amp; equival arab \"abd\" mean slave:',\n",
       " 'over-excit man attack cat open present cat rep trump yo!',\n",
       " 'jonjo shelvey = man ever racial abus someon without say anything! #kickitout #shelvey',\n",
       " 'good man woman measur stabl relationship opposit sex. #money #parent #homosex clich semant #2017',\n",
       " '#treasonoustrump #trumpleak trump #misogynisttrump frnd',\n",
       " 'forget woman misogynists!',\n",
       " '#gracemugab husband. #mugab #zimbabw',\n",
       " 'btw, fuck blm fuck bitch real . simpleton figur one out.',\n",
       " 'approx. 63 million vote #tinyfingeredpuppet 74 million vote him. mandat &amp; cona|',\n",
       " '#hispan .. feel like stomp you? listen #retweet #boricuaa|',\n",
       " 'even trumpa transit team want deal carl #paladinoa comment obama - vaniti fair',\n",
       " '. . #climatechang denial. #fascism. #antiegalitarianism. #narcissism. #trump.',\n",
       " 'might libtard if... #libtard #sjw #liber #polit',\n",
       " 'adam saleh racist #adamsaleh',\n",
       " 'harbaugh time stupid question bikinis. thank you, time 4 . via',\n",
       " '.@user .@user #maga .@user silenc approval. alway knew pig youa|',\n",
       " '#trump alli made remark toward obama - dec 24 9:52 et',\n",
       " '#altright us &amp; insecur lure men #whitesupremaci',\n",
       " \"like #polit that' one thing ?? #pathet dd 3/4dd 3/4\",\n",
       " 'dear #theresamay. #brexit &amp; lies. #remain never unit leavers. shit christma ladi',\n",
       " 'd\"#whitegenocid #bigot tell white student deserv live reason die!!d\"',\n",
       " 'prison offic goad #muslim inmat need restrain pa game',\n",
       " 'racist school teach student \"white problem\"',\n",
       " 'thank you!! power #social #media! #aand',\n",
       " 'no,w see instrument promot fals narr &amp; abet divis blm agenda.',\n",
       " \"jeff session omit decad record ag confirm hear can't hide\",\n",
       " 'say presid elect call american enemi #hate #ignor',\n",
       " '#neogaf today anoth attack japanes chinese, claim racist',\n",
       " 'america great without assholes. #xenophobia #lockerroomtalk #maga #notmypresid',\n",
       " 'racist austin polic ofc cameron staff #cameronstaff #camstaff #officerstaff #acab #cowardcopsa|',\n",
       " 'mean, cruel #talkradio host like make imposs 4 person color like 2 feel american.',\n",
       " 'awe peoplea origin meant awe white, landhold males.a a| #2016in4wordsa|',\n",
       " \"can't wait see u &amp; admin hang #treason #trump #makeamericagreatagain a|\",\n",
       " 'feel hate potu ever? #crookedtrump #traitor #notamericaschoic #bigot',\n",
       " 'time #whiteman call get result',\n",
       " 'stay course! #loser never win dinosaur #thefutur belong u #nofear go back! #inferioritycomplex',\n",
       " '#nazi #swastika #ebay! #trump #donaldtrump #republic#whitepow',\n",
       " \"dear #democrat , djt allow #islamicrad 2 use america' freedom 2 destroy r freedom #islamophoa|\",\n",
       " 'everyon pleas pound #misogynist comment #merrychristma great lawa|',\n",
       " \"republican trump buddi who' rabid racist can't figur what' wrong w/say violent hate things.\",\n",
       " \"dare accur poray #treasonoustrump china? next they'll say he' #fascist, lapdog putin.a|\",\n",
       " '#korean &amp; joseon peopl japan, abus claim right rough demo. #algona',\n",
       " 'sex video chines woman workplac',\n",
       " '#bluelivesmatt #woke #manspread okay #ifyourenotwhiteyourenotracist',\n",
       " 'profit thing im #america',\n",
       " '\"nigger?\" #lifelesson white kid grew 60\\'s. #blogpost #whitepeopl #respecta|',\n",
       " 'go girl!! #maga',\n",
       " 'chick get fuck c thoma howel nake',\n",
       " 'everyday life white south african.',\n",
       " 'might libtard if... #libtard #sjw #liber #polit',\n",
       " 'cuss &amp; call racist fb \"work attire\" thread yep. comment dread wouldnt safe ceain jobs.',\n",
       " 'trump #fascist &amp; #bigot #misogynist #sexualpred proven word',\n",
       " 'everytim wear soccer shi joie fri say look mexican fuck',\n",
       " 'dear #versace: wont buy more, yur retail sign, pissedoffitalian',\n",
       " '10 hour walk #nyc woman #newyork #women #men #bigot',\n",
       " \"#rohingya muslim tour offici dc/ #myanmar' .@user rula|\",\n",
       " \"#2016 review show church' respons #immigration, , polit &amp; mercy.a|\",\n",
       " 'see #russia #syria, destroy masjid',\n",
       " 'easy. #bigot',\n",
       " 'far blog comment claim senad lulic statement racist. join debate. #lazioa|',\n",
       " \"someon say 'i'm racist, but......'.\",\n",
       " \"check post! confession: i'm #america #controversi #equal #kaepernick #nationalaa|\",\n",
       " '2017 new beginning!! get rid #nationdivider! good riddanc pos!!',\n",
       " '#trump alli wish mad cow diseas death #obama - cnn #hatr #insult',\n",
       " '#gop #deplor seen mani \"conservative\" meme last 8 year #notfunni',\n",
       " '#hispan &amp; feel like stomp you? listen #retweet #boricua #miami #newyork #losangel',\n",
       " 'victim #islamophobia adam saleh refer black peopl \"abeed\" (slaves) one sketches.',\n",
       " '#allahsoil cold war fought oil. #teambt #teamsuperjunior a|',\n",
       " '#mmusimaiman toward white #zuma #malema combined. #da #southafrica',\n",
       " 'ever notic word non black person word #nigger black person yield almost reaction?',\n",
       " 'enough 2 say #notmypr #wtf2016 #neverump #unpresid #bigot ...',\n",
       " 'word factory: race denial prevent healing! #southafrica #leadership #transform #inequ ~9',\n",
       " \"refer everyon els racist. simple, they'r project intolerance.\",\n",
       " 'noth #human #cruel #bitter #sociopath soul fled #fugli #lunatic.',\n",
       " 'dumbest video ever #whiteguy #mtv via',\n",
       " 'holiday better ever marijuana unleash ibooks.',\n",
       " 'might libtard if... #libtard #sjw #liber #polit',\n",
       " 'truth #sexualharass &amp; #laborviol',\n",
       " 'wast time sdob plaster color profil blm bacon lettuc mater matter 2 slice bread',\n",
       " \"argentin woman protest facebook' sexist censorship rules, eg 2. #censorship #freethenippl\",\n",
       " 'pic say otherwis young girl confin kitchen. void meaning, beyond cheap public #topoli',\n",
       " 'think #blacklivesmatt would b protest #plannedparenthood 24/7 fit #ideology.',\n",
       " '#allahsoil greenspana monetari polici equat declin real wage worker a| a|a|',\n",
       " '#victim #hatecrim (i call cr*cker) truli #understand feel like bea|',\n",
       " 'talk make racism worst, logic talk talk racism make worst, make worst.',\n",
       " '\"#liberals\" look same? mean know i\\'m say cmon! ps. ia|',\n",
       " \"3 #miami offic fire target practic 'jokes' #policebrut #newswith\",\n",
       " 'emma stone hollywood : \"they\\'v given joke away male co-stars\" viaa|',\n",
       " 'axe #cbc2017 comment .....celebrity?? she?d$?',\n",
       " 'overwhelm evid compani #trump keep echo sentiment &amp; ideal #dumptrump',\n",
       " 'forget, - research show sexist men psycholog problems. #tuckercarlson',\n",
       " '25 jan. interest #discrimin affect crimin justic system?',\n",
       " 'fuck #homophob #misogynist #xenophob #whitesupremacist may fool major',\n",
       " '#peopl protest #trump #republican won-they trump fuher &amp;a|',\n",
       " 'decid becom #feminist begin 1/1/17. feminist read plz help find educ materials.a|',\n",
       " 'academia #yehtut offer nuanc take #rohingya #dvbmultimediagroup #yehtut &amp;a|',\n",
       " '#whitenationalist leader reveal 5 horrifi hope america',\n",
       " 'melania #trump help write speech end us. titl came great - ai havea|',\n",
       " \"feeling' mutual, , #ableism, islamophobia, , #transphobia, #misogyny, #homophobia-enablin' #bigot.\",\n",
       " \"i'm interest #linguist address #race &amp; . racism #power. #raciolinguist bringsa|\",\n",
       " '#peopl protest #trump #republican won-they trump fuher &amp;a|',\n",
       " 'first offici codifi 15th-centuri #spain',\n",
       " 'louisville, kentucki woman go rant #jcpenni #exposerac #ignor',\n",
       " 'latest \"say what?!?!\" thank #culturesway',\n",
       " 'end 2016 smoke reefers, go crazy, listen negro music. eat that, mr anslinger. #cannabi #swingtanzenverboten',\n",
       " '#feminismiscanc #feminismisterror #feminismmuktbharat #malevot ignor',\n",
       " 'ever peotu will complain abt defeat oppon &amp; pay well elect over, sa|',\n",
       " \"still root society' attitud toward black women' hair. read candid uyanze:a|\",\n",
       " '10 hour walk #nyc woman #newyork #women #men #bigot',\n",
       " 'snowpeopl movi white.',\n",
       " 'disgust #grandmoth #grandson #exist #alreadi',\n",
       " 'hey - $14000 ivanka bracelet? feel good profit #xenophobia? #misogyny? #hatred?a|',\n",
       " '#allahsoil conflat islam extrem terror a| #emirati #2016in4worda|',\n",
       " '#spoti perhap #murrayhat would happier #murray bit like #gazza? hero #drunk #wifebeatera|',\n",
       " 'fall go thing wonder #resist #narcissist #psychopath #mysoginist #clown #happynewyear2017',\n",
       " \"no, we'r\",\n",
       " '#joemixon #espn #minnesotavikings, \"goe without saying\", he\\' #homophobe, too. #sucklahoma #oaba|',\n",
       " '#allahsoil muslim arenat one displac uncl sam a| a| #2016in4wordsa|',\n",
       " '#allahsoil enlighten wast wil blind. a| #emiratisa|',\n",
       " '#femin #equal help #everyon help #men #women hu everyon everywher',\n",
       " 'bogard joint, friend. marijuana unleash ibooks.',\n",
       " 'might libtard if... #libtard #sjw #liber #polit',\n",
       " '#ass #hole u #head #big hole= #no #brain #hea #love #truth #kind #peac #compassa|',\n",
       " '\"nigger?\" #lifelesson white kid grow 60\\'s. #bloggersblast #respect',\n",
       " '#sikh #templ vandalis #calgary, #wso condemn act',\n",
       " '#netanyahuspeech stir anti-jewish hate &amp; twitter progress',\n",
       " \"today' donkey #zionazi proud murder real palestinian semit child - that calla|\",\n",
       " 'ww, feel culpabl 4 deepli entrench system exist dismantl',\n",
       " 'racism stuf skinni jean hipster comb-ov bad racism shroud white hood #altright = #a|',\n",
       " \"peopl like they'v come term like #terrorist #asshol\",\n",
       " 'trump, medium normal #kkk? | alternet',\n",
       " 'dull british .',\n",
       " '#black &amp; feel like stomp a| you? listen #retweet #tampa #miamia|',\n",
       " 'silveragatka: screenshot &amp; share snap michaelacoel impoant message. #coloua|',\n",
       " 'critic threaten boycott simon &amp; schuster milo yiannopoulo book deal | huffington post',\n",
       " \"see driver &amp; we'r talk african speak english fluentli #moron got thoua|\",\n",
       " '...and answer relat studi #hate group #kkk ..??? think ur struggl relev',\n",
       " \"serious got reject driver soon got car i'm white... wow! finest!\",\n",
       " 'sex video fuck cross',\n",
       " \"still root society' attitud toward black women' hair. read candid uyanze:a|\",\n",
       " 'no, definit mexican. #fakenewsal',\n",
       " \"we'r also upset lost measur , useless appendix govern thaa|\",\n",
       " \"d(c)the white establish can't blk folx run around love promot great\",\n",
       " '#pueorico, #environment injustic inflam protest #coal ash: tya|',\n",
       " 'latest eco news day! thank #indigen',\n",
       " 'jessica want christma bdsm ai, a(r) #nd>>nd+-doddeg #cam',\n",
       " 'liber belief that. pay inclus belief equal all, anywhere. traa|',\n",
       " '#sikh #templ vandalis #calgary, #wso condemn act',\n",
       " '#patriarchal, #misogynist, cult. #christian',\n",
       " 'look passion #ivankatrump plane. #fake. yet ignor #adamsaleh. #raa|',\n",
       " '- flight attend #gender #genderequ word journo',\n",
       " \"jeff session omit decad record ag confirm hear can't hide\",\n",
       " 'call #carlpaladino step know spew consequences!',\n",
       " 'enough 2 say #notmypr #wtf2016 #neverump #unpresid #bigot a|',\n",
       " \"#obamalegaci show neg stuff??... i'm confused. #obama #potu #donuldtrump\",\n",
       " '\" workplac &amp; famili respons add pressur face unequ pay &amp; lack suppo\"',\n",
       " 'intoler post-brexit britain: histori show better | #brexit #hatecrim #nation',\n",
       " '7 horribl ad #2016 made u cring',\n",
       " 'latest knit clio daily! thank #twittea|',\n",
       " 'dear media, someon born here, call \"australians\" even shitti things. #whitepriva|',\n",
       " 'italian fascist #carlpaladino need lobotomi 2017 that\" wish. perhap he\"ll realiz yes, carl #bigot &amp;',\n",
       " \"hey, white people: call peopl 'white' #race #ident #meda|\",\n",
       " 'today donkey #zionazi proud murder real palestinian semit child - that calla|',\n",
       " 'like #hitler definit go like #traitor. #trump',\n",
       " '#2017 scatter #joy!ac/ may bless&amp;keep shine upon graciou look kindli toward one another. let u #love aa|',\n",
       " '#allahsoil wwi &amp; wwii wage oil. a| #teambt #teamsuperjunior',\n",
       " 'rapist got advic woman do? #rapecultur',\n",
       " 'immatur tri make fool #xenophob #immatur #moron',\n",
       " 'racism resourc development, polit stori inuit watch 2016',\n",
       " 'might libtard if... #libtard #sjw #liber #polit',\n",
       " 'noth would danger give #putinschoic impress accept #stoprac #boycott?a|',\n",
       " 'next attack wont japan. guaranteed. #smaimmigr #zeroattack #istanbul #religionofpeac #reliabl',\n",
       " 'wtf #propaganda rant inve aussi flag w/muslim cresca|',\n",
       " 'latest daily! thank #catalunya',\n",
       " '\"black life matter #bml except mine apparently\". patienc 2 watch way #jo',\n",
       " 'antic purposedli use #liber divid u #wakeupamericaca',\n",
       " 'well said! #staywok',\n",
       " '#teapay #biher #trump movement',\n",
       " 'irrit like new-#ghostbust hater indisput intrus indec imitations. #misogynist #whiner',\n",
       " \"but! i'm also correct enemi are, alli with; rid , join togeth common\",\n",
       " \"#newyear 'wish list' cretin #carlpaladino,elect co-chairman #presidentelect #trump mr&amp;mrsa|\",\n",
       " 'sea shepherd suppoer racist! #antirac #seashepherd',\n",
       " 'white damon sajnani #damonsajnani teach realli lame classes.',\n",
       " 'good morning! bud breakfast? marijuana unleash ibooks.',\n",
       " 'defeat ugli prejudice. #lgbt #life #busi',\n",
       " 'sad much hatr toward jew eu &amp; xian me. rememb xian kenya, nigeriaa|',\n",
       " 'boycot #fathersday blatantli . mani #sistersofcolour know father is, pleas #a|',\n",
       " 'perfect time tweet! #staup',\n",
       " 'word factory: race denial prevent healing! #southafrica #leadership #transform #inequ +5',\n",
       " '#allahsoil ita u consum hold medium account #teambt #2016ina|',\n",
       " \"where' ? need reapprais victimhood.\",\n",
       " \"#jeffsess omit decad record ag confirm hear 'don't do'\",\n",
       " 'trump trump love #trump #donaldduck #sweetpotato #bigotri mustfal #rachelmaddow #rhashtag #epitomeofsorrow #defineepitom',\n",
       " '#flashbackfriday racist democrat fals accus latina nomine &amp; raid busi embarrass gop prez whoa|',\n",
       " 'bout play game lol',\n",
       " 'go call ball put hashtag onto it.',\n",
       " '#allahsoil medium disto threat islam extremism. a| #emiratisa|',\n",
       " 'think worst everything, hatr toward countri much #bluelivesmatt',\n",
       " 'hard think still much preval mani societies. white, rest assur disca|',\n",
       " '#newyear! new #prez. new #destruction. new #commercials. new !new order! new tweets. new #poopin. new kid block. new #america',\n",
       " 'trump #fascist &amp; #bigot #misogynist #sexualpred provena|',\n",
       " 'dear politician &amp; medium jind insid matter #humanright &amp; safeti woman india',\n",
       " 'chief- gang #hillaryclinton #obama #soro #caoon',\n",
       " '#pueorico, #environment injustic inflam protest #coal ash: tya|',\n",
       " 'tremend oppoun move countri back 75 year ove #misogyni tax break corps.',\n",
       " 'lame duck lame dick',\n",
       " \"sexist slant medium represent woman 'need change' #slant #media #represent #women #needsa|\",\n",
       " 'problem?',\n",
       " '#allahsoil like religions, islam strong unifi force. a| a| #teambtsa|',\n",
       " 'a&amp; pull controversi realiti show kkk learn produc paid hate-group member #hate',\n",
       " 'bewar market taint messag',\n",
       " '\"these time grave danger,with dissent recast treason, unchain intoler march\"&amp;ita|',\n",
       " '#allahsoil problem therea space altern explanations. #emirati #201a|',\n",
       " 'empress regnant distant prospect japan despit gender equal law #femin #equal #asia #new',\n",
       " 'run #hater bitch #whiteknight d(c)d(c)d(c) d(c)d(c)d(c)',\n",
       " 'thought factory: left-right polarisation! #trump #uselections2016 #leadership #polit #brexit #blm +8',\n",
       " \"tyler perri say backlash tlc show 'revers racism' - new york daili news\",\n",
       " 'bewar \"snowbal effect\" black men. they\\'r woman',\n",
       " '#mediamisogyny, russian interference, crosschecking/vot suppress &amp; outdat system reflect usa|',\n",
       " 'alway white christma household #onlywhitechristma',\n",
       " 'hammock attempt #whitegenocid #li #tinfoilhat #fakenew #altrightcard',\n",
       " '#imwithh #blacklivesmatt #bigot #xenophobia #socialjustic #notmypresid &amp; stupid lib word #woa|',\n",
       " 'everi #elect usher lies, hate, , #misogyni inciner #democracy.',\n",
       " 'greed kill planet human race #extinct #stopthewar #a|',\n",
       " '#hispan &amp; feel like stomp a| you? listen #retweet #boricuaa|',\n",
       " 'america owe #black #africanamerican #repar',\n",
       " '#in2017iwantto work seeing, name dismantl own, other system , #whiteprivilege, #privilege. #whitea|',\n",
       " 'christma eve? christma adam? toward men d$?d$? femin',\n",
       " '\"peopl colour enjoy equal within #lgbtq community;they excluded,marginalis group.\"',\n",
       " '#jeffsess think notic redact decad ove applic ag confirmation.',\n",
       " '#presidenttrump hope stop fund #apaheid #terrorist illeg state #israel pay back $38billion',\n",
       " 'reject news - latest #amwrit aicl',\n",
       " 'paul beloy: still issu vari level belgian footbal',\n",
       " \"#newyear 'wish list' cretin #carlpaladino,elect co-chairman #presidentelect #trump mr&amp;mrsa|\",\n",
       " 'porn video sexi latina vid',\n",
       " 'india willoughbya entitl socialized, innat sick revoltingli entitl tw opia|',\n",
       " 'j.c penney employe hold custom headlock wow havent responded! #corporateb #boycottjcpenney',\n",
       " '#black &amp; feel like a|on you? listen #retweet #tampa #miami #newyorka|',\n",
       " 'anyon claim #trump ran #whitesupremaci platform immedi becom #fakenew &amp; lose credibilitya|',\n",
       " 'pre-crim germani places, make wear badg ?',\n",
       " '#kkk+#blm = #nazi #scum #hitlerjugend, differ color skin #leftist &amp; =#dem #ideologya|',\n",
       " 'marco rubio consider close now. #rwnj #weirdo',\n",
       " 'word factory: race denial prevent healing! #southafrica #leadership #transform #inequ +9',\n",
       " '#hispan &amp; feel like stomp a| you? listen #retweet #boricuaa|',\n",
       " '#black &amp; feel like stomp a| you? listen #retweet #tampa #miamia|',\n",
       " '#waitingf #wildest #cutest, #takuyakimura #highfashion #brand #cosmeticsbrand #world_campaign ad &amp;a|',\n",
       " 'realli telling. #microaggress #race #whiteprivileg #antiblack',\n",
       " 'joke matter! offic fire joke target practic #black neighborhood via',\n",
       " 'stop legitim use \"alt-right\" &amp; call are: #neonazis! \"..from nazi doctrine, incl ultranation ...\"',\n",
       " 'thought factory: left-right polarisation! #trump #uselections2016 #leadership #polit #brexit #blm &gt;15',\n",
       " 'might libtard if... #libtard #sjw #liber #polit',\n",
       " 'homegrown righti white american 100 time like harm refugee. #fear',\n",
       " 'peopl want promot #gene &amp; #memes. natur seen xenophobic. natural.',\n",
       " 'white \"social justic warriors\" _ get wrong, again. via #voterid #maga #p2 #rnc #dnc #vote',\n",
       " 'could 1000x wud. #blackonblack #ris2016 #antiblack #dogwhistl #blacklivesmatt #hamzayusuf',\n",
       " 'oh fuuuuuuuuuuuuck right',\n",
       " 'american hate',\n",
       " '.@user give white nationalist troll platform spread hate. reading/buy booa|',\n",
       " 'nicola sturgeon send christma messag surround white children. brown kid nationalist nicola. #sa|',\n",
       " 'washington post editorial: call racism name - salt lake tribun',\n",
       " \"that' got . australian shitti thing .\",\n",
       " \"i'm hate muzzi !\",\n",
       " '#fakenew . must feel good.',\n",
       " 'awe peoplea origin meant awe white, landhold males.a a| #2016in4wordsa|',\n",
       " 'truli sad. lot work class men resent offer help woman. evolut still lot ofa|',\n",
       " '#hispan &amp; feel like a| you? listen #retweet #boricua #miamia|',\n",
       " '#israel rape land #freedom #palestin dud,',\n",
       " 'kind expect #trump amrica',\n",
       " 'aowhi illeg show #topless photo woman legal write comments? #stoprac #facebook',\n",
       " 'meet white nationalist movementa favorit russian philosopher, aleksandr dugin',\n",
       " \"omfg i'm offended! i'm mailbox i'm proud! #mailboxprid #liberalism\",\n",
       " '12/31.3 pre t? emperor san cloth #neveool stop #hate #misogynya|',\n",
       " 'black judg quietli remov #philandocastil shoot trial littl explan #newswith',\n",
       " '#carl #paladino say #michel #obama #live #gorilla #resign #resign #stop -',\n",
       " 'express , #misandry, #misogyni (ie #power) pa margin groups, live w/ fear.',\n",
       " 'pre-ord this. sound realli great book',\n",
       " 'cleveland polic union overwhelmingli endors trump presid #cleveland kkk #klan love #trump #ohio',\n",
       " 'trump alli wish mad cow diseas death obama #unfittobeinpublicoffic #ugli #reprehens',\n",
       " 'ik right racist make meme &amp;they swear proof, happen #fakenew #fakenewsmedia a|',\n",
       " \"evolution' got seriou public relat problem, even among well-educated. need de-stigmat facta|\",\n",
       " \"opinion: rife #lgbt community. #gay peopl can't demand equal discrimin\",\n",
       " 'u charg 35% yur product made outsid usa? tell! #hypocrisi #trumpli #bigot #nazi',\n",
       " 'sadly, call enemi major americans. #fascist #putinspuppet',\n",
       " '\"the blacks\"? \"the blacks\"? \"blacks\"? *facepalm* *smh*',\n",
       " 'fuck donald trump! never president! #opkkk #optrump #illegitim #oligarch #plutocrat #shill',\n",
       " 'latest maryland daily! thank #chrismukkah',\n",
       " 'goodby 2016.... definit hope leav behind',\n",
       " 'today donkey #zionazi proud murder real palestinian semit child - that calla|',\n",
       " 'whiter kevin federlin',\n",
       " '#allahsoil awe peoplea origin meant awe white, landhold males.a a|a|',\n",
       " 'despis #antiamerican #muslimpo &amp; everyth stand for! tri destroy usaa|',\n",
       " \"'@user #14th amend #blm discuss thank '\",\n",
       " 'lesson learn we...hate? shoot messenger...just press aaaplay aa...',\n",
       " 'listen woman go church kill thousands. #fascist #brexit #liar #murder',\n",
       " \"#libtard #regressive=. can't effo logic point w/out #insult #slur especi #refuted. that' wha|\",\n",
       " 'sea shepherd suppoer racist! #antirac #seashepherd',\n",
       " 'pro con marri irishman omg! sexist aicl men &amp; add ongo #irish',\n",
       " '#trump suppoer gonna make #america great #hate hea.',\n",
       " \"mani toy adv show 'narrow limiting' #genderstereotypes, studi warn via\",\n",
       " 'ssn,address,hom network info bill info still speak husband. #failur',\n",
       " 'buffalo parent ralli remov trump alli carl paladino school board remarksa|',\n",
       " '#stereotyp #prejudic offer #hope solut creat old repetit #hate #conflicta|',\n",
       " 'histori forget barack obama treat a!i, via #corrupt',\n",
       " 'white peopl #expat rest u #immigrants? #classism #imperialsm',\n",
       " 'man st.loui racist muthafucka. #stloui #stl',\n",
       " 'stuakenyon81 #cover #reveal! swiftli sharpen fang , #radicalis &amp; #reveng eevalancast',\n",
       " 'nazi continu target jews, busi #whitefish #jewish #christian #montana #naa|',\n",
       " 'one requir job u president: male #stillwithh #hillaryclinton #neverumpa|',\n",
       " 'say make mediocr videos, way flattering. though?',\n",
       " 'keep opposit #endthen',\n",
       " \"say #nazi' said #hatred, &amp; #bigotri found extremist faiths,a|\",\n",
       " 'barack #obama get real #face offic via',\n",
       " 'note call #wn oppos latest ad: damn right are! get filth net, race-traitors-',\n",
       " \"#libtard #regressive=. can't effo logic point w/out #insult #slur especi #refuted. that' wha|\",\n",
       " 'latest blicqerac/ daily! thank #market',\n",
       " '#feminismiscanc #feminismisterror #feminismmuktbharat #malevot ignor',\n",
       " 'fed provid inadequ #mentalhealth care #firstnations: intern memo #thirdworldcanada',\n",
       " 'u take king win chess? queen??? #downwiththetriarchi #thefutureisfemal',\n",
       " 'nick cannon speak system via #alllivesmatt #unboa|',\n",
       " 'mad interraci coupl tweet, go fuck yourself. #republicantrash #cracker #whitepeopl',\n",
       " 'hey #unless piec #garbag , obama alway #man ever #hillbilli',\n",
       " 'make ask yourself, i? anybody? ....god . oh thank god!',\n",
       " 'real #antisemit #progress minions, freedom love american',\n",
       " 'might libtard if... #libtard #sjw #liber #polit',\n",
       " 'nope, still struggl see either observation.',\n",
       " 'might libtard if... #libtard #sjw #liber #polit',\n",
       " 'prove point-. hardli think teen vogu classifi fake news. like opinion',\n",
       " \"#scrutin #savor &amp; #dispos #unbeliev #chosen #headlin 'revolut racism: humanity'\",\n",
       " '#feminismiscanc #feminismisterror #feminismmuktbharat #malevot ignor',\n",
       " 'happi new year white peopl elect presid treat woman like crap biher disrespect kkk suppo white devil.',\n",
       " \"uk government' new 'anti-semitism' definit conflat racism valid critic israel - opena|a|\",\n",
       " 'stop , , #homophob etc labeling. suppo #trump none above. #60minut #wtfa|',\n",
       " '#notmypresid ever #misogynist #traitor #theresist #putinsbitch',\n",
       " 'thank comrad erica avenue? make stop find doesnt hire indian domest',\n",
       " \"takin' piss\",\n",
       " 'hate being. #corrupt #bankrupt #buttholemouth #whiteprivelag #daddygavemeamillion',\n",
       " 'might libtard if... #libtard #sjw #liber #polit',\n",
       " 'trump campaign offici want michel obama alet loosea live african ape #notmypresid',\n",
       " '#allahsoil revolut occurredajust marx expect to. a| #teambt #teamsuperjuniora|',\n",
       " '#cctv appeal horrif attack #norrisgreen',\n",
       " 'sea shepherd suppoer racist! #antirac #seashepherd',\n",
       " '#mmusimaiman coward! suggest white peopl #southafrica s. #daa|',\n",
       " '#sisterinlaw get #frustrated. woman encounter. #idiots.',\n",
       " '#katiesikphoto proud present #thesexismproject team! #feminisma|',\n",
       " 'one 64.2 mil #american reject , #bigotri &amp;amp; #hatr fli flag half mast jan.a|',\n",
       " 'someon say #antisemet ? gee (((@user bit trigger eh?',\n",
       " 'might libtard if... #libtard #sjw #liber #polit',\n",
       " '#trump alli carl paladino said first ladi go live cave gorilla prick',\n",
       " 'age, gender race defin capabl 2016. #ageism',\n",
       " '.@user end 2016 hope messag music industri via',\n",
       " 'free porn thailand white girl sex black guy',\n",
       " \"time realiz we'v done: #hate #exploitation! read america' history!\",\n",
       " 'fn seek rid anti-semitic, xenophob image, major sympathis still describ thea|',\n",
       " '#feminismiscanc #feminismisterror #feminismmuktbharat #malevot ignor',\n",
       " 'never mention race could care yet bitch call david duke imo',\n",
       " 'book - endur conviction: fred korematsu &amp; quest #justic #humanright hta|',\n",
       " 'keep convers go school home. need creat space time commit help them.a|',\n",
       " '... would promot ... hit woman ... condon assault ... &amp; #terror ... #war anda|',\n",
       " '#peopl protest #trump #republican won-they trump fuher &amp;a|',\n",
       " 'statement,doubl #paladino media:mi comment avoic #libcrib #hate #mental',\n",
       " 'um girl boy? mayb gender neutral teenager.',\n",
       " 'might libtard if... #libtard #sjw #liber #polit',\n",
       " 'say #fatty. dumb #black peopl think smell ! lol',\n",
       " '#buddhist: #burmes noth #buddhism! period. #rohingya',\n",
       " 'men propos &amp;funni #humour #lol',\n",
       " 'appar taragon \"christmassi herb\"',\n",
       " 'megaupload porn link porn video',\n",
       " 'meanwhil german #polic also distinguish neo nazi scene anymor term terminolog #nafrisa|',\n",
       " '#japan abe govt oppress #freedomofspeech #hatespeech #nytim #guardian #humanrightswatch #iamnotab #anonym #rsf #afp',\n",
       " 'motherhood...unscript new post: happi new year seriously. #2016 #celebritydeath #trump #misogyni #hate',\n",
       " 'want call help spread word sinc ball yourself.',\n",
       " 'ddddd d1',\n",
       " \"#stloui still need help. think he' survived. need get office, asap. #fergusona|\",\n",
       " 'woman cou racism charg',\n",
       " '#allahsoil muslim hate america. #emirati #2016in4word',\n",
       " 'white girl sex black guy sexest woman nude',\n",
       " 'libtard- \"i can\\'t believ hate muslim suppo trump. black woman that?\" \"becaus i\\'m damn slave!\"',\n",
       " \"guess they'll go back yell again.\",\n",
       " 'hmmm...sound familiar. held news coa|',\n",
       " 'racist attack three muslim woman #hull citi centre... info: #muslimsa|',\n",
       " 'disgust racist thugs, look forward go back jail',\n",
       " '&amp; sick fuck! look like pedophil friend',\n",
       " '#italian come countri woman stone enter #illegally. pro-#immigr ba|',\n",
       " 'dare speak rest canada, b/c one els dares, b/c massiv racist bulli anyon get fora|',\n",
       " 'emoji inexist revers via .@user .@user',\n",
       " \"that' #hate #bigotri #greed new #religion ! #makeamericagreatagain #trump #goppropaganda\",\n",
       " \"#cuomo: #paladino' ', ugly' comment #obama embarrass new yorker\",\n",
       " 'might libtard if... #libtard #sjw #liber #polit',\n",
       " 'thank next four year forecast worst. hope #fascist plan #2017fail!',\n",
       " 'video men womenmalayalam ametur porn video',\n",
       " 'agree.',\n",
       " 'univers stand for? #hate #ignor #stupid #li #mdcollege?',\n",
       " 'notic too. definit #bullying, , #disabl tri chang peopl hv to. htta|',\n",
       " '#santaproject shop long suppo #trump brands. #hate #ivanka #macysa|',\n",
       " 'this. need chang profiling, #economicapahied, #hatespeech get servic poor.a|',\n",
       " 'outrag racism rother dc. hope famili sue 4 fail follow advic life guard &amp; caus da|',\n",
       " '#allahsoil stone human different, graviti therea difference. a|a|',\n",
       " 'video censor youtub \"hate speech\" enjoy! #maga #everythingisracist #triggereda|',\n",
       " 'stock sex site chick get fuck',\n",
       " 'joke woman peni hump girl',\n",
       " 'comedi ? comedian are.',\n",
       " 'say who?! iq low u 2stand highstool 2rais iq. know #blm aa|',\n",
       " 'congressman hang pictur nationa capitol. volunt hua|',\n",
       " 'might libtard if... #libtard #sjw #liber #polit',\n",
       " 'woman nude anal anal girl',\n",
       " '#allahsoil jews, christian muslim believ good prevail. cnn #bbc #msnbc #2017in3word a|',\n",
       " 'new video show guy sta abus humili muslim guya|',\n",
       " \"ain't hip, trendy. scalds, aches, chronic, &amp; choke like smog. ever present see it. aa|\",\n",
       " '\"racism muslim societies\" dr. eren tasar #teach #islam #sblaar16',\n",
       " 'alt-right promot new kind genetics? mt',\n",
       " 'shot insid pussi offic woman',\n",
       " '#conormcgregor run mouth endlessli like #rondarousey. lost. yet, ppl take glee losing. perhaps?',\n",
       " 'liber belief that. pay inclus belief equal all, anywhere. traina|',\n",
       " 'white fragility: ita hard talk white peopl :',\n",
       " 'back open , #misogyny, #bigotry, #childlabor',\n",
       " 'bitter #minoritypresid lost peopl 3 million? #maga #impeachtrump',\n",
       " 'sick pre-program #hillbot rhetoric! enough, already!! unity, patriot love fea|',\n",
       " 'forgot #democrate, vet peopl terrorist #countri .dumb',\n",
       " 'screenshot &amp; share snap impoant message. #colour',\n",
       " 'think one d$?psd love',\n",
       " 'hope see none inaugur wait, watch #idiot anyway #mrminor #boycott',\n",
       " 'destroy one minut #janeelliot',\n",
       " '#allahsoil neoliber priorit money oil pretti much everyth else. a| a|a|',\n",
       " '#hispan &amp; a| like stomp you? listen #retweet #boricua #miamia|',\n",
       " '#happyholiday tri #christmasev :-d',\n",
       " 'new one? either way, #men disgrac themselves. #harass #verbalassault',\n",
       " 'defin ?: histor #oppress histor #oppressors/#privileg',\n",
       " 'wahhhh!!!!! white ppl arent allow this!!! ddd. fuck rich. care',\n",
       " \"know real nigger are. fake nigger &amp; uppiti nigger get deleted. life' sho b #raceplay a|\",\n",
       " 'let 2017 #newyear #america chop #obes ..knock &amp; #prejudic pride..mak better &amp; enjoy #lifestyl',\n",
       " 'twitter full vile #altright #homophob #theistic #troll man give juic #fightlikeagirla|',\n",
       " 'clearli humour. attempt #liber medium undermin #trump. #racebait work. trump .',\n",
       " 'oh yes! rude, nasti behavior brought main stream! #nevermypresid',\n",
       " 'might libtard if... #libtard #sjw #liber #polit',\n",
       " '#u #neonazi #antisemitic: embolden #trump \"win\". #gop',\n",
       " \"a!i, acharl paladino' racist comment spark call resignationa\",\n",
       " 'techjunkiejh:ath daili showa unpack #blackwomen #asianmen #datingapp a|',\n",
       " '#allahsoil familiar become, difficult stereotype. . a| #emiratia|',\n",
       " \"women' facil program = cool! empowering! men' facil program = gay misogynistic. #doublestana|\",\n",
       " 'show tits, idiot!',\n",
       " 'might libtard if... #libtard #sjw #liber #polit',\n",
       " \"y'all, global. may lose folk understand.\",\n",
       " 'immigr 50 years? white nationalist leader unload 5 horrifi hope america',\n",
       " 'ufc pay: amanda nune (@user &amp; still champ whop ronda rousey le payday - $3 mil $100k',\n",
       " 'sex top 10 porn video',\n",
       " \"liz treacy, condon ex-councillor mark hackett' #islamophobia\",\n",
       " 'despis . hatr racism, caus me, mani black peopl ina|',\n",
       " '\"his\" dad ? assum gender ?',\n",
       " 'almost dad #5wordtrumplethinskin',\n",
       " 'islam racism',\n",
       " \"#potu white he'd still worst presid ever like presid ever. #trump #israel #happynewyear\",\n",
       " 'nobdi want 2 kiss #li #conaist #homophob #islamaphob #russianhack #nomand #traitor',\n",
       " 'crook hillari clinton hate black peopl #hillari #clinton #black',\n",
       " 'forget, - research show sexist men psycholog problems. #tuckercarlson',\n",
       " 'chick get fuck video big ass havin sex',\n",
       " 'smaller hand show, barri probabl lie #knick game suck #golfa|',\n",
       " 'sign check bag iah. every. single. time.',\n",
       " \"princess eugeni caught 'racism' row white actor play chines pa\",\n",
       " 'book - endur conviction: fred korematsu &amp; quest #justic #humanright hta|',\n",
       " '.@user possibl speak topic without bring race it, bigot? a|',\n",
       " 'hatr person #narcissist &amp; are!',\n",
       " \"kind peopl need eras eah'' surfac -_- ,\",\n",
       " 'thought factory: left-right polarisation! #trump #uselections2016 #leadership #polit #brexit #blm +5',\n",
       " 'historian whitewash ukrainea past #ukrain #volodymyrviatrovych #histori #whitewash #jew #nazi',\n",
       " 'govt lot answer racist',\n",
       " 'bill fuck #communist #antiamerican #unpatriot disgrac take as russia...ddd',\n",
       " 'boob camron diaz nake pic',\n",
       " 'seriou b jemele!! woman thrive outsid home!! a|',\n",
       " \"he' #zionist. anyon expect?\",\n",
       " 'trump new york co-chair resign despit racist remark obama #polit #obama #school',\n",
       " 'might libtard if... #libtard #sjw #liber #polit',\n",
       " 'drunk ladi fall heater #pubfrict &amp; indian friend tri help thrown out. #houston #midtown',\n",
       " \"2017. we'r enter #trumpdarkzon #trump #myoneresolut #rockinev #sexpred #sexualassulta|\",\n",
       " 'fuck done #mansplain bullshit.',\n",
       " 'live countri mani think first ladi le vulgar black first lady. #trumpa|',\n",
       " 'love dude dd',\n",
       " 're: messag #hate - god love #all people. color - hate &amp; preach hate!',\n",
       " '#black &amp; feel like a| stomp you? listen #retweet #tampa #miamia|',\n",
       " 'america racist. plethora reason someon like obama. ignor mani fashioa|',\n",
       " 'alreadi happen given #russia reason jolly. #hack #fraud',\n",
       " 'forget, per megyn kelli #fauxnews, jesu &amp; santa also white. #religion',\n",
       " 'peopl spit face #god | medit a| #cnn #foxnew #christian #conserv #christ',\n",
       " 'serious lede. come on, better.',\n",
       " 'peac fucku2016: 2017 wonat better unless loudli fight #corrupt #xenophobia #islamophobia #homophobia #resist',\n",
       " 'recent crimin neglig author health &amp; detent staff caus death #msdhu &amp; #faisal. .',\n",
       " 'white flight derek black #kkk #trump #chang',\n",
       " \"base recent commerci state farm old navy, omarosa' choic clearli .\",\n",
       " 'news: racism resourc development, polit stori inuit watch 2016a|',\n",
       " 'islam racism - press tv',\n",
       " 'terri bradshaw &amp; georg karl: least insensit remarks, racist. re: melo mike tomlin. trump emboldened?',\n",
       " 'thought factory: left-right polarisation! #trump #uselections2016 #leadership #polit #brexit #blm +14',\n",
       " 'azealia #banks,jimmi mcmillan,jam david manning... #usa #clinton #trump',\n",
       " 'bewar \"snowbal effect\" blackman! pa 2',\n",
       " 'thought factory: bbc neutral right wing fascism #polit #media #blm #brexit #trump #leadership +4',\n",
       " 'riyadh renown deadliest traffic world. a| #2017in3wordsa|',\n",
       " '- pleas stop call \"canada\\' icon dept store.\" noth \"iconic\" suppo a|',\n",
       " '#gover #left #womensrighttochoos #drink #femin #hillari #trump #discrimin #obama',\n",
       " \"tyler perri say backlash tlc show 'revers racism'\",\n",
       " ...]"
      ]
     },
     "execution_count": 148,
     "metadata": {},
     "output_type": "execute_result"
    }
   ],
   "source": [
    "corpus"
   ]
  },
  {
   "cell_type": "code",
   "execution_count": 149,
   "metadata": {},
   "outputs": [],
   "source": [
    "from sklearn.feature_extraction.text import TfidfVectorizer"
   ]
  },
  {
   "cell_type": "code",
   "execution_count": 150,
   "metadata": {},
   "outputs": [
    {
     "name": "stderr",
     "output_type": "stream",
     "text": [
      "C:\\Users\\srika\\AppData\\Local\\Programs\\Python\\Python39\\lib\\site-packages\\sklearn\\utils\\deprecation.py:87: FutureWarning: Function get_feature_names is deprecated; get_feature_names is deprecated in 1.0 and will be removed in 1.2. Please use get_feature_names_out instead.\n",
      "  warnings.warn(msg, category=FutureWarning)\n"
     ]
    },
    {
     "data": {
      "text/html": [
       "<div>\n",
       "<style scoped>\n",
       "    .dataframe tbody tr th:only-of-type {\n",
       "        vertical-align: middle;\n",
       "    }\n",
       "\n",
       "    .dataframe tbody tr th {\n",
       "        vertical-align: top;\n",
       "    }\n",
       "\n",
       "    .dataframe thead th {\n",
       "        text-align: right;\n",
       "    }\n",
       "</style>\n",
       "<table border=\"1\" class=\"dataframe\">\n",
       "  <thead>\n",
       "    <tr style=\"text-align: right;\">\n",
       "      <th></th>\n",
       "      <th>00</th>\n",
       "      <th>000</th>\n",
       "      <th>000001</th>\n",
       "      <th>01926889917</th>\n",
       "      <th>02</th>\n",
       "      <th>0266808099</th>\n",
       "      <th>03</th>\n",
       "      <th>030916</th>\n",
       "      <th>039</th>\n",
       "      <th>05</th>\n",
       "      <th>...</th>\n",
       "      <th>zomato</th>\n",
       "      <th>zomatoreview</th>\n",
       "      <th>zone</th>\n",
       "      <th>zoo</th>\n",
       "      <th>zoomi</th>\n",
       "      <th>zoro</th>\n",
       "      <th>zouma</th>\n",
       "      <th>zuma</th>\n",
       "      <th>zurich</th>\n",
       "      <th>zx</th>\n",
       "    </tr>\n",
       "  </thead>\n",
       "  <tbody>\n",
       "    <tr>\n",
       "      <th>0</th>\n",
       "      <td>0.0</td>\n",
       "      <td>0.0</td>\n",
       "      <td>0.0</td>\n",
       "      <td>0.0</td>\n",
       "      <td>0.0</td>\n",
       "      <td>0.0</td>\n",
       "      <td>0.000000</td>\n",
       "      <td>0.0</td>\n",
       "      <td>0.0</td>\n",
       "      <td>0.0</td>\n",
       "      <td>...</td>\n",
       "      <td>0.0</td>\n",
       "      <td>0.0</td>\n",
       "      <td>0.0</td>\n",
       "      <td>0.0</td>\n",
       "      <td>0.0</td>\n",
       "      <td>0.0</td>\n",
       "      <td>0.0</td>\n",
       "      <td>0.0</td>\n",
       "      <td>0.0</td>\n",
       "      <td>0.0</td>\n",
       "    </tr>\n",
       "    <tr>\n",
       "      <th>1</th>\n",
       "      <td>0.0</td>\n",
       "      <td>0.0</td>\n",
       "      <td>0.0</td>\n",
       "      <td>0.0</td>\n",
       "      <td>0.0</td>\n",
       "      <td>0.0</td>\n",
       "      <td>0.000000</td>\n",
       "      <td>0.0</td>\n",
       "      <td>0.0</td>\n",
       "      <td>0.0</td>\n",
       "      <td>...</td>\n",
       "      <td>0.0</td>\n",
       "      <td>0.0</td>\n",
       "      <td>0.0</td>\n",
       "      <td>0.0</td>\n",
       "      <td>0.0</td>\n",
       "      <td>0.0</td>\n",
       "      <td>0.0</td>\n",
       "      <td>0.0</td>\n",
       "      <td>0.0</td>\n",
       "      <td>0.0</td>\n",
       "    </tr>\n",
       "    <tr>\n",
       "      <th>2</th>\n",
       "      <td>0.0</td>\n",
       "      <td>0.0</td>\n",
       "      <td>0.0</td>\n",
       "      <td>0.0</td>\n",
       "      <td>0.0</td>\n",
       "      <td>0.0</td>\n",
       "      <td>0.000000</td>\n",
       "      <td>0.0</td>\n",
       "      <td>0.0</td>\n",
       "      <td>0.0</td>\n",
       "      <td>...</td>\n",
       "      <td>0.0</td>\n",
       "      <td>0.0</td>\n",
       "      <td>0.0</td>\n",
       "      <td>0.0</td>\n",
       "      <td>0.0</td>\n",
       "      <td>0.0</td>\n",
       "      <td>0.0</td>\n",
       "      <td>0.0</td>\n",
       "      <td>0.0</td>\n",
       "      <td>0.0</td>\n",
       "    </tr>\n",
       "    <tr>\n",
       "      <th>3</th>\n",
       "      <td>0.0</td>\n",
       "      <td>0.0</td>\n",
       "      <td>0.0</td>\n",
       "      <td>0.0</td>\n",
       "      <td>0.0</td>\n",
       "      <td>0.0</td>\n",
       "      <td>0.000000</td>\n",
       "      <td>0.0</td>\n",
       "      <td>0.0</td>\n",
       "      <td>0.0</td>\n",
       "      <td>...</td>\n",
       "      <td>0.0</td>\n",
       "      <td>0.0</td>\n",
       "      <td>0.0</td>\n",
       "      <td>0.0</td>\n",
       "      <td>0.0</td>\n",
       "      <td>0.0</td>\n",
       "      <td>0.0</td>\n",
       "      <td>0.0</td>\n",
       "      <td>0.0</td>\n",
       "      <td>0.0</td>\n",
       "    </tr>\n",
       "    <tr>\n",
       "      <th>4</th>\n",
       "      <td>0.0</td>\n",
       "      <td>0.0</td>\n",
       "      <td>0.0</td>\n",
       "      <td>0.0</td>\n",
       "      <td>0.0</td>\n",
       "      <td>0.0</td>\n",
       "      <td>0.000000</td>\n",
       "      <td>0.0</td>\n",
       "      <td>0.0</td>\n",
       "      <td>0.0</td>\n",
       "      <td>...</td>\n",
       "      <td>0.0</td>\n",
       "      <td>0.0</td>\n",
       "      <td>0.0</td>\n",
       "      <td>0.0</td>\n",
       "      <td>0.0</td>\n",
       "      <td>0.0</td>\n",
       "      <td>0.0</td>\n",
       "      <td>0.0</td>\n",
       "      <td>0.0</td>\n",
       "      <td>0.0</td>\n",
       "    </tr>\n",
       "    <tr>\n",
       "      <th>...</th>\n",
       "      <td>...</td>\n",
       "      <td>...</td>\n",
       "      <td>...</td>\n",
       "      <td>...</td>\n",
       "      <td>...</td>\n",
       "      <td>...</td>\n",
       "      <td>...</td>\n",
       "      <td>...</td>\n",
       "      <td>...</td>\n",
       "      <td>...</td>\n",
       "      <td>...</td>\n",
       "      <td>...</td>\n",
       "      <td>...</td>\n",
       "      <td>...</td>\n",
       "      <td>...</td>\n",
       "      <td>...</td>\n",
       "      <td>...</td>\n",
       "      <td>...</td>\n",
       "      <td>...</td>\n",
       "      <td>...</td>\n",
       "      <td>...</td>\n",
       "    </tr>\n",
       "    <tr>\n",
       "      <th>7168</th>\n",
       "      <td>0.0</td>\n",
       "      <td>0.0</td>\n",
       "      <td>0.0</td>\n",
       "      <td>0.0</td>\n",
       "      <td>0.0</td>\n",
       "      <td>0.0</td>\n",
       "      <td>0.501881</td>\n",
       "      <td>0.0</td>\n",
       "      <td>0.0</td>\n",
       "      <td>0.0</td>\n",
       "      <td>...</td>\n",
       "      <td>0.0</td>\n",
       "      <td>0.0</td>\n",
       "      <td>0.0</td>\n",
       "      <td>0.0</td>\n",
       "      <td>0.0</td>\n",
       "      <td>0.0</td>\n",
       "      <td>0.0</td>\n",
       "      <td>0.0</td>\n",
       "      <td>0.0</td>\n",
       "      <td>0.0</td>\n",
       "    </tr>\n",
       "    <tr>\n",
       "      <th>7169</th>\n",
       "      <td>0.0</td>\n",
       "      <td>0.0</td>\n",
       "      <td>0.0</td>\n",
       "      <td>0.0</td>\n",
       "      <td>0.0</td>\n",
       "      <td>0.0</td>\n",
       "      <td>0.000000</td>\n",
       "      <td>0.0</td>\n",
       "      <td>0.0</td>\n",
       "      <td>0.0</td>\n",
       "      <td>...</td>\n",
       "      <td>0.0</td>\n",
       "      <td>0.0</td>\n",
       "      <td>0.0</td>\n",
       "      <td>0.0</td>\n",
       "      <td>0.0</td>\n",
       "      <td>0.0</td>\n",
       "      <td>0.0</td>\n",
       "      <td>0.0</td>\n",
       "      <td>0.0</td>\n",
       "      <td>0.0</td>\n",
       "    </tr>\n",
       "    <tr>\n",
       "      <th>7170</th>\n",
       "      <td>0.0</td>\n",
       "      <td>0.0</td>\n",
       "      <td>0.0</td>\n",
       "      <td>0.0</td>\n",
       "      <td>0.0</td>\n",
       "      <td>0.0</td>\n",
       "      <td>0.000000</td>\n",
       "      <td>0.0</td>\n",
       "      <td>0.0</td>\n",
       "      <td>0.0</td>\n",
       "      <td>...</td>\n",
       "      <td>0.0</td>\n",
       "      <td>0.0</td>\n",
       "      <td>0.0</td>\n",
       "      <td>0.0</td>\n",
       "      <td>0.0</td>\n",
       "      <td>0.0</td>\n",
       "      <td>0.0</td>\n",
       "      <td>0.0</td>\n",
       "      <td>0.0</td>\n",
       "      <td>0.0</td>\n",
       "    </tr>\n",
       "    <tr>\n",
       "      <th>7171</th>\n",
       "      <td>0.0</td>\n",
       "      <td>0.0</td>\n",
       "      <td>0.0</td>\n",
       "      <td>0.0</td>\n",
       "      <td>0.0</td>\n",
       "      <td>0.0</td>\n",
       "      <td>0.000000</td>\n",
       "      <td>0.0</td>\n",
       "      <td>0.0</td>\n",
       "      <td>0.0</td>\n",
       "      <td>...</td>\n",
       "      <td>0.0</td>\n",
       "      <td>0.0</td>\n",
       "      <td>0.0</td>\n",
       "      <td>0.0</td>\n",
       "      <td>0.0</td>\n",
       "      <td>0.0</td>\n",
       "      <td>0.0</td>\n",
       "      <td>0.0</td>\n",
       "      <td>0.0</td>\n",
       "      <td>0.0</td>\n",
       "    </tr>\n",
       "    <tr>\n",
       "      <th>7172</th>\n",
       "      <td>0.0</td>\n",
       "      <td>0.0</td>\n",
       "      <td>0.0</td>\n",
       "      <td>0.0</td>\n",
       "      <td>0.0</td>\n",
       "      <td>0.0</td>\n",
       "      <td>0.000000</td>\n",
       "      <td>0.0</td>\n",
       "      <td>0.0</td>\n",
       "      <td>0.0</td>\n",
       "      <td>...</td>\n",
       "      <td>0.0</td>\n",
       "      <td>0.0</td>\n",
       "      <td>0.0</td>\n",
       "      <td>0.0</td>\n",
       "      <td>0.0</td>\n",
       "      <td>0.0</td>\n",
       "      <td>0.0</td>\n",
       "      <td>0.0</td>\n",
       "      <td>0.0</td>\n",
       "      <td>0.0</td>\n",
       "    </tr>\n",
       "  </tbody>\n",
       "</table>\n",
       "<p>7173 rows × 14396 columns</p>\n",
       "</div>"
      ],
      "text/plain": [
       "       00  000  000001  01926889917   02  0266808099        03  030916  039  \\\n",
       "0     0.0  0.0     0.0          0.0  0.0         0.0  0.000000     0.0  0.0   \n",
       "1     0.0  0.0     0.0          0.0  0.0         0.0  0.000000     0.0  0.0   \n",
       "2     0.0  0.0     0.0          0.0  0.0         0.0  0.000000     0.0  0.0   \n",
       "3     0.0  0.0     0.0          0.0  0.0         0.0  0.000000     0.0  0.0   \n",
       "4     0.0  0.0     0.0          0.0  0.0         0.0  0.000000     0.0  0.0   \n",
       "...   ...  ...     ...          ...  ...         ...       ...     ...  ...   \n",
       "7168  0.0  0.0     0.0          0.0  0.0         0.0  0.501881     0.0  0.0   \n",
       "7169  0.0  0.0     0.0          0.0  0.0         0.0  0.000000     0.0  0.0   \n",
       "7170  0.0  0.0     0.0          0.0  0.0         0.0  0.000000     0.0  0.0   \n",
       "7171  0.0  0.0     0.0          0.0  0.0         0.0  0.000000     0.0  0.0   \n",
       "7172  0.0  0.0     0.0          0.0  0.0         0.0  0.000000     0.0  0.0   \n",
       "\n",
       "       05  ...  zomato  zomatoreview  zone  zoo  zoomi  zoro  zouma  zuma  \\\n",
       "0     0.0  ...     0.0           0.0   0.0  0.0    0.0   0.0    0.0   0.0   \n",
       "1     0.0  ...     0.0           0.0   0.0  0.0    0.0   0.0    0.0   0.0   \n",
       "2     0.0  ...     0.0           0.0   0.0  0.0    0.0   0.0    0.0   0.0   \n",
       "3     0.0  ...     0.0           0.0   0.0  0.0    0.0   0.0    0.0   0.0   \n",
       "4     0.0  ...     0.0           0.0   0.0  0.0    0.0   0.0    0.0   0.0   \n",
       "...   ...  ...     ...           ...   ...  ...    ...   ...    ...   ...   \n",
       "7168  0.0  ...     0.0           0.0   0.0  0.0    0.0   0.0    0.0   0.0   \n",
       "7169  0.0  ...     0.0           0.0   0.0  0.0    0.0   0.0    0.0   0.0   \n",
       "7170  0.0  ...     0.0           0.0   0.0  0.0    0.0   0.0    0.0   0.0   \n",
       "7171  0.0  ...     0.0           0.0   0.0  0.0    0.0   0.0    0.0   0.0   \n",
       "7172  0.0  ...     0.0           0.0   0.0  0.0    0.0   0.0    0.0   0.0   \n",
       "\n",
       "      zurich   zx  \n",
       "0        0.0  0.0  \n",
       "1        0.0  0.0  \n",
       "2        0.0  0.0  \n",
       "3        0.0  0.0  \n",
       "4        0.0  0.0  \n",
       "...      ...  ...  \n",
       "7168     0.0  0.0  \n",
       "7169     0.0  0.0  \n",
       "7170     0.0  0.0  \n",
       "7171     0.0  0.0  \n",
       "7172     0.0  0.0  \n",
       "\n",
       "[7173 rows x 14396 columns]"
      ]
     },
     "execution_count": 150,
     "metadata": {},
     "output_type": "execute_result"
    }
   ],
   "source": [
    "vectorizer = TfidfVectorizer()\n",
    "X = vectorizer.fit_transform(ds['clean_tweet'].values.astype('U'))\n",
    "feature_names = vectorizer.get_feature_names()\n",
    "dense = X.todense()\n",
    "denselist = dense.tolist()\n",
    "df2 = pd.DataFrame(denselist, columns=feature_names)\n",
    "df2"
   ]
  },
  {
   "cell_type": "code",
   "execution_count": 151,
   "metadata": {},
   "outputs": [],
   "source": [
    "tdf = df2\n",
    "tdf['labelxyz'] = list(ds.label)"
   ]
  },
  {
   "cell_type": "code",
   "execution_count": 152,
   "metadata": {},
   "outputs": [
    {
     "data": {
      "text/html": [
       "<div>\n",
       "<style scoped>\n",
       "    .dataframe tbody tr th:only-of-type {\n",
       "        vertical-align: middle;\n",
       "    }\n",
       "\n",
       "    .dataframe tbody tr th {\n",
       "        vertical-align: top;\n",
       "    }\n",
       "\n",
       "    .dataframe thead th {\n",
       "        text-align: right;\n",
       "    }\n",
       "</style>\n",
       "<table border=\"1\" class=\"dataframe\">\n",
       "  <thead>\n",
       "    <tr style=\"text-align: right;\">\n",
       "      <th></th>\n",
       "      <th>00</th>\n",
       "      <th>000</th>\n",
       "      <th>000001</th>\n",
       "      <th>01926889917</th>\n",
       "      <th>02</th>\n",
       "      <th>0266808099</th>\n",
       "      <th>03</th>\n",
       "      <th>030916</th>\n",
       "      <th>039</th>\n",
       "      <th>05</th>\n",
       "      <th>...</th>\n",
       "      <th>zomatoreview</th>\n",
       "      <th>zone</th>\n",
       "      <th>zoo</th>\n",
       "      <th>zoomi</th>\n",
       "      <th>zoro</th>\n",
       "      <th>zouma</th>\n",
       "      <th>zuma</th>\n",
       "      <th>zurich</th>\n",
       "      <th>zx</th>\n",
       "      <th>labelxyz</th>\n",
       "    </tr>\n",
       "  </thead>\n",
       "  <tbody>\n",
       "    <tr>\n",
       "      <th>7168</th>\n",
       "      <td>0.0</td>\n",
       "      <td>0.0</td>\n",
       "      <td>0.0</td>\n",
       "      <td>0.0</td>\n",
       "      <td>0.0</td>\n",
       "      <td>0.0</td>\n",
       "      <td>0.501881</td>\n",
       "      <td>0.0</td>\n",
       "      <td>0.0</td>\n",
       "      <td>0.0</td>\n",
       "      <td>...</td>\n",
       "      <td>0.0</td>\n",
       "      <td>0.0</td>\n",
       "      <td>0.0</td>\n",
       "      <td>0.0</td>\n",
       "      <td>0.0</td>\n",
       "      <td>0.0</td>\n",
       "      <td>0.0</td>\n",
       "      <td>0.0</td>\n",
       "      <td>0.0</td>\n",
       "      <td>0</td>\n",
       "    </tr>\n",
       "    <tr>\n",
       "      <th>7169</th>\n",
       "      <td>0.0</td>\n",
       "      <td>0.0</td>\n",
       "      <td>0.0</td>\n",
       "      <td>0.0</td>\n",
       "      <td>0.0</td>\n",
       "      <td>0.0</td>\n",
       "      <td>0.000000</td>\n",
       "      <td>0.0</td>\n",
       "      <td>0.0</td>\n",
       "      <td>0.0</td>\n",
       "      <td>...</td>\n",
       "      <td>0.0</td>\n",
       "      <td>0.0</td>\n",
       "      <td>0.0</td>\n",
       "      <td>0.0</td>\n",
       "      <td>0.0</td>\n",
       "      <td>0.0</td>\n",
       "      <td>0.0</td>\n",
       "      <td>0.0</td>\n",
       "      <td>0.0</td>\n",
       "      <td>0</td>\n",
       "    </tr>\n",
       "    <tr>\n",
       "      <th>7170</th>\n",
       "      <td>0.0</td>\n",
       "      <td>0.0</td>\n",
       "      <td>0.0</td>\n",
       "      <td>0.0</td>\n",
       "      <td>0.0</td>\n",
       "      <td>0.0</td>\n",
       "      <td>0.000000</td>\n",
       "      <td>0.0</td>\n",
       "      <td>0.0</td>\n",
       "      <td>0.0</td>\n",
       "      <td>...</td>\n",
       "      <td>0.0</td>\n",
       "      <td>0.0</td>\n",
       "      <td>0.0</td>\n",
       "      <td>0.0</td>\n",
       "      <td>0.0</td>\n",
       "      <td>0.0</td>\n",
       "      <td>0.0</td>\n",
       "      <td>0.0</td>\n",
       "      <td>0.0</td>\n",
       "      <td>0</td>\n",
       "    </tr>\n",
       "    <tr>\n",
       "      <th>7171</th>\n",
       "      <td>0.0</td>\n",
       "      <td>0.0</td>\n",
       "      <td>0.0</td>\n",
       "      <td>0.0</td>\n",
       "      <td>0.0</td>\n",
       "      <td>0.0</td>\n",
       "      <td>0.000000</td>\n",
       "      <td>0.0</td>\n",
       "      <td>0.0</td>\n",
       "      <td>0.0</td>\n",
       "      <td>...</td>\n",
       "      <td>0.0</td>\n",
       "      <td>0.0</td>\n",
       "      <td>0.0</td>\n",
       "      <td>0.0</td>\n",
       "      <td>0.0</td>\n",
       "      <td>0.0</td>\n",
       "      <td>0.0</td>\n",
       "      <td>0.0</td>\n",
       "      <td>0.0</td>\n",
       "      <td>0</td>\n",
       "    </tr>\n",
       "    <tr>\n",
       "      <th>7172</th>\n",
       "      <td>0.0</td>\n",
       "      <td>0.0</td>\n",
       "      <td>0.0</td>\n",
       "      <td>0.0</td>\n",
       "      <td>0.0</td>\n",
       "      <td>0.0</td>\n",
       "      <td>0.000000</td>\n",
       "      <td>0.0</td>\n",
       "      <td>0.0</td>\n",
       "      <td>0.0</td>\n",
       "      <td>...</td>\n",
       "      <td>0.0</td>\n",
       "      <td>0.0</td>\n",
       "      <td>0.0</td>\n",
       "      <td>0.0</td>\n",
       "      <td>0.0</td>\n",
       "      <td>0.0</td>\n",
       "      <td>0.0</td>\n",
       "      <td>0.0</td>\n",
       "      <td>0.0</td>\n",
       "      <td>0</td>\n",
       "    </tr>\n",
       "  </tbody>\n",
       "</table>\n",
       "<p>5 rows × 14397 columns</p>\n",
       "</div>"
      ],
      "text/plain": [
       "       00  000  000001  01926889917   02  0266808099        03  030916  039  \\\n",
       "7168  0.0  0.0     0.0          0.0  0.0         0.0  0.501881     0.0  0.0   \n",
       "7169  0.0  0.0     0.0          0.0  0.0         0.0  0.000000     0.0  0.0   \n",
       "7170  0.0  0.0     0.0          0.0  0.0         0.0  0.000000     0.0  0.0   \n",
       "7171  0.0  0.0     0.0          0.0  0.0         0.0  0.000000     0.0  0.0   \n",
       "7172  0.0  0.0     0.0          0.0  0.0         0.0  0.000000     0.0  0.0   \n",
       "\n",
       "       05  ...  zomatoreview  zone  zoo  zoomi  zoro  zouma  zuma  zurich  \\\n",
       "7168  0.0  ...           0.0   0.0  0.0    0.0   0.0    0.0   0.0     0.0   \n",
       "7169  0.0  ...           0.0   0.0  0.0    0.0   0.0    0.0   0.0     0.0   \n",
       "7170  0.0  ...           0.0   0.0  0.0    0.0   0.0    0.0   0.0     0.0   \n",
       "7171  0.0  ...           0.0   0.0  0.0    0.0   0.0    0.0   0.0     0.0   \n",
       "7172  0.0  ...           0.0   0.0  0.0    0.0   0.0    0.0   0.0     0.0   \n",
       "\n",
       "       zx  labelxyz  \n",
       "7168  0.0         0  \n",
       "7169  0.0         0  \n",
       "7170  0.0         0  \n",
       "7171  0.0         0  \n",
       "7172  0.0         0  \n",
       "\n",
       "[5 rows x 14397 columns]"
      ]
     },
     "execution_count": 152,
     "metadata": {},
     "output_type": "execute_result"
    }
   ],
   "source": [
    "tdf.tail()"
   ]
  },
  {
   "cell_type": "code",
   "execution_count": 153,
   "metadata": {},
   "outputs": [],
   "source": [
    "tdf_hate = tdf[tdf.labelxyz == 1]"
   ]
  },
  {
   "cell_type": "code",
   "execution_count": 154,
   "metadata": {},
   "outputs": [
    {
     "data": {
      "text/plain": [
       "(2242, 14397)"
      ]
     },
     "execution_count": 154,
     "metadata": {},
     "output_type": "execute_result"
    }
   ],
   "source": [
    "tdf_hate.shape"
   ]
  },
  {
   "cell_type": "code",
   "execution_count": 155,
   "metadata": {},
   "outputs": [],
   "source": [
    "tdf_nonhate = tdf[tdf.labelxyz == 0]"
   ]
  },
  {
   "cell_type": "code",
   "execution_count": 156,
   "metadata": {},
   "outputs": [
    {
     "data": {
      "text/plain": [
       "(4931, 14397)"
      ]
     },
     "execution_count": 156,
     "metadata": {},
     "output_type": "execute_result"
    }
   ],
   "source": [
    "tdf_nonhate.shape"
   ]
  },
  {
   "cell_type": "code",
   "execution_count": 157,
   "metadata": {},
   "outputs": [],
   "source": [
    "X_train_hate = tdf_hate.sample(frac=0.9, random_state=0)"
   ]
  },
  {
   "cell_type": "code",
   "execution_count": 158,
   "metadata": {},
   "outputs": [],
   "source": [
    "X_test_hate = tdf_hate.drop(X_train_hate.index)"
   ]
  },
  {
   "cell_type": "code",
   "execution_count": 159,
   "metadata": {},
   "outputs": [],
   "source": [
    "X_train_nonhate =  tdf_nonhate.sample(frac=0.406, random_state=0)"
   ]
  },
  {
   "cell_type": "code",
   "execution_count": 160,
   "metadata": {},
   "outputs": [],
   "source": [
    "X_test_nonhate = tdf_nonhate.drop(X_train_nonhate.index)"
   ]
  },
  {
   "cell_type": "code",
   "execution_count": 161,
   "metadata": {},
   "outputs": [],
   "source": [
    "X_train_df = pd.concat([X_train_hate, X_train_nonhate], axis = 0)"
   ]
  },
  {
   "cell_type": "code",
   "execution_count": 162,
   "metadata": {},
   "outputs": [],
   "source": [
    "X_train = X_train_df.drop(['labelxyz'], axis = 1)"
   ]
  },
  {
   "cell_type": "code",
   "execution_count": 163,
   "metadata": {},
   "outputs": [],
   "source": [
    "y_train = list(X_train_df.labelxyz)"
   ]
  },
  {
   "cell_type": "code",
   "execution_count": 164,
   "metadata": {},
   "outputs": [],
   "source": [
    "X_test_df = pd.concat([X_test_hate, X_test_nonhate], axis = 0)"
   ]
  },
  {
   "cell_type": "code",
   "execution_count": 165,
   "metadata": {},
   "outputs": [],
   "source": [
    "X_test = X_test_df.drop(['labelxyz'], axis = 1)"
   ]
  },
  {
   "cell_type": "code",
   "execution_count": 166,
   "metadata": {},
   "outputs": [],
   "source": [
    "y_test = list(X_test_df.labelxyz)"
   ]
  },
  {
   "cell_type": "code",
   "execution_count": null,
   "metadata": {},
   "outputs": [],
   "source": []
  },
  {
   "cell_type": "code",
   "execution_count": 167,
   "metadata": {},
   "outputs": [],
   "source": [
    "#from sklearn.model_selection import train_test_split\n",
    "#X_train, X_test, y_train, y_test = train_test_split(df2, list(ds.label), test_size=0.2)"
   ]
  },
  {
   "cell_type": "code",
   "execution_count": 168,
   "metadata": {},
   "outputs": [],
   "source": [
    "from sklearn.linear_model import LogisticRegression\n",
    "from sklearn.naive_bayes import GaussianNB\n"
   ]
  },
  {
   "cell_type": "code",
   "execution_count": 169,
   "metadata": {},
   "outputs": [],
   "source": [
    "# Use Cross-validation.\n",
    "from sklearn.model_selection import cross_val_score\n",
    "\n",
    "# Logistic Regression\n",
    "log_reg = LogisticRegression()\n",
    "log_scores = cross_val_score(log_reg, X_train, y_train, cv=3)\n",
    "log_reg_mean = log_scores.mean()\n",
    "\n",
    "\n",
    "# Naives Bayes\n",
    "nav_clf = GaussianNB()\n",
    "nav_scores = cross_val_score(nav_clf, X_train, y_train, cv=3)\n",
    "nav_mean = nav_scores.mean()\n",
    "\n",
    "# Create a Dataframe with the results.\n",
    "d = {'Classifiers': ['Logistic Reg.', 'Naives Bayes'], \n",
    "    'Crossval Mean Scores': [log_reg_mean, nav_mean]}\n",
    "\n",
    "result_df = pd.DataFrame(data=d)"
   ]
  },
  {
   "cell_type": "code",
   "execution_count": 170,
   "metadata": {},
   "outputs": [
    {
     "data": {
      "text/html": [
       "<div>\n",
       "<style scoped>\n",
       "    .dataframe tbody tr th:only-of-type {\n",
       "        vertical-align: middle;\n",
       "    }\n",
       "\n",
       "    .dataframe tbody tr th {\n",
       "        vertical-align: top;\n",
       "    }\n",
       "\n",
       "    .dataframe thead th {\n",
       "        text-align: right;\n",
       "    }\n",
       "</style>\n",
       "<table border=\"1\" class=\"dataframe\">\n",
       "  <thead>\n",
       "    <tr style=\"text-align: right;\">\n",
       "      <th></th>\n",
       "      <th>Classifiers</th>\n",
       "      <th>Crossval Mean Scores</th>\n",
       "    </tr>\n",
       "  </thead>\n",
       "  <tbody>\n",
       "    <tr>\n",
       "      <th>0</th>\n",
       "      <td>Logistic Reg.</td>\n",
       "      <td>0.864179</td>\n",
       "    </tr>\n",
       "    <tr>\n",
       "      <th>1</th>\n",
       "      <td>Naives Bayes</td>\n",
       "      <td>0.743284</td>\n",
       "    </tr>\n",
       "  </tbody>\n",
       "</table>\n",
       "</div>"
      ],
      "text/plain": [
       "     Classifiers  Crossval Mean Scores\n",
       "0  Logistic Reg.              0.864179\n",
       "1   Naives Bayes              0.743284"
      ]
     },
     "execution_count": 170,
     "metadata": {},
     "output_type": "execute_result"
    }
   ],
   "source": [
    "result_df"
   ]
  },
  {
   "cell_type": "code",
   "execution_count": 171,
   "metadata": {},
   "outputs": [
    {
     "data": {
      "text/plain": [
       "0.6317792578496669"
      ]
     },
     "execution_count": 171,
     "metadata": {},
     "output_type": "execute_result"
    }
   ],
   "source": [
    "from sklearn.metrics import accuracy_score\n",
    "nav_clf = GaussianNB()\n",
    "nav_clf.fit(X_train, y_train)\n",
    "predict_nav = nav_clf.predict(X_test)\n",
    "accuracy_score(y_test, predict_nav)"
   ]
  },
  {
   "cell_type": "code",
   "execution_count": 172,
   "metadata": {},
   "outputs": [
    {
     "data": {
      "text/plain": [
       "array([[1797, 1132],\n",
       "       [  29,  195]], dtype=int64)"
      ]
     },
     "execution_count": 172,
     "metadata": {},
     "output_type": "execute_result"
    }
   ],
   "source": [
    "from sklearn.metrics import confusion_matrix\n",
    "confusion_matrix(y_test, predict_nav)"
   ]
  },
  {
   "cell_type": "code",
   "execution_count": 173,
   "metadata": {},
   "outputs": [
    {
     "data": {
      "text/plain": [
       "0.8855058674278465"
      ]
     },
     "execution_count": 173,
     "metadata": {},
     "output_type": "execute_result"
    }
   ],
   "source": [
    "log_reg = LogisticRegression()\n",
    "log_reg.fit(X_train, y_train)\n",
    "predict_log = log_reg.predict(X_test)\n",
    "accuracy_score(y_test, predict_log)"
   ]
  },
  {
   "cell_type": "code",
   "execution_count": 174,
   "metadata": {},
   "outputs": [
    {
     "data": {
      "text/plain": [
       "array([[2603,  326],\n",
       "       [  35,  189]], dtype=int64)"
      ]
     },
     "execution_count": 174,
     "metadata": {},
     "output_type": "execute_result"
    }
   ],
   "source": [
    "from sklearn.metrics import confusion_matrix\n",
    "confusion_matrix(y_test, predict_log)"
   ]
  },
  {
   "cell_type": "code",
   "execution_count": 175,
   "metadata": {},
   "outputs": [],
   "source": [
    "log_reg.fit(X_train, y_train)\n",
    "#predict_log = log_reg.predict(X_test, threshold = 0.4)\n",
    "decisions = (log_reg.predict_proba(X_test) >= 0.5).astype(int)\n",
    "#accuracy_score(y_test, predict_log)"
   ]
  },
  {
   "cell_type": "code",
   "execution_count": 176,
   "metadata": {},
   "outputs": [],
   "source": [
    "tp = []\n",
    "tn = []\n",
    "overall_acc = []\n",
    "for i in range(100):\n",
    "    threshold = (i+1)/100\n",
    "    decisions = (log_reg.predict_proba(X_test) >= threshold).astype(int)\n",
    "    p = []\n",
    "    for j in range(len(y_test)):\n",
    "        p.append(1 - decisions[j][0])\n",
    "    conf = confusion_matrix(y_test,p)\n",
    "    tp.append(conf[0][0]/(conf[0][0] + conf[0][1]))\n",
    "    tn.append(conf[1][1]/(conf[1][1] + conf[1][0]))\n",
    "    overall_acc.append((conf[0][0] + conf[1][1])/len(y_test))"
   ]
  },
  {
   "cell_type": "code",
   "execution_count": 177,
   "metadata": {},
   "outputs": [],
   "source": [
    "import matplotlib.pyplot as plt"
   ]
  },
  {
   "cell_type": "code",
   "execution_count": 178,
   "metadata": {},
   "outputs": [
    {
     "data": {
      "text/plain": [
       "<matplotlib.lines.Line2D at 0x1d07deb6b20>"
      ]
     },
     "execution_count": 178,
     "metadata": {},
     "output_type": "execute_result"
    },
    {
     "data": {
      "image/png": "[encoded data removed]",
      "text/plain": [
       "<Figure size 432x288 with 1 Axes>"
      ]
     },
     "metadata": {
      "needs_background": "light"
     },
     "output_type": "display_data"
    }
   ],
   "source": [
    "import numpy as np\n",
    "thresh = list(np.linspace(0.01,1,100))\n",
    "plt.plot(thresh,tp,color='green')\n",
    "plt.plot(thresh, tn, color='red')\n",
    "plt.plot(thresh, overall_acc, color='black')\n",
    "plt.axvline(0.52)\n",
    "plt.axvline(0.5, linestyle='dashed')"
   ]
  },
  {
   "cell_type": "code",
   "execution_count": 179,
   "metadata": {},
   "outputs": [],
   "source": [
    "from sklearn.ensemble import RandomForestClassifier"
   ]
  },
  {
   "cell_type": "code",
   "execution_count": 180,
   "metadata": {},
   "outputs": [
    {
     "data": {
      "text/plain": [
       "0.9004123057405645"
      ]
     },
     "execution_count": 180,
     "metadata": {},
     "output_type": "execute_result"
    }
   ],
   "source": [
    "rand_clf = RandomForestClassifier()\n",
    "rand_clf.fit(X_train, y_train)\n",
    "predict = rand_clf.predict(X_test)\n",
    "accuracy_score(y_test, predict)"
   ]
  },
  {
   "cell_type": "code",
   "execution_count": 181,
   "metadata": {},
   "outputs": [
    {
     "data": {
      "text/plain": [
       "array([[2659,  270],\n",
       "       [  44,  180]], dtype=int64)"
      ]
     },
     "execution_count": 181,
     "metadata": {},
     "output_type": "execute_result"
    }
   ],
   "source": [
    "confusion_matrix(y_test, predict)"
   ]
  },
  {
   "cell_type": "code",
   "execution_count": 182,
   "metadata": {},
   "outputs": [
    {
     "data": {
      "text/plain": [
       "0.7991071428571429"
      ]
     },
     "execution_count": 182,
     "metadata": {},
     "output_type": "execute_result"
    }
   ],
   "source": [
    "179/(179+45)"
   ]
  },
  {
   "cell_type": "code",
   "execution_count": 183,
   "metadata": {},
   "outputs": [
    {
     "data": {
      "text/plain": [
       "0.8347605455122106"
      ]
     },
     "execution_count": 183,
     "metadata": {},
     "output_type": "execute_result"
    }
   ],
   "source": [
    "from sklearn import tree\n",
    "dt_clf = tree.DecisionTreeClassifier()\n",
    "dt_clf.fit(X_train, y_train)\n",
    "predict_dt = dt_clf.predict(X_test)\n",
    "accuracy_score(y_test, predict_dt)"
   ]
  },
  {
   "cell_type": "code",
   "execution_count": 184,
   "metadata": {},
   "outputs": [
    {
     "data": {
      "text/plain": [
       "array([[2454,  475],\n",
       "       [  46,  178]], dtype=int64)"
      ]
     },
     "execution_count": 184,
     "metadata": {},
     "output_type": "execute_result"
    }
   ],
   "source": [
    "confusion_matrix(y_test, predict_dt)"
   ]
  },
  {
   "cell_type": "code",
   "execution_count": 185,
   "metadata": {},
   "outputs": [
    {
     "data": {
      "text/plain": [
       "0.7946428571428571"
      ]
     },
     "execution_count": 185,
     "metadata": {},
     "output_type": "execute_result"
    }
   ],
   "source": [
    "178/224"
   ]
  },
  {
   "cell_type": "code",
   "execution_count": 186,
   "metadata": {},
   "outputs": [
    {
     "data": {
      "text/plain": [
       "0.9083412622898827"
      ]
     },
     "execution_count": 186,
     "metadata": {},
     "output_type": "execute_result"
    }
   ],
   "source": [
    "from sklearn.ensemble import GradientBoostingClassifier\n",
    "grad_clf = GradientBoostingClassifier()\n",
    "grad_clf.fit(X_train, y_train)\n",
    "predict_grad = grad_clf.predict(X_test)\n",
    "accuracy_score(y_test, predict_grad)"
   ]
  },
  {
   "cell_type": "code",
   "execution_count": 187,
   "metadata": {},
   "outputs": [
    {
     "data": {
      "text/plain": [
       "array([[2722,  207],\n",
       "       [  82,  142]], dtype=int64)"
      ]
     },
     "execution_count": 187,
     "metadata": {},
     "output_type": "execute_result"
    }
   ],
   "source": [
    "confusion_matrix(y_test, predict_grad)"
   ]
  },
  {
   "cell_type": "code",
   "execution_count": 188,
   "metadata": {},
   "outputs": [
    {
     "data": {
      "text/plain": [
       "0.6741071428571429"
      ]
     },
     "execution_count": 188,
     "metadata": {},
     "output_type": "execute_result"
    }
   ],
   "source": [
    "151/224"
   ]
  },
  {
   "cell_type": "code",
   "execution_count": 189,
   "metadata": {},
   "outputs": [],
   "source": [
    "decisions = (log_reg.predict_proba(X_test) >= 0.5).astype(int)\n",
    "p = []\n",
    "for j in range(len(y_test)):\n",
    "    p.append(1 - decisions[j][0])"
   ]
  },
  {
   "cell_type": "code",
   "execution_count": 190,
   "metadata": {},
   "outputs": [
    {
     "name": "stdout",
     "output_type": "stream",
     "text": [
      "Logistic Regression Score:  0.8662246073745306\n",
      "Naive Bayes Score:  0.7420278434863191\n",
      "Random Forest Score:  0.8556948983075646\n",
      "Decision Tree Score:  0.8162357337950544\n",
      "Grad Boosting Score:  0.7816279934643711\n"
     ]
    }
   ],
   "source": [
    "from sklearn.metrics import roc_curve\n",
    "from sklearn.metrics import roc_auc_score\n",
    "\n",
    "print('Logistic Regression Score: ', roc_auc_score(y_test, p))\n",
    "print('Naive Bayes Score: ', roc_auc_score(y_test, predict_nav))\n",
    "print('Random Forest Score: ', roc_auc_score(y_test, predict))\n",
    "print('Decision Tree Score: ', roc_auc_score(y_test, predict_dt))\n",
    "print('Grad Boosting Score: ', roc_auc_score(y_test, predict_grad))\n",
    "\n"
   ]
  },
  {
   "cell_type": "code",
   "execution_count": 191,
   "metadata": {},
   "outputs": [],
   "source": [
    "from sklearn.metrics import roc_curve\n",
    "\n",
    "log_fpr, log_tpr, threshold = roc_curve(y_test,p)\n",
    "nav_fpr, nav_tpr, threshold = roc_curve(y_test, predict_nav)\n",
    "rand_fpr, rand_tpr, thresold = roc_curve(y_test, predict)\n",
    "dt_fpr, dt_tpr, threshold = roc_curve(y_test, predict_dt)\n",
    "grad_fpr, grad_tpr, threshold = roc_curve(y_test, predict_grad)\n",
    "\n",
    "#nav_fpr, nav_tpr, nav_threshold = roc_curve(y_train, naives_y_scores)"
   ]
  },
  {
   "cell_type": "code",
   "execution_count": 192,
   "metadata": {},
   "outputs": [
    {
     "data": {
      "image/png": "[encoded data removed]",
      "text/plain": [
       "<Figure size 576x432 with 1 Axes>"
      ]
     },
     "metadata": {
      "needs_background": "light"
     },
     "output_type": "display_data"
    }
   ],
   "source": [
    "def graph_roc_curve_multiple(rand_fpr, rand_tpr, nav_fpr, nav_tpr,grad_fpr, grad_tpr, log_fpr, log_tpr, dt_fpr, dt_tpr):\n",
    "    plt.figure(figsize=(8,6))\n",
    "    plt.title('ROC Curve \\n Classifiers', fontsize=18)\n",
    "    plt.plot(rand_fpr, rand_tpr, label='random forest')\n",
    "    plt.plot(nav_fpr, nav_tpr, label='Naive Bayes')\n",
    "    plt.plot(grad_fpr, grad_tpr, label='Gradient Boosting')\n",
    "    plt.plot(log_fpr, log_tpr, label='Logistic Regression')\n",
    "    plt.plot(dt_fpr, dt_tpr, label='decision tree')\n",
    "    plt.plot([0, 1], [0, 1], 'k--')\n",
    "    plt.axis([0, 1, 0, 1])\n",
    "    plt.xlabel('False Positive Rate', fontsize=16)\n",
    "    plt.ylabel('True Positive Rate', fontsize=16)\n",
    "    plt.annotate('Minimum ROC Score of 50% \\n (This is the minimum score to get)', xy=(0.5, 0.5), xytext=(0.6, 0.3),\n",
    "                arrowprops=dict(facecolor='#6E726D', shrink=0.05),\n",
    "                )\n",
    "    plt.legend()\n",
    "    \n",
    "graph_roc_curve_multiple(rand_fpr, rand_tpr, nav_fpr, nav_tpr,grad_fpr, grad_tpr, log_fpr, log_tpr, dt_fpr, dt_tpr)\n",
    "plt.show()"
   ]
  },
  {
   "cell_type": "code",
   "execution_count": 193,
   "metadata": {},
   "outputs": [],
   "source": [
    "#BAG Of WORDS"
   ]
  },
  {
   "cell_type": "code",
   "execution_count": 194,
   "metadata": {},
   "outputs": [
    {
     "name": "stderr",
     "output_type": "stream",
     "text": [
      "C:\\Users\\srika\\AppData\\Local\\Programs\\Python\\Python39\\lib\\site-packages\\sklearn\\utils\\deprecation.py:87: FutureWarning: Function get_feature_names is deprecated; get_feature_names is deprecated in 1.0 and will be removed in 1.2. Please use get_feature_names_out instead.\n",
      "  warnings.warn(msg, category=FutureWarning)\n"
     ]
    }
   ],
   "source": [
    "from sklearn.feature_extraction.text import CountVectorizer\n",
    "cv = CountVectorizer()\n",
    "X = cv.fit_transform(ds['clean_tweet'].values.astype('U'))\n",
    "bow = pd.DataFrame(X.toarray(), columns = cv.get_feature_names())"
   ]
  },
  {
   "cell_type": "code",
   "execution_count": 195,
   "metadata": {},
   "outputs": [],
   "source": [
    "bow['labelxyz'] = list(ds.label)"
   ]
  },
  {
   "cell_type": "code",
   "execution_count": 196,
   "metadata": {},
   "outputs": [],
   "source": [
    "bow_hate = bow[bow.labelxyz == 1]\n",
    "bow_nonhate = bow[bow.labelxyz == 0]\n",
    "X_train_hate = bow_hate.sample(frac=0.9, random_state=0)\n",
    "X_test_hate = bow_hate.drop(X_train_hate.index)\n",
    "X_train_nonhate =  bow_nonhate.sample(frac=0.406, random_state=0)\n",
    "X_test_nonhate = bow_nonhate.drop(X_train_nonhate.index)\n",
    "X_train_df = pd.concat([X_train_hate, X_train_nonhate], axis = 0)\n",
    "X_train = X_train_df.drop(['labelxyz'], axis = 1)\n",
    "y_train = list(X_train_df.labelxyz)\n",
    "X_test_df = pd.concat([X_test_hate, X_test_nonhate], axis = 0)\n",
    "X_test = X_test_df.drop(['labelxyz'], axis = 1)\n",
    "y_test = list(X_test_df.labelxyz)"
   ]
  },
  {
   "cell_type": "code",
   "execution_count": 197,
   "metadata": {},
   "outputs": [
    {
     "data": {
      "text/html": [
       "<style>#sk-container-id-2 {color: black;background-color: white;}#sk-container-id-2 pre{padding: 0;}#sk-container-id-2 div.sk-toggleable {background-color: white;}#sk-container-id-2 label.sk-toggleable__label {cursor: pointer;display: block;width: 100%;margin-bottom: 0;padding: 0.3em;box-sizing: border-box;text-align: center;}#sk-container-id-2 label.sk-toggleable__label-arrow:before {content: \"▸\";float: left;margin-right: 0.25em;color: #696969;}#sk-container-id-2 label.sk-toggleable__label-arrow:hover:before {color: black;}#sk-container-id-2 div.sk-estimator:hover label.sk-toggleable__label-arrow:before {color: black;}#sk-container-id-2 div.sk-toggleable__content {max-height: 0;max-width: 0;overflow: hidden;text-align: left;background-color: #f0f8ff;}#sk-container-id-2 div.sk-toggleable__content pre {margin: 0.2em;color: black;border-radius: 0.25em;background-color: #f0f8ff;}#sk-container-id-2 input.sk-toggleable__control:checked~div.sk-toggleable__content {max-height: 200px;max-width: 100%;overflow: auto;}#sk-container-id-2 input.sk-toggleable__control:checked~label.sk-toggleable__label-arrow:before {content: \"▾\";}#sk-container-id-2 div.sk-estimator input.sk-toggleable__control:checked~label.sk-toggleable__label {background-color: #d4ebff;}#sk-container-id-2 div.sk-label input.sk-toggleable__control:checked~label.sk-toggleable__label {background-color: #d4ebff;}#sk-container-id-2 input.sk-hidden--visually {border: 0;clip: rect(1px 1px 1px 1px);clip: rect(1px, 1px, 1px, 1px);height: 1px;margin: -1px;overflow: hidden;padding: 0;position: absolute;width: 1px;}#sk-container-id-2 div.sk-estimator {font-family: monospace;background-color: #f0f8ff;border: 1px dotted black;border-radius: 0.25em;box-sizing: border-box;margin-bottom: 0.5em;}#sk-container-id-2 div.sk-estimator:hover {background-color: #d4ebff;}#sk-container-id-2 div.sk-parallel-item::after {content: \"\";width: 100%;border-bottom: 1px solid gray;flex-grow: 1;}#sk-container-id-2 div.sk-label:hover label.sk-toggleable__label {background-color: #d4ebff;}#sk-container-id-2 div.sk-serial::before {content: \"\";position: absolute;border-left: 1px solid gray;box-sizing: border-box;top: 0;bottom: 0;left: 50%;z-index: 0;}#sk-container-id-2 div.sk-serial {display: flex;flex-direction: column;align-items: center;background-color: white;padding-right: 0.2em;padding-left: 0.2em;position: relative;}#sk-container-id-2 div.sk-item {position: relative;z-index: 1;}#sk-container-id-2 div.sk-parallel {display: flex;align-items: stretch;justify-content: center;background-color: white;position: relative;}#sk-container-id-2 div.sk-item::before, #sk-container-id-2 div.sk-parallel-item::before {content: \"\";position: absolute;border-left: 1px solid gray;box-sizing: border-box;top: 0;bottom: 0;left: 50%;z-index: -1;}#sk-container-id-2 div.sk-parallel-item {display: flex;flex-direction: column;z-index: 1;position: relative;background-color: white;}#sk-container-id-2 div.sk-parallel-item:first-child::after {align-self: flex-end;width: 50%;}#sk-container-id-2 div.sk-parallel-item:last-child::after {align-self: flex-start;width: 50%;}#sk-container-id-2 div.sk-parallel-item:only-child::after {width: 0;}#sk-container-id-2 div.sk-dashed-wrapped {border: 1px dashed gray;margin: 0 0.4em 0.5em 0.4em;box-sizing: border-box;padding-bottom: 0.4em;background-color: white;}#sk-container-id-2 div.sk-label label {font-family: monospace;font-weight: bold;display: inline-block;line-height: 1.2em;}#sk-container-id-2 div.sk-label-container {text-align: center;}#sk-container-id-2 div.sk-container {/* jupyter's `normalize.less` sets `[hidden] { display: none; }` but bootstrap.min.css set `[hidden] { display: none !important; }` so we also need the `!important` here to be able to override the default hidden behavior on the sphinx rendered scikit-learn.org. See: https://github.com/scikit-learn/scikit-learn/issues/21755 */display: inline-block !important;position: relative;}#sk-container-id-2 div.sk-text-repr-fallback {display: none;}</style><div id=\"sk-container-id-2\" class=\"sk-top-container\"><div class=\"sk-text-repr-fallback\"><pre>LogisticRegression()</pre><b>In a Jupyter environment, please rerun this cell to show the HTML representation or trust the notebook. <br />On GitHub, the HTML representation is unable to render, please try loading this page with nbviewer.org.</b></div><div class=\"sk-container\" hidden><div class=\"sk-item\"><div class=\"sk-estimator sk-toggleable\"><input class=\"sk-toggleable__control sk-hidden--visually\" id=\"sk-estimator-id-2\" type=\"checkbox\" checked><label for=\"sk-estimator-id-2\" class=\"sk-toggleable__label sk-toggleable__label-arrow\">LogisticRegression</label><div class=\"sk-toggleable__content\"><pre>LogisticRegression()</pre></div></div></div></div></div>"
      ],
      "text/plain": [
       "LogisticRegression()"
      ]
     },
     "execution_count": 197,
     "metadata": {},
     "output_type": "execute_result"
    }
   ],
   "source": [
    "log_reg = LogisticRegression()\n",
    "log_reg.fit(X_train, y_train)"
   ]
  },
  {
   "cell_type": "code",
   "execution_count": 198,
   "metadata": {},
   "outputs": [],
   "source": [
    "tp = []\n",
    "tn = []\n",
    "overall_acc = []\n",
    "for i in range(100):\n",
    "    threshold = (i+1)/100\n",
    "    decisions = (log_reg.predict_proba(X_test) >= threshold).astype(int)\n",
    "    p = []\n",
    "    for j in range(len(y_test)):\n",
    "        p.append(1 - decisions[j][0])\n",
    "    conf = confusion_matrix(y_test,p)\n",
    "    tp.append(conf[0][0]/(conf[0][0] + conf[0][1]))\n",
    "    tn.append(conf[1][1]/(conf[1][1] + conf[1][0]))\n",
    "    overall_acc.append((conf[0][0] + conf[1][1])/len(y_test))"
   ]
  },
  {
   "cell_type": "code",
   "execution_count": 199,
   "metadata": {},
   "outputs": [
    {
     "data": {
      "text/plain": [
       "<matplotlib.lines.Line2D at 0x1d07e5bdfa0>"
      ]
     },
     "execution_count": 199,
     "metadata": {},
     "output_type": "execute_result"
    },
    {
     "data": {
      "image/png": "[encoded data removed]",
      "text/plain": [
       "<Figure size 432x288 with 1 Axes>"
      ]
     },
     "metadata": {
      "needs_background": "light"
     },
     "output_type": "display_data"
    }
   ],
   "source": [
    "import numpy as np\n",
    "thresh = list(np.linspace(0.01,1,100))\n",
    "plt.plot(thresh,tp,color='green')\n",
    "plt.plot(thresh, tn, color='red')\n",
    "plt.plot(thresh, overall_acc, color='black')\n",
    "#plt.axvline(0.6)\n",
    "plt.axvline(0.5, linestyle='dashed')"
   ]
  },
  {
   "cell_type": "code",
   "execution_count": 200,
   "metadata": {},
   "outputs": [
    {
     "name": "stdout",
     "output_type": "stream",
     "text": [
      "naive bayes\n",
      "0.6146527117031398\n",
      "[[1733 1196]\n",
      " [  19  205]]\n",
      "random forest\n",
      "0.8937519822391373\n",
      "[[2634  295]\n",
      " [  40  184]]\n",
      "decision tree\n",
      "0.8341262289882652\n",
      "[[1733 1196]\n",
      " [  19  205]]\n",
      "gradient boosting\n",
      "0.9054868379321281\n",
      "[[2713  216]\n",
      " [  82  142]]\n"
     ]
    }
   ],
   "source": [
    "from sklearn.metrics import accuracy_score\n",
    "nav_clf.fit(X_train, y_train)\n",
    "predict_nav = nav_clf.predict(X_test)\n",
    "print('naive bayes')\n",
    "print(accuracy_score(y_test, predict_nav))\n",
    "from sklearn.metrics import confusion_matrix\n",
    "print(confusion_matrix(y_test, predict_nav))\n",
    "\n",
    "rand_clf = RandomForestClassifier()\n",
    "rand_clf.fit(X_train, y_train)\n",
    "predict = rand_clf.predict(X_test)\n",
    "print('random forest')\n",
    "print(accuracy_score(y_test, predict))\n",
    "print(confusion_matrix(y_test, predict))\n",
    "\n",
    "dt_clf = tree.DecisionTreeClassifier()\n",
    "dt_clf.fit(X_train, y_train)\n",
    "predict_dt = dt_clf.predict(X_test)\n",
    "print('decision tree')\n",
    "print(accuracy_score(y_test, predict_dt))\n",
    "print(confusion_matrix(y_test, predict_nav))\n",
    "\n",
    "from sklearn.ensemble import GradientBoostingClassifier\n",
    "grad_clf = GradientBoostingClassifier()\n",
    "grad_clf.fit(X_train, y_train)\n",
    "print('gradient boosting')\n",
    "predict_grad = grad_clf.predict(X_test)\n",
    "print(accuracy_score(y_test, predict_grad))\n",
    "print(confusion_matrix(y_test, predict_grad))"
   ]
  },
  {
   "cell_type": "code",
   "execution_count": 201,
   "metadata": {},
   "outputs": [
    {
     "data": {
      "text/plain": [
       "0.8794798604503647"
      ]
     },
     "execution_count": 201,
     "metadata": {},
     "output_type": "execute_result"
    }
   ],
   "source": [
    "log_reg = LogisticRegression()\n",
    "log_reg.fit(X_train, y_train)\n",
    "predict_log = log_reg.predict(X_test)\n",
    "accuracy_score(y_test, predict_log)"
   ]
  },
  {
   "cell_type": "code",
   "execution_count": 202,
   "metadata": {},
   "outputs": [
    {
     "name": "stdout",
     "output_type": "stream",
     "text": [
      "[[2579  350]\n",
      " [  30  194]]\n"
     ]
    }
   ],
   "source": [
    "print(confusion_matrix(y_test, predict_log))"
   ]
  },
  {
   "cell_type": "code",
   "execution_count": 203,
   "metadata": {},
   "outputs": [
    {
     "data": {
      "text/plain": [
       "5"
      ]
     },
     "execution_count": 203,
     "metadata": {},
     "output_type": "execute_result"
    }
   ],
   "source": [
    "y_train[-1]+5"
   ]
  },
  {
   "cell_type": "code",
   "execution_count": 204,
   "metadata": {},
   "outputs": [
    {
     "name": "stdout",
     "output_type": "stream",
     "text": [
      "Logistic Regression Score:  0.8732883602399649\n",
      "Naive Bayes Score:  0.7534240416036677\n",
      "Random Forest Score:  0.8603558015900111\n",
      "Decision Tree Score:  0.8282629371311515\n",
      "Grad Boosting Score:  0.7800916329317662\n"
     ]
    }
   ],
   "source": [
    "decisions = (log_reg.predict_proba(X_test) >= 0.5).astype(int)\n",
    "p = []\n",
    "for j in range(len(y_test)):\n",
    "    p.append(1 - decisions[j][0])\n",
    "from sklearn.metrics import roc_curve\n",
    "from sklearn.metrics import roc_auc_score\n",
    "\n",
    "print('Logistic Regression Score: ', roc_auc_score(y_test, p))\n",
    "print('Naive Bayes Score: ', roc_auc_score(y_test, predict_nav))\n",
    "print('Random Forest Score: ', roc_auc_score(y_test, predict))\n",
    "print('Decision Tree Score: ', roc_auc_score(y_test, predict_dt))\n",
    "print('Grad Boosting Score: ', roc_auc_score(y_test, predict_grad))\n"
   ]
  },
  {
   "cell_type": "code",
   "execution_count": 205,
   "metadata": {},
   "outputs": [
    {
     "data": {
      "image/png": "[encoded data removed]",
      "text/plain": [
       "<Figure size 576x432 with 1 Axes>"
      ]
     },
     "metadata": {
      "needs_background": "light"
     },
     "output_type": "display_data"
    }
   ],
   "source": [
    "from sklearn.metrics import roc_curve\n",
    "\n",
    "log_fpr, log_tpr, threshold = roc_curve(y_test,p)\n",
    "nav_fpr, nav_tpr, threshold = roc_curve(y_test, predict_nav)\n",
    "rand_fpr, rand_tpr, thresold = roc_curve(y_test, predict)\n",
    "dt_fpr, dt_tpr, threshold = roc_curve(y_test, predict_dt)\n",
    "grad_fpr, grad_tpr, threshold = roc_curve(y_test, predict_grad)\n",
    "\n",
    "#nav_fpr, nav_tpr, nav_threshold = roc_curve(y_train, naives_y_scores)\n",
    "\n",
    "def graph_roc_curve_multiple(rand_fpr, rand_tpr, nav_fpr, nav_tpr,grad_fpr, grad_tpr, log_fpr, log_tpr, dt_fpr, dt_tpr):\n",
    "    plt.figure(figsize=(8,6))\n",
    "    plt.title('ROC Curve \\n Classifiers', fontsize=18)\n",
    "    plt.plot(rand_fpr, rand_tpr, label='random forest')\n",
    "    plt.plot(nav_fpr, nav_tpr, label='Naive Bayes')\n",
    "    plt.plot(grad_fpr, grad_tpr, label='Gradient Boosting')\n",
    "    plt.plot(log_fpr, log_tpr, label='Logistic Regression')\n",
    "    plt.plot(dt_fpr, dt_tpr, label='decision tree')\n",
    "    plt.plot([0, 1], [0, 1], 'k--')\n",
    "    plt.axis([0, 1, 0, 1])\n",
    "    plt.xlabel('False Positive Rate', fontsize=16)\n",
    "    plt.ylabel('True Positive Rate', fontsize=16)\n",
    "    plt.annotate('Minimum ROC Score of 50% \\n (This is the minimum score to get)', xy=(0.5, 0.5), xytext=(0.6, 0.3),\n",
    "                arrowprops=dict(facecolor='#6E726D', shrink=0.05),\n",
    "                )\n",
    "    plt.legend()\n",
    "    \n",
    "graph_roc_curve_multiple(rand_fpr, rand_tpr, nav_fpr, nav_tpr,grad_fpr, grad_tpr, log_fpr, log_tpr, dt_fpr, dt_tpr)\n",
    "plt.show()"
   ]
  },
  {
   "cell_type": "code",
   "execution_count": 206,
   "metadata": {},
   "outputs": [
    {
     "name": "stdout",
     "output_type": "stream",
     "text": [
      "Requirement already satisfied: graphviz in c:\\users\\srika\\appdata\\local\\programs\\python\\python39\\lib\\site-packages (0.20.1)\n",
      "Note: you may need to restart the kernel to use updated packages.\n"
     ]
    }
   ],
   "source": [
    "pip install graphviz"
   ]
  },
  {
   "cell_type": "code",
   "execution_count": 207,
   "metadata": {},
   "outputs": [],
   "source": [
    "import graphviz"
   ]
  },
  {
   "cell_type": "code",
   "execution_count": 208,
   "metadata": {},
   "outputs": [],
   "source": [
    "from sklearn.tree import DecisionTreeClassifier, export_graphviz\n",
    "from sklearn import tree\n",
    "from sklearn.datasets import load_wine\n",
    "from IPython.display import SVG\n",
    "from graphviz import Source\n",
    "from IPython.display import display"
   ]
  },
  {
   "cell_type": "code",
   "execution_count": 209,
   "metadata": {},
   "outputs": [
    {
     "name": "stdout",
     "output_type": "stream",
     "text": [
      "Requirement already satisfied: pydotplus in c:\\users\\srika\\appdata\\local\\programs\\python\\python39\\lib\\site-packages (2.0.2)\n",
      "Requirement already satisfied: pyparsing>=2.0.1 in c:\\users\\srika\\appdata\\local\\programs\\python\\python39\\lib\\site-packages (from pydotplus) (2.4.7)\n",
      "Note: you may need to restart the kernel to use updated packages.\n"
     ]
    }
   ],
   "source": [
    "pip install pydotplus"
   ]
  },
  {
   "cell_type": "code",
   "execution_count": 210,
   "metadata": {},
   "outputs": [],
   "source": [
    "#from sklearn.externals.six import StringIO  \n",
    "from IPython.display import Image  \n",
    "from sklearn.tree import export_graphviz\n",
    "import pydotplus\n",
    "from six import StringIO"
   ]
  },
  {
   "cell_type": "code",
   "execution_count": 211,
   "metadata": {},
   "outputs": [
    {
     "ename": "InvocationException",
     "evalue": "GraphViz's executables not found",
     "output_type": "error",
     "traceback": [
      "\u001b[1;31m---------------------------------------------------------------------------\u001b[0m",
      "\u001b[1;31mInvocationException\u001b[0m                       Traceback (most recent call last)",
      "\u001b[1;32m~\\AppData\\Local\\Temp/ipykernel_27164/3457596745.py\u001b[0m in \u001b[0;36m<module>\u001b[1;34m\u001b[0m\n\u001b[0;32m      4\u001b[0m                 special_characters=True)\n\u001b[0;32m      5\u001b[0m \u001b[0mgraph\u001b[0m \u001b[1;33m=\u001b[0m \u001b[0mpydotplus\u001b[0m\u001b[1;33m.\u001b[0m\u001b[0mgraph_from_dot_data\u001b[0m\u001b[1;33m(\u001b[0m\u001b[0mdot_data\u001b[0m\u001b[1;33m.\u001b[0m\u001b[0mgetvalue\u001b[0m\u001b[1;33m(\u001b[0m\u001b[1;33m)\u001b[0m\u001b[1;33m)\u001b[0m\u001b[1;33m\u001b[0m\u001b[1;33m\u001b[0m\u001b[0m\n\u001b[1;32m----> 6\u001b[1;33m \u001b[0mImage\u001b[0m\u001b[1;33m(\u001b[0m\u001b[0mgraph\u001b[0m\u001b[1;33m.\u001b[0m\u001b[0mcreate_png\u001b[0m\u001b[1;33m(\u001b[0m\u001b[1;33m)\u001b[0m\u001b[1;33m)\u001b[0m\u001b[1;33m\u001b[0m\u001b[1;33m\u001b[0m\u001b[0m\n\u001b[0m",
      "\u001b[1;32m~\\AppData\\Local\\Programs\\Python\\Python39\\lib\\site-packages\\pydotplus\\graphviz.py\u001b[0m in \u001b[0;36m<lambda>\u001b[1;34m(f, prog)\u001b[0m\n\u001b[0;32m   1795\u001b[0m             self.__setattr__(\n\u001b[0;32m   1796\u001b[0m                 \u001b[1;34m'create_'\u001b[0m \u001b[1;33m+\u001b[0m \u001b[0mfrmt\u001b[0m\u001b[1;33m,\u001b[0m\u001b[1;33m\u001b[0m\u001b[1;33m\u001b[0m\u001b[0m\n\u001b[1;32m-> 1797\u001b[1;33m                 \u001b[1;32mlambda\u001b[0m \u001b[0mf\u001b[0m\u001b[1;33m=\u001b[0m\u001b[0mfrmt\u001b[0m\u001b[1;33m,\u001b[0m \u001b[0mprog\u001b[0m\u001b[1;33m=\u001b[0m\u001b[0mself\u001b[0m\u001b[1;33m.\u001b[0m\u001b[0mprog\u001b[0m\u001b[1;33m:\u001b[0m \u001b[0mself\u001b[0m\u001b[1;33m.\u001b[0m\u001b[0mcreate\u001b[0m\u001b[1;33m(\u001b[0m\u001b[0mformat\u001b[0m\u001b[1;33m=\u001b[0m\u001b[0mf\u001b[0m\u001b[1;33m,\u001b[0m \u001b[0mprog\u001b[0m\u001b[1;33m=\u001b[0m\u001b[0mprog\u001b[0m\u001b[1;33m)\u001b[0m\u001b[1;33m\u001b[0m\u001b[1;33m\u001b[0m\u001b[0m\n\u001b[0m\u001b[0;32m   1798\u001b[0m             )\n\u001b[0;32m   1799\u001b[0m             \u001b[0mf\u001b[0m \u001b[1;33m=\u001b[0m \u001b[0mself\u001b[0m\u001b[1;33m.\u001b[0m\u001b[0m__dict__\u001b[0m\u001b[1;33m[\u001b[0m\u001b[1;34m'create_'\u001b[0m \u001b[1;33m+\u001b[0m \u001b[0mfrmt\u001b[0m\u001b[1;33m]\u001b[0m\u001b[1;33m\u001b[0m\u001b[1;33m\u001b[0m\u001b[0m\n",
      "\u001b[1;32m~\\AppData\\Local\\Programs\\Python\\Python39\\lib\\site-packages\\pydotplus\\graphviz.py\u001b[0m in \u001b[0;36mcreate\u001b[1;34m(self, prog, format)\u001b[0m\n\u001b[0;32m   1957\u001b[0m             \u001b[0mself\u001b[0m\u001b[1;33m.\u001b[0m\u001b[0mprogs\u001b[0m \u001b[1;33m=\u001b[0m \u001b[0mfind_graphviz\u001b[0m\u001b[1;33m(\u001b[0m\u001b[1;33m)\u001b[0m\u001b[1;33m\u001b[0m\u001b[1;33m\u001b[0m\u001b[0m\n\u001b[0;32m   1958\u001b[0m             \u001b[1;32mif\u001b[0m \u001b[0mself\u001b[0m\u001b[1;33m.\u001b[0m\u001b[0mprogs\u001b[0m \u001b[1;32mis\u001b[0m \u001b[1;32mNone\u001b[0m\u001b[1;33m:\u001b[0m\u001b[1;33m\u001b[0m\u001b[1;33m\u001b[0m\u001b[0m\n\u001b[1;32m-> 1959\u001b[1;33m                 raise InvocationException(\n\u001b[0m\u001b[0;32m   1960\u001b[0m                     'GraphViz\\'s executables not found')\n\u001b[0;32m   1961\u001b[0m \u001b[1;33m\u001b[0m\u001b[0m\n",
      "\u001b[1;31mInvocationException\u001b[0m: GraphViz's executables not found"
     ]
    }
   ],
   "source": [
    "dot_data = StringIO()\n",
    "export_graphviz(dt_clf, out_file=dot_data,  \n",
    "                filled=True, rounded=True,\n",
    "                special_characters=True)\n",
    "graph = pydotplus.graph_from_dot_data(dot_data.getvalue())  \n",
    "Image(graph.create_png())"
   ]
  },
  {
   "cell_type": "code",
   "execution_count": null,
   "metadata": {},
   "outputs": [],
   "source": [
    "graph = Source(tree.export_graphviz(dt_clf, out_file=None\n",
    "   , feature_names=list(X_train.columns), class_names=['0', '1'] \n",
    "   , filled = True))"
   ]
  },
  {
   "cell_type": "code",
   "execution_count": null,
   "metadata": {},
   "outputs": [],
   "source": [
    "display(SVG(graph.pipe(format='svg')))"
   ]
  },
  {
   "cell_type": "code",
   "execution_count": null,
   "metadata": {},
   "outputs": [],
   "source": [
    "pip install git+https://github.com/nekoumei/dtreeplt.git -U"
   ]
  },
  {
   "cell_type": "code",
   "execution_count": null,
   "metadata": {},
   "outputs": [],
   "source": [
    "import dtreeplt\n",
    "from dtreeplt import dtreeplt\n",
    "dtree = dtreeplt(\n",
    "    model=model,\n",
    "    feature_names=list(X_train.columns),\n",
    "    target_names=list(y_train)\n",
    ")\n",
    "fig = dtree.view()"
   ]
  },
  {
   "cell_type": "code",
   "execution_count": null,
   "metadata": {},
   "outputs": [],
   "source": [
    "dot_data = tree.export_graphviz(dt_clf,\n",
    "                                feature_names=list(X_train.columns),\n",
    "                                out_file=None,\n",
    "                                filled=True,\n",
    "                                rounded=True)\n",
    "graph = pydotplus.graph_from_dot_data(dot_data)"
   ]
  },
  {
   "cell_type": "code",
   "execution_count": null,
   "metadata": {},
   "outputs": [],
   "source": [
    "import collections\n",
    "colors = ('turquoise', 'orange')\n",
    "edges = collections.defaultdict(list)\n",
    "\n",
    "for edge in graph.get_edge_list():\n",
    "    edges[edge.get_source()].append(int(edge.get_destination()))\n",
    "\n",
    "for edge in edges:\n",
    "    edges[edge].sort()    \n",
    "    for i in range(2):\n",
    "        dest = graph.get_node(str(edges[edge][i]))[0]\n",
    "        dest.set_fillcolor(colors[i])\n",
    "\n",
    "#graph.write_png('tree.png')"
   ]
  },
  {
   "cell_type": "code",
   "execution_count": null,
   "metadata": {},
   "outputs": [],
   "source": [
    "graph.write_pdf(\"iris.pdf\")"
   ]
  },
  {
   "cell_type": "code",
   "execution_count": null,
   "metadata": {},
   "outputs": [],
   "source": [
    "from sklearn.ensemble import ExtraTreesClassifier\n",
    "model = ExtraTreesClassifier()\n",
    "model.fit(X_train, y_train)"
   ]
  },
  {
   "cell_type": "code",
   "execution_count": null,
   "metadata": {},
   "outputs": [],
   "source": [
    "print(model.feature_importances_)"
   ]
  },
  {
   "cell_type": "code",
   "execution_count": null,
   "metadata": {},
   "outputs": [],
   "source": [
    "importances = rand_clf.feature_importances_"
   ]
  },
  {
   "cell_type": "code",
   "execution_count": null,
   "metadata": {},
   "outputs": [],
   "source": [
    "# Sort feature importances in descending order\n",
    "indices = np.argsort(importances)[::-1]\n",
    "\n",
    "# Rearrange feature names so they match the sorted feature importances\n",
    "names = [X_train.columns[i] for i in indices]\n",
    "\n",
    "# Create plot\n",
    "plt.figure()\n",
    "\n",
    "# Create plot title\n",
    "plt.title(\"Feature Importance\")\n",
    "\n",
    "# Add bars\n",
    "plt.bar(range(X_train.shape[1]), importances[indices])\n",
    "\n",
    "# Add feature names as x-axis labels\n",
    "plt.xticks(range(X_train.shape[1]), names, rotation=90)\n",
    "\n",
    "# Show plot\n",
    "plt.show()"
   ]
  },
  {
   "cell_type": "code",
   "execution_count": null,
   "metadata": {},
   "outputs": [],
   "source": [
    "indices"
   ]
  },
  {
   "cell_type": "code",
   "execution_count": null,
   "metadata": {},
   "outputs": [],
   "source": [
    "importances"
   ]
  },
  {
   "cell_type": "code",
   "execution_count": null,
   "metadata": {},
   "outputs": [],
   "source": [
    "names"
   ]
  },
  {
   "cell_type": "code",
   "execution_count": null,
   "metadata": {},
   "outputs": [],
   "source": [
    "#bow with top n words"
   ]
  },
  {
   "cell_type": "code",
   "execution_count": null,
   "metadata": {},
   "outputs": [],
   "source": [
    "words = []\n",
    "for k in range(len(corpus)):\n",
    "    tweet_k = corpus[k].split(\" \")\n",
    "    for m in range(len(tweet_k)):\n",
    "        words.append(tweet_k[m])\n"
   ]
  },
  {
   "cell_type": "code",
   "execution_count": null,
   "metadata": {},
   "outputs": [],
   "source": [
    "from collections import Counter"
   ]
  },
  {
   "cell_type": "code",
   "execution_count": null,
   "metadata": {},
   "outputs": [],
   "source": [
    "counter_obj = Counter(words)\n",
    "top100 = counter_obj.most_common(1000)\n",
    "top100words = []\n",
    "for i in range(len(top100)):\n",
    "    top100words.append(top100[i][0])"
   ]
  },
  {
   "cell_type": "code",
   "execution_count": null,
   "metadata": {},
   "outputs": [],
   "source": [
    "lst3 = [value for value in list(bow.columns) if value in top100words] "
   ]
  },
  {
   "cell_type": "code",
   "execution_count": null,
   "metadata": {},
   "outputs": [],
   "source": [
    "bow100 = bow[lst3]"
   ]
  },
  {
   "cell_type": "code",
   "execution_count": null,
   "metadata": {},
   "outputs": [],
   "source": [
    "bow100['labelxyz'] = list(ds.label)\n",
    "bow_hate = bow100[bow100.labelxyz == 1]\n",
    "bow_nonhate = bow100[bow100.labelxyz == 0]\n",
    "X_train_hate = bow_hate.sample(frac=0.9, random_state=0)\n",
    "X_test_hate = bow_hate.drop(X_train_hate.index)\n",
    "X_train_nonhate =  bow_nonhate.sample(frac=0.406, random_state=0)\n",
    "X_test_nonhate = bow_nonhate.drop(X_train_nonhate.index)\n",
    "X_train_df = pd.concat([X_train_hate, X_train_nonhate], axis = 0)\n",
    "X_train = X_train_df.drop(['labelxyz'], axis = 1)\n",
    "y_train = list(X_train_df.labelxyz)\n",
    "X_test_df = pd.concat([X_test_hate, X_test_nonhate], axis = 0)\n",
    "X_test = X_test_df.drop(['labelxyz'], axis = 1)\n",
    "y_test = list(X_test_df.labelxyz)"
   ]
  },
  {
   "cell_type": "code",
   "execution_count": null,
   "metadata": {},
   "outputs": [],
   "source": [
    "log_reg = LogisticRegression()\n",
    "log_reg.fit(X_train, y_train)"
   ]
  },
  {
   "cell_type": "code",
   "execution_count": null,
   "metadata": {},
   "outputs": [],
   "source": [
    "tp = []\n",
    "tn = []\n",
    "overall_acc = []\n",
    "for i in range(100):\n",
    "    threshold = (i+1)/100\n",
    "    decisions = (log_reg.predict_proba(X_test) >= threshold).astype(int)\n",
    "    p = []\n",
    "    for j in range(len(y_test)):\n",
    "        p.append(1 - decisions[j][0])\n",
    "    conf = confusion_matrix(y_test,p)\n",
    "    tp.append(conf[0][0]/(conf[0][0] + conf[0][1]))\n",
    "    tn.append(conf[1][1]/(conf[1][1] + conf[1][0]))\n",
    "    overall_acc.append((conf[0][0] + conf[1][1])/len(y_test))"
   ]
  },
  {
   "cell_type": "code",
   "execution_count": null,
   "metadata": {},
   "outputs": [],
   "source": [
    "import numpy as np\n",
    "thresh = list(np.linspace(0.01,1,100))\n",
    "plt.plot(thresh,tp,color='green')\n",
    "plt.plot(thresh, tn, color='red')\n",
    "plt.plot(thresh, overall_acc, color='black')\n",
    "plt.axvline(0.6)\n",
    "plt.axvline(0.5, linestyle='dashed')"
   ]
  },
  {
   "cell_type": "code",
   "execution_count": null,
   "metadata": {},
   "outputs": [],
   "source": [
    "from sklearn.metrics import accuracy_score\n",
    "nav_clf.fit(X_train, y_train)\n",
    "predict_nav = nav_clf.predict(X_test)\n",
    "print('naive bayes')\n",
    "print(accuracy_score(y_test, predict_nav))\n",
    "from sklearn.metrics import confusion_matrix\n",
    "print(confusion_matrix(y_test, predict_nav))\n",
    "\n",
    "rand_clf = RandomForestClassifier()\n",
    "rand_clf.fit(X_train, y_train)\n",
    "predict = rand_clf.predict(X_test)\n",
    "print('random forest')\n",
    "print(accuracy_score(y_test, predict))\n",
    "print(confusion_matrix(y_test, predict))\n",
    "\n",
    "dt_clf = tree.DecisionTreeClassifier()\n",
    "dt_clf.fit(X_train, y_train)\n",
    "predict_dt = dt_clf.predict(X_test)\n",
    "print('decision tree')\n",
    "print(accuracy_score(y_test, predict_dt))\n",
    "print(confusion_matrix(y_test, predict_nav))\n",
    "\n",
    "from sklearn.ensemble import GradientBoostingClassifier\n",
    "grad_clf = GradientBoostingClassifier()\n",
    "grad_clf.fit(X_train, y_train)\n",
    "print('gradient boosting')\n",
    "predict_grad = grad_clf.predict(X_test)\n",
    "print(accuracy_score(y_test, predict_grad))\n",
    "print(confusion_matrix(y_test, predict_grad))"
   ]
  },
  {
   "cell_type": "code",
   "execution_count": null,
   "metadata": {},
   "outputs": [],
   "source": [
    "log_reg = LogisticRegression()\n",
    "log_reg.fit(X_train, y_train)\n",
    "predict_log = log_reg.predict(X_test)\n",
    "accuracy_score(y_test, predict_log)"
   ]
  },
  {
   "cell_type": "code",
   "execution_count": null,
   "metadata": {},
   "outputs": [],
   "source": [
    "print(confusion_matrix(y_test, predict_log))"
   ]
  },
  {
   "cell_type": "code",
   "execution_count": null,
   "metadata": {},
   "outputs": [],
   "source": [
    "decisions = (log_reg.predict_proba(X_test) >= 0.5).astype(int)\n",
    "p = []\n",
    "for j in range(len(y_test)):\n",
    "    p.append(1 - decisions[j][0])\n",
    "from sklearn.metrics import roc_curve\n",
    "from sklearn.metrics import roc_auc_score\n",
    "\n",
    "print('Logistic Regression Score: ', roc_auc_score(y_test, p))\n",
    "print('Naive Bayes Score: ', roc_auc_score(y_test, predict_nav))\n",
    "print('Random Forest Score: ', roc_auc_score(y_test, predict))\n",
    "print('Decision Tree Score: ', roc_auc_score(y_test, predict_dt))\n",
    "print('Grad Boosting Score: ', roc_auc_score(y_test, predict_grad))\n"
   ]
  },
  {
   "cell_type": "code",
   "execution_count": null,
   "metadata": {},
   "outputs": [],
   "source": [
    "from sklearn.metrics import roc_curve\n",
    "\n",
    "log_fpr, log_tpr, threshold = roc_curve(y_test,p)\n",
    "nav_fpr, nav_tpr, threshold = roc_curve(y_test, predict_nav)\n",
    "rand_fpr, rand_tpr, thresold = roc_curve(y_test, predict)\n",
    "dt_fpr, dt_tpr, threshold = roc_curve(y_test, predict_dt)\n",
    "grad_fpr, grad_tpr, threshold = roc_curve(y_test, predict_grad)\n",
    "\n",
    "#nav_fpr, nav_tpr, nav_threshold = roc_curve(y_train, naives_y_scores)\n",
    "\n",
    "def graph_roc_curve_multiple(rand_fpr, rand_tpr, nav_fpr, nav_tpr,grad_fpr, grad_tpr, log_fpr, log_tpr, dt_fpr, dt_tpr):\n",
    "    plt.figure(figsize=(8,6))\n",
    "    plt.title('ROC Curve \\n Classifiers', fontsize=18)\n",
    "    plt.plot(rand_fpr, rand_tpr, label='random forest')\n",
    "    plt.plot(nav_fpr, nav_tpr, label='Naive Bayes')\n",
    "    plt.plot(grad_fpr, grad_tpr, label='Gradient Boosting')\n",
    "    plt.plot(log_fpr, log_tpr, label='Logistic Regression')\n",
    "    plt.plot(dt_fpr, dt_tpr, label='decision tree')\n",
    "    plt.plot([0, 1], [0, 1], 'k--')\n",
    "    plt.axis([0, 1, 0, 1])\n",
    "    plt.xlabel('False Positive Rate', fontsize=16)\n",
    "    plt.ylabel('True Positive Rate', fontsize=16)\n",
    "    plt.annotate('Minimum ROC Score of 50% \\n (This is the minimum score to get)', xy=(0.5, 0.5), xytext=(0.6, 0.3),\n",
    "                arrowprops=dict(facecolor='#6E726D', shrink=0.05),\n",
    "                )\n",
    "    plt.legend()\n",
    "    \n",
    "graph_roc_curve_multiple(rand_fpr, rand_tpr, nav_fpr, nav_tpr,grad_fpr, grad_tpr, log_fpr, log_tpr, dt_fpr, dt_tpr)\n",
    "plt.show()"
   ]
  },
  {
   "cell_type": "code",
   "execution_count": null,
   "metadata": {},
   "outputs": [],
   "source": []
  },
  {
   "cell_type": "code",
   "execution_count": null,
   "metadata": {},
   "outputs": [],
   "source": []
  },
  {
   "cell_type": "code",
   "execution_count": null,
   "metadata": {},
   "outputs": [],
   "source": []
  },
  {
   "cell_type": "code",
   "execution_count": null,
   "metadata": {},
   "outputs": [],
   "source": [
    "#bigrams"
   ]
  },
  {
   "cell_type": "code",
   "execution_count": null,
   "metadata": {},
   "outputs": [],
   "source": [
    "import re"
   ]
  },
  {
   "cell_type": "code",
   "execution_count": null,
   "metadata": {},
   "outputs": [],
   "source": [
    "from nltk.util import ngrams"
   ]
  },
  {
   "cell_type": "code",
   "execution_count": null,
   "metadata": {},
   "outputs": [],
   "source": [
    "unigramList = []\n",
    "for i in range(ds.shape[0]):\n",
    "    s = ds.iloc[i][0]\n",
    "    #s = str(s)\n",
    "    s = s.lower()\n",
    "    s = re.sub(r'[^a-zA-Z0-9\\s]', ' ', s)\n",
    "    tokens = [token for token in s.split(\" \") if token != \"\"]\n",
    "    output = list(ngrams(tokens, 1))\n",
    "    unigramList.append(output)"
   ]
  },
  {
   "cell_type": "code",
   "execution_count": null,
   "metadata": {},
   "outputs": [],
   "source": [
    "actualUnigramList = []\n",
    "for i in range(len(unigramList)):\n",
    "    #temp = []\n",
    "    for j in range(len(unigramList[i])):\n",
    "        actualUnigramList.append(\" \".join(unigramList[i][j]))\n",
    "    #actualBigramList.append(temp)"
   ]
  },
  {
   "cell_type": "code",
   "execution_count": null,
   "metadata": {},
   "outputs": [],
   "source": [
    "uniqueUnigramList = [] \n",
    "[uniqueUnigramList.append(x) for x in actualUnigramList if x not in uniqueUnigramList] \n",
    "uniqueUnigramList"
   ]
  },
  {
   "cell_type": "code",
   "execution_count": null,
   "metadata": {},
   "outputs": [],
   "source": [
    "bigramList = []\n",
    "for i in range(ds.shape[0]):\n",
    "    s = ds.iloc[i][0]\n",
    "    s = s.lower()\n",
    "    s = re.sub(r'[^a-zA-Z0-9\\s]', ' ', s)\n",
    "    tokens = [token for token in s.split(\" \") if token != \"\"]\n",
    "    output = list(ngrams(tokens, 2))\n",
    "    bigramList.append(output)"
   ]
  },
  {
   "cell_type": "code",
   "execution_count": null,
   "metadata": {},
   "outputs": [],
   "source": [
    "#bigramList[0] - first tweet bigrams\n",
    "#len(bigramList[0])\n",
    "actualBigramList = []\n",
    "for i in range(len(bigramList)):\n",
    "    #temp = []\n",
    "    for j in range(len(bigramList[i])):\n",
    "        actualBigramList.append(\" \".join(bigramList[i][j]))\n",
    "    #actualBigramList.append(temp)\n",
    "        \n",
    "    "
   ]
  },
  {
   "cell_type": "code",
   "execution_count": null,
   "metadata": {},
   "outputs": [],
   "source": [
    "actualBigramList"
   ]
  },
  {
   "cell_type": "code",
   "execution_count": null,
   "metadata": {},
   "outputs": [],
   "source": [
    "uniqueBigramList = [] \n",
    "[uniqueBigramList.append(x) for x in actualBigramList if x not in uniqueBigramList] \n",
    "uniqueBigramList"
   ]
  },
  {
   "cell_type": "code",
   "execution_count": null,
   "metadata": {},
   "outputs": [],
   "source": [
    "gramList12 = uniqueUnigramList + uniqueBigramList"
   ]
  },
  {
   "cell_type": "code",
   "execution_count": null,
   "metadata": {},
   "outputs": [],
   "source": [
    "trigramList = []\n",
    "for i in range(ds.shape[0]):\n",
    "    s = ds.iloc[i][1]\n",
    "    s = s.lower()\n",
    "    s = re.sub(r'[^a-zA-Z0-9\\s]', ' ', s)\n",
    "    tokens = [token for token in s.split(\" \") if token != \"\"]\n",
    "    output = list(ngrams(tokens, 3))\n",
    "    trigramList.append(output)"
   ]
  },
  {
   "cell_type": "code",
   "execution_count": null,
   "metadata": {},
   "outputs": [],
   "source": [
    "actualTrigramList = []\n",
    "for i in range(len(trigramList)):\n",
    "    #temp = []\n",
    "    for j in range(len(trigramList[i])):\n",
    "        actualTrigramList.append(\" \".join(trigramList[i][j]))\n",
    "    #actualBigramList.append(temp)"
   ]
  },
  {
   "cell_type": "code",
   "execution_count": null,
   "metadata": {},
   "outputs": [],
   "source": [
    "uniqueTrigramList = [] \n",
    "[uniqueTrigramList.append(x) for x in actualTrigramList if x not in uniqueTrigramList] \n",
    "uniqueTrigramList"
   ]
  },
  {
   "cell_type": "code",
   "execution_count": null,
   "metadata": {},
   "outputs": [],
   "source": []
  },
  {
   "cell_type": "code",
   "execution_count": null,
   "metadata": {},
   "outputs": [],
   "source": [
    "#replace the 2 in the end with 3 for trigrams\n",
    "tfidf2 = TfidfVectorizer(vocabulary = uniqueBigramList, ngram_range=(1,2))"
   ]
  },
  {
   "cell_type": "code",
   "execution_count": null,
   "metadata": {},
   "outputs": [],
   "source": [
    "tfs2 = tfidf2.fit_transform(corpus)"
   ]
  },
  {
   "cell_type": "code",
   "execution_count": null,
   "metadata": {},
   "outputs": [],
   "source": []
  },
  {
   "cell_type": "code",
   "execution_count": null,
   "metadata": {},
   "outputs": [],
   "source": [
    "feature_names = tfidf2.get_feature_names()\n",
    "dense = tfs2.todense()\n",
    "denselist = dense.tolist()\n",
    "df_bi = pd.DataFrame(denselist, columns=feature_names)\n",
    "df_bi"
   ]
  },
  {
   "cell_type": "code",
   "execution_count": null,
   "metadata": {},
   "outputs": [],
   "source": [
    "from sklearn.model_selection import train_test_split\n",
    "X_train2, X_test2, y_train2, y_test2 = train_test_split(df_bi, list(ds.label), test_size=0.2)"
   ]
  },
  {
   "cell_type": "code",
   "execution_count": null,
   "metadata": {},
   "outputs": [],
   "source": []
  },
  {
   "cell_type": "code",
   "execution_count": null,
   "metadata": {},
   "outputs": [],
   "source": []
  },
  {
   "cell_type": "code",
   "execution_count": null,
   "metadata": {},
   "outputs": [],
   "source": []
  },
  {
   "cell_type": "code",
   "execution_count": null,
   "metadata": {},
   "outputs": [],
   "source": [
    "# Use Cross-validation.\n",
    "from sklearn.model_selection import cross_val_score\n",
    "\n",
    "# Logistic Regression\n",
    "log_reg = LogisticRegression()\n",
    "log_scores = cross_val_score(log_reg, X_train2, y_train2, cv=3)\n",
    "log_reg_mean = log_scores.mean()\n",
    "\n",
    "\n",
    "# Naives Bayes\n",
    "nav_clf = GaussianNB()\n",
    "nav_scores = cross_val_score(nav_clf, X_train2, y_train2, cv=3)\n",
    "nav_mean = nav_scores.mean()\n",
    "\n",
    "\n",
    "# Create a Dataframe with the results.\n",
    "d = {'Classifiers': ['Logistic Reg.', 'Naives Bayes'], \n",
    "    'Crossval Mean Scores': [log_reg_mean, nav_mean]}\n",
    "\n",
    "result_df = pd.DataFrame(data=d)"
   ]
  },
  {
   "cell_type": "code",
   "execution_count": null,
   "metadata": {},
   "outputs": [],
   "source": [
    "result_df"
   ]
  },
  {
   "cell_type": "code",
   "execution_count": null,
   "metadata": {},
   "outputs": [],
   "source": [
    "from sklearn.metrics import accuracy_score\n",
    "nav_clf.fit(X_train2, y_train2)\n",
    "predict_nav = nav_clf.predict(X_test2)\n",
    "accuracy_score(y_test2, predict_nav)"
   ]
  },
  {
   "cell_type": "code",
   "execution_count": null,
   "metadata": {},
   "outputs": [],
   "source": [
    "log_reg.fit(X_train2, y_train2)\n",
    "predict_log = log_reg.predict(X_test2)\n",
    "accuracy_score(y_test2, predict_log)"
   ]
  },
  {
   "cell_type": "code",
   "execution_count": null,
   "metadata": {},
   "outputs": [],
   "source": []
  },
  {
   "cell_type": "code",
   "execution_count": null,
   "metadata": {},
   "outputs": [],
   "source": []
  },
  {
   "cell_type": "code",
   "execution_count": null,
   "metadata": {},
   "outputs": [],
   "source": [
    "#simple bag of words"
   ]
  },
  {
   "cell_type": "code",
   "execution_count": null,
   "metadata": {},
   "outputs": [],
   "source": [
    "from sklearn.feature_extraction.text import CountVectorizer"
   ]
  },
  {
   "cell_type": "code",
   "execution_count": null,
   "metadata": {},
   "outputs": [],
   "source": [
    "cv = CountVectorizer()\n",
    "X = cv.fit_transform(corpus)"
   ]
  },
  {
   "cell_type": "code",
   "execution_count": null,
   "metadata": {},
   "outputs": [],
   "source": [
    "X"
   ]
  },
  {
   "cell_type": "code",
   "execution_count": null,
   "metadata": {},
   "outputs": [],
   "source": [
    "cv.get_feature_names()"
   ]
  },
  {
   "cell_type": "code",
   "execution_count": null,
   "metadata": {},
   "outputs": [],
   "source": [
    "bow = pd.DataFrame(X.toarray(), columns = cv.get_feature_names())"
   ]
  },
  {
   "cell_type": "code",
   "execution_count": null,
   "metadata": {},
   "outputs": [],
   "source": [
    "from sklearn.model_selection import train_test_split\n",
    "X_train, X_test, y_train, y_test = train_test_split(bow, list(ds.label), test_size=0.2)"
   ]
  },
  {
   "cell_type": "code",
   "execution_count": null,
   "metadata": {},
   "outputs": [],
   "source": []
  },
  {
   "cell_type": "code",
   "execution_count": null,
   "metadata": {},
   "outputs": [],
   "source": [
    "# Use Cross-validation.\n",
    "from sklearn.model_selection import cross_val_score\n",
    "\n",
    "# Logistic Regression\n",
    "log_reg = LogisticRegression()\n",
    "log_scores = cross_val_score(log_reg, X_train, y_train, cv=3)\n",
    "log_reg_mean = log_scores.mean()\n",
    "\n",
    "\n",
    "# Naives Bayes\n",
    "nav_clf = GaussianNB()\n",
    "nav_scores = cross_val_score(nav_clf, X_train, y_train, cv=3)\n",
    "nav_mean = nav_scores.mean()\n",
    "\n",
    "\n",
    "# Create a Dataframe with the results.\n",
    "d = {'Classifiers': ['Logistic Reg.', 'Naives Bayes'], \n",
    "    'Crossval Mean Scores': [log_reg_mean, nav_mean]}\n",
    "\n",
    "result_df = pd.DataFrame(data=d)"
   ]
  },
  {
   "cell_type": "code",
   "execution_count": null,
   "metadata": {},
   "outputs": [],
   "source": [
    "result_df"
   ]
  },
  {
   "cell_type": "code",
   "execution_count": null,
   "metadata": {},
   "outputs": [],
   "source": [
    "log_reg.fit(X_train, y_train)\n",
    "predict_log = log_reg.predict(X_test)\n",
    "accuracy_score(y_test, predict_log)"
   ]
  },
  {
   "cell_type": "code",
   "execution_count": null,
   "metadata": {},
   "outputs": [],
   "source": []
  }
 ],
 "metadata": {
  "kernelspec": {
   "display_name": "Python 3 (ipykernel)",
   "language": "python",
   "name": "python3"
  },
  "language_info": {
   "codemirror_mode": {
    "name": "ipython",
    "version": 3
   },
   "file_extension": ".py",
   "mimetype": "text/x-python",
   "name": "python",
   "nbconvert_exporter": "python",
   "pygments_lexer": "ipython3",
   "version": "3.9.7"
  }
 },
 "nbformat": 4,
 "nbformat_minor": 2
}
